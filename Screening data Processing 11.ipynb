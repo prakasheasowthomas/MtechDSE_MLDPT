{
 "cells": [
  {
   "cell_type": "markdown",
   "id": "5b35ba35",
   "metadata": {},
   "source": [
    "<center><h1 style=\"color:#1a1a1a;\n",
    "                    font-size:3em\">\n",
    "        NHANES - MTech Project \n",
    "        </h1> \n",
    "        <h2 style=\"color:#1a1a1a;\n",
    "                    font-size:2em\">\n",
    "        Categorizing the data based on the Pre-Diabetic Risk test (Screening Tool) by ADA Guidelines \n",
    "            <h6> (https://www.cdc.gov/diabetes/prevention/pdf/Prediabetes-Risk-Test-Final.pdf)</h6>\n",
    "       </h2>\n",
    "       <h3 style=\"color:#1a1a1a;\n",
    "                    font-size:2em\">\n",
    "        Prakash Easow Thomas - 2022DA04285 - June 2024\n",
    "       </h3>\n",
    "</center>"
   ]
  },
  {
   "cell_type": "code",
   "execution_count": 2,
   "id": "c50efd5f",
   "metadata": {},
   "outputs": [],
   "source": [
    "import os\n",
    "import pandas as pd\n",
    "import numpy as np\n",
    "import seaborn as sns\n",
    "import matplotlib.pyplot as plt\n",
    "from sklearn.feature_selection import SelectKBest, f_classif\n",
    "from sklearn.preprocessing import LabelEncoder"
   ]
  },
  {
   "cell_type": "code",
   "execution_count": 3,
   "id": "2362a39b",
   "metadata": {},
   "outputs": [],
   "source": [
    "df1quest  = pd.read_csv('C:\\Prakash\\Personal\\Studies\\Techincal\\MTech. Data Science and Engineering\\Semester-wise\\Semester-I\\Study\\Sem-I - 0- Python Fundamentals for Data Science (S1-22_DSECLPFDS)\\PythonPgm\\MTech-Proj03-NHANES-2018\\Data\\questionnaire.csv')\n",
    "df2lab    = pd.read_csv('C:\\Prakash\\Personal\\Studies\\Techincal\\MTech. Data Science and Engineering\\Semester-wise\\Semester-I\\Study\\Sem-I - 0- Python Fundamentals for Data Science (S1-22_DSECLPFDS)\\PythonPgm\\MTech-Proj03-NHANES-2018\\Data\\laboratory.csv')\n",
    "df3exam   = pd.read_csv('C:\\Prakash\\Personal\\Studies\\Techincal\\MTech. Data Science and Engineering\\Semester-wise\\Semester-I\\Study\\Sem-I - 0- Python Fundamentals for Data Science (S1-22_DSECLPFDS)\\PythonPgm\\MTech-Proj03-NHANES-2018\\Data\\examination.csv')\n",
    "df4demo   = pd.read_csv('C:\\Prakash\\Personal\\Studies\\Techincal\\MTech. Data Science and Engineering\\Semester-wise\\Semester-I\\Study\\Sem-I - 0- Python Fundamentals for Data Science (S1-22_DSECLPFDS)\\PythonPgm\\MTech-Proj03-NHANES-2018\\Data\\demographics.csv')\n"
   ]
  },
  {
   "cell_type": "code",
   "execution_count": 4,
   "id": "3daeac07",
   "metadata": {},
   "outputs": [],
   "source": [
    "common_key = 'SEQN'\n",
    "# Merge the DataFrames\n",
    "merged_dfNHAENES2018 = df1quest.merge(df2lab, on=common_key, how='outer')\n",
    "merged_dfNHAENES2018 = merged_dfNHAENES2018.merge(df3exam, on=common_key, how='outer')\n",
    "merged_dfNHAENES2018 = merged_dfNHAENES2018.merge(df4demo, on=common_key, how='outer')\n"
   ]
  },
  {
   "cell_type": "code",
   "execution_count": 5,
   "id": "54fce795",
   "metadata": {},
   "outputs": [],
   "source": [
    "columns_to_select = ['SEQN',                                        # Sequence No\n",
    "                     'RIDAGEYR',                                    # Age\n",
    "                     'RIAGENDR',                                    # Gender\n",
    "                     'RHQ162',                                      # Gestational Diabetes\n",
    "                     'DIQ175A',                                     # Family History\n",
    "                     'BPXOSY1','BPXODI1',                           # Systolic (>120) and Diastoilc > 80\n",
    "                     'PAQ605','PAQ620','PAQ650','PAQ665', 'PAQ706', # Physically Active \n",
    "                     'BMXBMI',                                      # Body Mass Index\n",
    "                     'BMXWT',                                       # Body Weight\n",
    "                     'BMXHT',                                       # Height\n",
    "                     'RIDRETH3',                                    # Race\n",
    "                     'LBXGH',                                       # HbA1c\n",
    "                     'LBXGLU'                                       # Fasting Blood Sugar\n",
    "                     ]"
   ]
  },
  {
   "cell_type": "code",
   "execution_count": 6,
   "id": "06e8a394",
   "metadata": {},
   "outputs": [
    {
     "name": "stdout",
     "output_type": "stream",
     "text": [
      "Index(['SEQN', 'RIDAGEYR', 'RIAGENDR', 'RHQ162', 'DIQ175A', 'BPXOSY1',\n",
      "       'BPXODI1', 'PAQ605', 'PAQ620', 'PAQ650', 'PAQ665', 'PAQ706', 'BMXBMI',\n",
      "       'BMXWT', 'BMXHT', 'RIDRETH3', 'LBXGH', 'LBXGLU'],\n",
      "      dtype='object')\n"
     ]
    }
   ],
   "source": [
    "# Ensure the columns to select are in the DataFrame\n",
    "valid_columns = pd.Index(columns_to_select).intersection(merged_dfNHAENES2018.columns)\n",
    "                                                         \n",
    "print(valid_columns)\n",
    "# Select only the valid columns\n",
    "merged_dfNHAENES2018_selected = merged_dfNHAENES2018[columns_to_select]"
   ]
  },
  {
   "cell_type": "code",
   "execution_count": 7,
   "id": "26afb36a",
   "metadata": {},
   "outputs": [
    {
     "name": "stdout",
     "output_type": "stream",
     "text": [
      "          SEQN  RIDAGEYR  RIAGENDR  RHQ162  DIQ175A  BPXOSY1  BPXODI1  PAQ605  \\\n",
      "0      93703.0       2.0       2.0     NaN      NaN      NaN      NaN     NaN   \n",
      "1      93704.0       2.0       1.0     NaN      NaN      NaN      NaN     NaN   \n",
      "2      93705.0      66.0       2.0     2.0      NaN    164.0     66.0     2.0   \n",
      "3      93706.0      18.0       1.0     NaN      NaN    126.0     74.0     2.0   \n",
      "4      93707.0      13.0       1.0     NaN      NaN    136.0     71.0     NaN   \n",
      "...        ...       ...       ...     ...      ...      ...      ...     ...   \n",
      "9249  102952.0      70.0       2.0     2.0      NaN    154.0     92.0     2.0   \n",
      "9250  102953.0      42.0       1.0     NaN      NaN    135.0     91.0     1.0   \n",
      "9251  102954.0      41.0       2.0     2.0      NaN    123.0     75.0     2.0   \n",
      "9252  102955.0      14.0       2.0     NaN      NaN     92.0     64.0     NaN   \n",
      "9253  102956.0      38.0       1.0     NaN      NaN    143.0    100.0     2.0   \n",
      "\n",
      "      PAQ620  PAQ650  PAQ665  PAQ706  BMXBMI  BMXWT  BMXHT  RIDRETH3  LBXGH  \\\n",
      "0        NaN     NaN     NaN     7.0    17.5   13.7   88.6       6.0    NaN   \n",
      "1        NaN     NaN     NaN     7.0    15.7   13.9   94.2       3.0    NaN   \n",
      "2        2.0     2.0     1.0     NaN    31.7   79.5  158.3       4.0    6.2   \n",
      "3        2.0     2.0     1.0     NaN    21.5   66.3  175.7       6.0    5.2   \n",
      "4        NaN     NaN     NaN     0.0    18.1   45.4  158.4       7.0    5.6   \n",
      "...      ...     ...     ...     ...     ...    ...    ...       ...    ...   \n",
      "9249     2.0     2.0     1.0     NaN    20.0   49.0  156.5       6.0    7.4   \n",
      "9250     1.0     2.0     2.0     NaN    35.8   97.4  164.9       1.0    5.9   \n",
      "9251     2.0     2.0     1.0     NaN    26.1   69.1  162.6       4.0    5.2   \n",
      "9252     NaN     NaN     NaN     4.0    45.6  111.9  156.6       4.0    5.5   \n",
      "9253     2.0     2.0     2.0     NaN    36.1  111.5  175.8       3.0    5.4   \n",
      "\n",
      "      LBXGLU  \n",
      "0        NaN  \n",
      "1        NaN  \n",
      "2        NaN  \n",
      "3        NaN  \n",
      "4        NaN  \n",
      "...      ...  \n",
      "9249   158.0  \n",
      "9250     NaN  \n",
      "9251    94.0  \n",
      "9252     NaN  \n",
      "9253    91.0  \n",
      "\n",
      "[9254 rows x 18 columns]\n"
     ]
    }
   ],
   "source": [
    "print(merged_dfNHAENES2018_selected)"
   ]
  },
  {
   "cell_type": "code",
   "execution_count": 8,
   "id": "2e1c7964",
   "metadata": {},
   "outputs": [],
   "source": [
    "def clean_data(df):\n",
    "    for column in df.columns:\n",
    "        # Check if the column contains byte-strings\n",
    "        if df[column].dtype == object:\n",
    "            # Decode byte-strings to regular strings\n",
    "            df[column] = df[column].apply(lambda x: x.decode('utf-8') if isinstance(x, bytes) else x)\n",
    "        # Convert non-numeric values to NaN for numeric columns\n",
    "        df[column] = pd.to_numeric(df[column], errors='ignore')\n",
    "    return df"
   ]
  },
  {
   "cell_type": "code",
   "execution_count": 9,
   "id": "067f7942",
   "metadata": {},
   "outputs": [
    {
     "name": "stdout",
     "output_type": "stream",
     "text": [
      "          SEQN  RIDAGEYR  RIAGENDR  RHQ162  DIQ175A  BPXOSY1  BPXODI1  PAQ605  \\\n",
      "0      93703.0       2.0       2.0     NaN      NaN      NaN      NaN     NaN   \n",
      "1      93704.0       2.0       1.0     NaN      NaN      NaN      NaN     NaN   \n",
      "2      93705.0      66.0       2.0     2.0      NaN    164.0     66.0     2.0   \n",
      "3      93706.0      18.0       1.0     NaN      NaN    126.0     74.0     2.0   \n",
      "4      93707.0      13.0       1.0     NaN      NaN    136.0     71.0     NaN   \n",
      "...        ...       ...       ...     ...      ...      ...      ...     ...   \n",
      "9249  102952.0      70.0       2.0     2.0      NaN    154.0     92.0     2.0   \n",
      "9250  102953.0      42.0       1.0     NaN      NaN    135.0     91.0     1.0   \n",
      "9251  102954.0      41.0       2.0     2.0      NaN    123.0     75.0     2.0   \n",
      "9252  102955.0      14.0       2.0     NaN      NaN     92.0     64.0     NaN   \n",
      "9253  102956.0      38.0       1.0     NaN      NaN    143.0    100.0     2.0   \n",
      "\n",
      "      PAQ620  PAQ650  PAQ665  PAQ706  BMXBMI  BMXWT  BMXHT  RIDRETH3  LBXGH  \\\n",
      "0        NaN     NaN     NaN     7.0    17.5   13.7   88.6       6.0    NaN   \n",
      "1        NaN     NaN     NaN     7.0    15.7   13.9   94.2       3.0    NaN   \n",
      "2        2.0     2.0     1.0     NaN    31.7   79.5  158.3       4.0    6.2   \n",
      "3        2.0     2.0     1.0     NaN    21.5   66.3  175.7       6.0    5.2   \n",
      "4        NaN     NaN     NaN     0.0    18.1   45.4  158.4       7.0    5.6   \n",
      "...      ...     ...     ...     ...     ...    ...    ...       ...    ...   \n",
      "9249     2.0     2.0     1.0     NaN    20.0   49.0  156.5       6.0    7.4   \n",
      "9250     1.0     2.0     2.0     NaN    35.8   97.4  164.9       1.0    5.9   \n",
      "9251     2.0     2.0     1.0     NaN    26.1   69.1  162.6       4.0    5.2   \n",
      "9252     NaN     NaN     NaN     4.0    45.6  111.9  156.6       4.0    5.5   \n",
      "9253     2.0     2.0     2.0     NaN    36.1  111.5  175.8       3.0    5.4   \n",
      "\n",
      "      LBXGLU  \n",
      "0        NaN  \n",
      "1        NaN  \n",
      "2        NaN  \n",
      "3        NaN  \n",
      "4        NaN  \n",
      "...      ...  \n",
      "9249   158.0  \n",
      "9250     NaN  \n",
      "9251    94.0  \n",
      "9252     NaN  \n",
      "9253    91.0  \n",
      "\n",
      "[9254 rows x 18 columns]\n"
     ]
    },
    {
     "name": "stderr",
     "output_type": "stream",
     "text": [
      "C:\\Users\\praka\\AppData\\Local\\Temp\\ipykernel_44704\\3940003188.py:8: SettingWithCopyWarning: \n",
      "A value is trying to be set on a copy of a slice from a DataFrame.\n",
      "Try using .loc[row_indexer,col_indexer] = value instead\n",
      "\n",
      "See the caveats in the documentation: https://pandas.pydata.org/pandas-docs/stable/user_guide/indexing.html#returning-a-view-versus-a-copy\n",
      "  df[column] = pd.to_numeric(df[column], errors='ignore')\n"
     ]
    }
   ],
   "source": [
    "merged_dfNHAENES2018_Cleaned =clean_data(merged_dfNHAENES2018_selected)\n",
    "print(merged_dfNHAENES2018_Cleaned)"
   ]
  },
  {
   "cell_type": "code",
   "execution_count": 10,
   "id": "ac90edcc-719d-4f34-a03a-fb0d2f79c474",
   "metadata": {},
   "outputs": [
    {
     "name": "stdout",
     "output_type": "stream",
     "text": [
      "          SEQN  RIDAGEYR  RIAGENDR  RHQ162  DIQ175A  BPXOSY1  BPXODI1  PAQ605  \\\n",
      "0      93705.0      66.0       2.0     2.0      NaN    164.0     66.0     2.0   \n",
      "1      93706.0      18.0       1.0     NaN      NaN    126.0     74.0     2.0   \n",
      "2      93707.0      13.0       1.0     NaN      NaN    136.0     71.0     NaN   \n",
      "3      93708.0      66.0       2.0     1.0      NaN    146.0     82.0     2.0   \n",
      "4      93709.0      75.0       2.0     NaN      NaN    120.0     83.0     2.0   \n",
      "...        ...       ...       ...     ...      ...      ...      ...     ...   \n",
      "5946  102952.0      70.0       2.0     2.0      NaN    154.0     92.0     2.0   \n",
      "5947  102953.0      42.0       1.0     NaN      NaN    135.0     91.0     1.0   \n",
      "5948  102954.0      41.0       2.0     2.0      NaN    123.0     75.0     2.0   \n",
      "5949  102955.0      14.0       2.0     NaN      NaN     92.0     64.0     NaN   \n",
      "5950  102956.0      38.0       1.0     NaN      NaN    143.0    100.0     2.0   \n",
      "\n",
      "      PAQ620  PAQ650  PAQ665  PAQ706  BMXBMI  BMXWT  BMXHT  RIDRETH3  LBXGH  \\\n",
      "0        2.0     2.0     1.0     NaN    31.7   79.5  158.3       4.0    6.2   \n",
      "1        2.0     2.0     1.0     NaN    21.5   66.3  175.7       6.0    5.2   \n",
      "2        NaN     NaN     NaN     0.0    18.1   45.4  158.4       7.0    5.6   \n",
      "3        2.0     2.0     1.0     NaN    23.7   53.5  150.2       6.0    6.2   \n",
      "4        1.0     2.0     2.0     NaN    38.9   88.8  151.1       4.0    6.3   \n",
      "...      ...     ...     ...     ...     ...    ...    ...       ...    ...   \n",
      "5946     2.0     2.0     1.0     NaN    20.0   49.0  156.5       6.0    7.4   \n",
      "5947     1.0     2.0     2.0     NaN    35.8   97.4  164.9       1.0    5.9   \n",
      "5948     2.0     2.0     1.0     NaN    26.1   69.1  162.6       4.0    5.2   \n",
      "5949     NaN     NaN     NaN     4.0    45.6  111.9  156.6       4.0    5.5   \n",
      "5950     2.0     2.0     2.0     NaN    36.1  111.5  175.8       3.0    5.4   \n",
      "\n",
      "      LBXGLU  \n",
      "0        NaN  \n",
      "1        NaN  \n",
      "2        NaN  \n",
      "3      122.0  \n",
      "4        NaN  \n",
      "...      ...  \n",
      "5946   158.0  \n",
      "5947     NaN  \n",
      "5948    94.0  \n",
      "5949     NaN  \n",
      "5950    91.0  \n",
      "\n",
      "[5951 rows x 18 columns]\n"
     ]
    }
   ],
   "source": [
    "merged_dfNHAENES2018_Cleaned = merged_dfNHAENES2018_Cleaned.select_dtypes(include=[int, float])\n",
    "column_to_check_HbA1c ='LBXGH'\n",
    "merged_dfNHAENES2018_Cleaned =merged_dfNHAENES2018_Cleaned.dropna(subset=[column_to_check_HbA1c])\n",
    "column_to_check_BMI = 'BMXBMI'\n",
    "merged_dfNHAENES2018_Cleaned =merged_dfNHAENES2018_Cleaned.dropna(subset=[column_to_check_BMI])\n",
    "\n",
    "merged_dfNHAENES2018_Cleaned =merged_dfNHAENES2018_Cleaned.reset_index(drop=True)\n",
    "\n",
    "#dataset_for_ML = dataset_for_ML.reset_index(drop=True)\n",
    "print(merged_dfNHAENES2018_Cleaned)"
   ]
  },
  {
   "cell_type": "code",
   "execution_count": 11,
   "id": "16aff32a",
   "metadata": {},
   "outputs": [
    {
     "data": {
      "text/plain": [
       "(5951, 19)"
      ]
     },
     "execution_count": 11,
     "metadata": {},
     "output_type": "execute_result"
    }
   ],
   "source": [
    "# Processing Age\n",
    "merged_dfNHAENES2018_Cleaned= merged_dfNHAENES2018_Cleaned.dropna(subset=['RIDAGEYR'])\n",
    "def classify(row):\n",
    "    if  row['RIDAGEYR'] > 0 and row['RIDAGEYR'] < 40 :\n",
    "        return 0\n",
    "    elif row['RIDAGEYR'] >= 40 and row['RIDAGEYR'] < 50:\n",
    "        return 1\n",
    "    elif row['RIDAGEYR'] >= 50 and row['RIDAGEYR'] < 60:\n",
    "        return 1\n",
    "    elif row['RIDAGEYR'] >= 60:\n",
    "        return 2\n",
    "    else:\n",
    "        return 99\n",
    "merged_dfNHAENES2018_Cleaned['Age_point']  = merged_dfNHAENES2018_Cleaned.apply(lambda row: classify(row), axis=1)\n",
    "merged_dfNHAENES2018_Cleaned.shape"
   ]
  },
  {
   "cell_type": "code",
   "execution_count": 12,
   "id": "73e9736c",
   "metadata": {},
   "outputs": [
    {
     "data": {
      "text/plain": [
       "(5951, 19)"
      ]
     },
     "execution_count": 12,
     "metadata": {},
     "output_type": "execute_result"
    }
   ],
   "source": [
    "merged_dfNHAENES2018_Cleaned= merged_dfNHAENES2018_Cleaned[merged_dfNHAENES2018_Cleaned['Age_point']!= 99] \n",
    "merged_dfNHAENES2018_Cleaned.shape"
   ]
  },
  {
   "cell_type": "code",
   "execution_count": 13,
   "id": "292a2856",
   "metadata": {},
   "outputs": [
    {
     "data": {
      "text/plain": [
       "(5951, 20)"
      ]
     },
     "execution_count": 13,
     "metadata": {},
     "output_type": "execute_result"
    }
   ],
   "source": [
    "# Processing Gender\n",
    "merged_dfNHAENES2018_Cleaned= merged_dfNHAENES2018_Cleaned.dropna(subset=['RIAGENDR'])\n",
    "def classify(row):\n",
    "    if row['RIAGENDR']   == 1 :\n",
    "        return 1\n",
    "    elif row['RIAGENDR'] == 2:\n",
    "        return 0\n",
    "    else:\n",
    "        return 99\n",
    "merged_dfNHAENES2018_Cleaned['Gender_point']  = merged_dfNHAENES2018_Cleaned.apply(lambda row: classify(row), axis=1)\n",
    "merged_dfNHAENES2018_Cleaned= merged_dfNHAENES2018_Cleaned[merged_dfNHAENES2018_Cleaned['Gender_point']!= 99] \n",
    "merged_dfNHAENES2018_Cleaned.shape"
   ]
  },
  {
   "cell_type": "code",
   "execution_count": 14,
   "id": "a8611be7",
   "metadata": {},
   "outputs": [
    {
     "data": {
      "text/plain": [
       "(5951, 21)"
      ]
     },
     "execution_count": 14,
     "metadata": {},
     "output_type": "execute_result"
    }
   ],
   "source": [
    "# Processing Family History\n",
    "\n",
    "#merged_dfNHAENES2018_Cleaned= merged_dfNHAENES2018_Cleaned.dropna(subset=['DIQ175A'])\n",
    "def classify(row):\n",
    "    if row['DIQ175A']   == 10 :\n",
    "        return 1\n",
    "    else:\n",
    "        return 0\n",
    "merged_dfNHAENES2018_Cleaned['Family_History_point']  = merged_dfNHAENES2018_Cleaned.apply(lambda row: classify(row), axis=1)\n",
    "merged_dfNHAENES2018_Cleaned.shape"
   ]
  },
  {
   "cell_type": "code",
   "execution_count": 15,
   "id": "9412c51b",
   "metadata": {},
   "outputs": [],
   "source": [
    "# Processing Blood Pressure  if age is 12 \n",
    "# merged_dfNHAENES2018_Cleaned= merged_dfNHAENES2018_Cleaned.dropna(subset=['BPXOSY1','BPXODI1'])\n",
    "#merged_dfNHAENES2018_Cleaned.shape"
   ]
  },
  {
   "cell_type": "code",
   "execution_count": 16,
   "id": "16326f0e",
   "metadata": {
    "tags": []
   },
   "outputs": [
    {
     "data": {
      "text/plain": [
       "(5951, 22)"
      ]
     },
     "execution_count": 16,
     "metadata": {},
     "output_type": "execute_result"
    }
   ],
   "source": [
    "def classify(row):\n",
    "    if  row['RIDAGEYR'] <= 30:\n",
    "        return 0 \n",
    "    elif row['BPXOSY1'] >= 125 or row['BPXODI1'] >= 85:\n",
    "        return 1\n",
    "    elif row['BPXOSY1'] < 125 and row['BPXODI1'] < 85:\n",
    "        return 0\n",
    "    else:\n",
    "        return 1\n",
    "merged_dfNHAENES2018_Cleaned['Diagnosed_BP_point']  = merged_dfNHAENES2018_Cleaned.apply(lambda row: classify(row), axis=1)\n",
    "merged_dfNHAENES2018_Cleaned.shape"
   ]
  },
  {
   "cell_type": "code",
   "execution_count": 17,
   "id": "961a06c8",
   "metadata": {},
   "outputs": [
    {
     "data": {
      "text/plain": [
       "(5951, 22)"
      ]
     },
     "execution_count": 17,
     "metadata": {},
     "output_type": "execute_result"
    }
   ],
   "source": [
    "merged_dfNHAENES2018_Cleaned= merged_dfNHAENES2018_Cleaned[merged_dfNHAENES2018_Cleaned['Diagnosed_BP_point']!= 99] \n",
    "merged_dfNHAENES2018_Cleaned.shape"
   ]
  },
  {
   "cell_type": "code",
   "execution_count": 18,
   "id": "5fb637a0",
   "metadata": {},
   "outputs": [
    {
     "data": {
      "text/plain": [
       "(5951, 23)"
      ]
     },
     "execution_count": 18,
     "metadata": {},
     "output_type": "execute_result"
    }
   ],
   "source": [
    "# Processing Physically Active cases\n",
    "def check_valid_column(row):    \n",
    "    if pd.notna(row['PAQ706']) >=3 and pd.notna(row['PAQ706'])  <= 7 and row['RIDAGEYR'] <= 17:\n",
    "        return 0                                      \n",
    "    elif (pd.notna(row['PAQ605']) == 1 or pd.notna(row['PAQ620'])  == 1 or pd.notna(row['PAQ650']) == 1 or pd.notna(row['PAQ665']) == 1) and  row['RIDAGEYR'] > 17 :\n",
    "        return  0\n",
    "    else:\n",
    "        return 1\n",
    "merged_dfNHAENES2018_Cleaned['Physically_Active_point']  = merged_dfNHAENES2018_Cleaned.apply(lambda row: check_valid_column(row), axis=1)\n",
    "merged_dfNHAENES2018_Cleaned.shape"
   ]
  },
  {
   "cell_type": "code",
   "execution_count": 19,
   "id": "3b011ac8",
   "metadata": {},
   "outputs": [
    {
     "data": {
      "text/plain": [
       "(5951, 23)"
      ]
     },
     "execution_count": 19,
     "metadata": {},
     "output_type": "execute_result"
    }
   ],
   "source": [
    "merged_dfNHAENES2018_Cleaned= merged_dfNHAENES2018_Cleaned[merged_dfNHAENES2018_Cleaned['Physically_Active_point']!= 99] \n",
    "merged_dfNHAENES2018_Cleaned.shape"
   ]
  },
  {
   "cell_type": "code",
   "execution_count": 20,
   "id": "50bf0d55",
   "metadata": {},
   "outputs": [
    {
     "data": {
      "text/plain": [
       "(5951, 23)"
      ]
     },
     "execution_count": 20,
     "metadata": {},
     "output_type": "execute_result"
    }
   ],
   "source": [
    "# Processing Body mass Index\n",
    "merged_dfNHAENES2018_Cleaned= merged_dfNHAENES2018_Cleaned.dropna(subset=['BMXBMI'])\n",
    "merged_dfNHAENES2018_Cleaned.shape"
   ]
  },
  {
   "cell_type": "code",
   "execution_count": 21,
   "id": "ae714744",
   "metadata": {},
   "outputs": [
    {
     "data": {
      "text/plain": [
       "(5951, 24)"
      ]
     },
     "execution_count": 21,
     "metadata": {},
     "output_type": "execute_result"
    }
   ],
   "source": [
    "def classify(row):\n",
    "    if row['BMXBMI']   < 25 :\n",
    "        return 0\n",
    "    elif row['BMXBMI'] >= 25 and row['BMXBMI'] < 30:\n",
    "        return 1\n",
    "    elif row['BMXBMI'] >= 30 and row['BMXBMI'] < 40:\n",
    "        return 2\n",
    "    elif row['BMXBMI'] >= 40:  \n",
    "        return 3\n",
    "    else:\n",
    "        return 99\n",
    "merged_dfNHAENES2018_Cleaned['BMI_Point']  = merged_dfNHAENES2018_Cleaned.apply(lambda row: classify(row), axis=1)\n",
    "merged_dfNHAENES2018_Cleaned.shape"
   ]
  },
  {
   "cell_type": "code",
   "execution_count": 22,
   "id": "44abae81",
   "metadata": {},
   "outputs": [
    {
     "data": {
      "text/plain": [
       "(5951, 24)"
      ]
     },
     "execution_count": 22,
     "metadata": {},
     "output_type": "execute_result"
    }
   ],
   "source": [
    "merged_dfNHAENES2018_Cleaned= merged_dfNHAENES2018_Cleaned[merged_dfNHAENES2018_Cleaned['BMI_Point']!= 99] \n",
    "merged_dfNHAENES2018_Cleaned.shape"
   ]
  },
  {
   "cell_type": "code",
   "execution_count": 23,
   "id": "5149a182",
   "metadata": {},
   "outputs": [
    {
     "data": {
      "text/plain": [
       "(5951, 25)"
      ]
     },
     "execution_count": 23,
     "metadata": {},
     "output_type": "execute_result"
    }
   ],
   "source": [
    "# Processing Gestational Diabetes for Women\n",
    "def classify(row):\n",
    "    if row['Gender_point']   == 0 and (row['RHQ162'] == 1  or row['RHQ162'] == 3) :\n",
    "        return 1\n",
    "    else:\n",
    "        return 0\n",
    "merged_dfNHAENES2018_Cleaned['Gestational_Diabetes_point']  = merged_dfNHAENES2018_Cleaned.apply(lambda row: classify(row), axis=1)\n",
    "merged_dfNHAENES2018_Cleaned.shape"
   ]
  },
  {
   "cell_type": "code",
   "execution_count": 24,
   "id": "902f27a1",
   "metadata": {},
   "outputs": [
    {
     "data": {
      "text/plain": [
       "(5951, 25)"
      ]
     },
     "execution_count": 24,
     "metadata": {},
     "output_type": "execute_result"
    }
   ],
   "source": [
    "merged_dfNHAENES2018_Cleaned= merged_dfNHAENES2018_Cleaned[merged_dfNHAENES2018_Cleaned['LBXGH'].notna()] \n",
    "merged_dfNHAENES2018_Cleaned.shape"
   ]
  },
  {
   "cell_type": "code",
   "execution_count": 25,
   "id": "df5d2740",
   "metadata": {},
   "outputs": [
    {
     "data": {
      "text/html": [
       "<div>\n",
       "<style scoped>\n",
       "    .dataframe tbody tr th:only-of-type {\n",
       "        vertical-align: middle;\n",
       "    }\n",
       "\n",
       "    .dataframe tbody tr th {\n",
       "        vertical-align: top;\n",
       "    }\n",
       "\n",
       "    .dataframe thead th {\n",
       "        text-align: right;\n",
       "    }\n",
       "</style>\n",
       "<table border=\"1\" class=\"dataframe\">\n",
       "  <thead>\n",
       "    <tr style=\"text-align: right;\">\n",
       "      <th></th>\n",
       "      <th>SEQN</th>\n",
       "      <th>RIDAGEYR</th>\n",
       "      <th>RIAGENDR</th>\n",
       "      <th>RHQ162</th>\n",
       "      <th>DIQ175A</th>\n",
       "      <th>BPXOSY1</th>\n",
       "      <th>BPXODI1</th>\n",
       "      <th>PAQ605</th>\n",
       "      <th>PAQ620</th>\n",
       "      <th>PAQ650</th>\n",
       "      <th>...</th>\n",
       "      <th>RIDRETH3</th>\n",
       "      <th>LBXGH</th>\n",
       "      <th>LBXGLU</th>\n",
       "      <th>Age_point</th>\n",
       "      <th>Gender_point</th>\n",
       "      <th>Family_History_point</th>\n",
       "      <th>Diagnosed_BP_point</th>\n",
       "      <th>Physically_Active_point</th>\n",
       "      <th>BMI_Point</th>\n",
       "      <th>Gestational_Diabetes_point</th>\n",
       "    </tr>\n",
       "  </thead>\n",
       "  <tbody>\n",
       "    <tr>\n",
       "      <th>0</th>\n",
       "      <td>93705.0</td>\n",
       "      <td>66.0</td>\n",
       "      <td>2.0</td>\n",
       "      <td>2.0</td>\n",
       "      <td>NaN</td>\n",
       "      <td>164.0</td>\n",
       "      <td>66.0</td>\n",
       "      <td>2.0</td>\n",
       "      <td>2.0</td>\n",
       "      <td>2.0</td>\n",
       "      <td>...</td>\n",
       "      <td>4.0</td>\n",
       "      <td>6.2</td>\n",
       "      <td>NaN</td>\n",
       "      <td>2</td>\n",
       "      <td>0</td>\n",
       "      <td>0</td>\n",
       "      <td>1</td>\n",
       "      <td>0</td>\n",
       "      <td>2</td>\n",
       "      <td>0</td>\n",
       "    </tr>\n",
       "    <tr>\n",
       "      <th>1</th>\n",
       "      <td>93706.0</td>\n",
       "      <td>18.0</td>\n",
       "      <td>1.0</td>\n",
       "      <td>NaN</td>\n",
       "      <td>NaN</td>\n",
       "      <td>126.0</td>\n",
       "      <td>74.0</td>\n",
       "      <td>2.0</td>\n",
       "      <td>2.0</td>\n",
       "      <td>2.0</td>\n",
       "      <td>...</td>\n",
       "      <td>6.0</td>\n",
       "      <td>5.2</td>\n",
       "      <td>NaN</td>\n",
       "      <td>0</td>\n",
       "      <td>1</td>\n",
       "      <td>0</td>\n",
       "      <td>0</td>\n",
       "      <td>0</td>\n",
       "      <td>0</td>\n",
       "      <td>0</td>\n",
       "    </tr>\n",
       "    <tr>\n",
       "      <th>2</th>\n",
       "      <td>93707.0</td>\n",
       "      <td>13.0</td>\n",
       "      <td>1.0</td>\n",
       "      <td>NaN</td>\n",
       "      <td>NaN</td>\n",
       "      <td>136.0</td>\n",
       "      <td>71.0</td>\n",
       "      <td>NaN</td>\n",
       "      <td>NaN</td>\n",
       "      <td>NaN</td>\n",
       "      <td>...</td>\n",
       "      <td>7.0</td>\n",
       "      <td>5.6</td>\n",
       "      <td>NaN</td>\n",
       "      <td>0</td>\n",
       "      <td>1</td>\n",
       "      <td>0</td>\n",
       "      <td>0</td>\n",
       "      <td>1</td>\n",
       "      <td>0</td>\n",
       "      <td>0</td>\n",
       "    </tr>\n",
       "    <tr>\n",
       "      <th>3</th>\n",
       "      <td>93708.0</td>\n",
       "      <td>66.0</td>\n",
       "      <td>2.0</td>\n",
       "      <td>1.0</td>\n",
       "      <td>NaN</td>\n",
       "      <td>146.0</td>\n",
       "      <td>82.0</td>\n",
       "      <td>2.0</td>\n",
       "      <td>2.0</td>\n",
       "      <td>2.0</td>\n",
       "      <td>...</td>\n",
       "      <td>6.0</td>\n",
       "      <td>6.2</td>\n",
       "      <td>122.0</td>\n",
       "      <td>2</td>\n",
       "      <td>0</td>\n",
       "      <td>0</td>\n",
       "      <td>1</td>\n",
       "      <td>0</td>\n",
       "      <td>0</td>\n",
       "      <td>1</td>\n",
       "    </tr>\n",
       "    <tr>\n",
       "      <th>4</th>\n",
       "      <td>93709.0</td>\n",
       "      <td>75.0</td>\n",
       "      <td>2.0</td>\n",
       "      <td>NaN</td>\n",
       "      <td>NaN</td>\n",
       "      <td>120.0</td>\n",
       "      <td>83.0</td>\n",
       "      <td>2.0</td>\n",
       "      <td>1.0</td>\n",
       "      <td>2.0</td>\n",
       "      <td>...</td>\n",
       "      <td>4.0</td>\n",
       "      <td>6.3</td>\n",
       "      <td>NaN</td>\n",
       "      <td>2</td>\n",
       "      <td>0</td>\n",
       "      <td>0</td>\n",
       "      <td>0</td>\n",
       "      <td>0</td>\n",
       "      <td>2</td>\n",
       "      <td>0</td>\n",
       "    </tr>\n",
       "    <tr>\n",
       "      <th>...</th>\n",
       "      <td>...</td>\n",
       "      <td>...</td>\n",
       "      <td>...</td>\n",
       "      <td>...</td>\n",
       "      <td>...</td>\n",
       "      <td>...</td>\n",
       "      <td>...</td>\n",
       "      <td>...</td>\n",
       "      <td>...</td>\n",
       "      <td>...</td>\n",
       "      <td>...</td>\n",
       "      <td>...</td>\n",
       "      <td>...</td>\n",
       "      <td>...</td>\n",
       "      <td>...</td>\n",
       "      <td>...</td>\n",
       "      <td>...</td>\n",
       "      <td>...</td>\n",
       "      <td>...</td>\n",
       "      <td>...</td>\n",
       "      <td>...</td>\n",
       "    </tr>\n",
       "    <tr>\n",
       "      <th>5946</th>\n",
       "      <td>102952.0</td>\n",
       "      <td>70.0</td>\n",
       "      <td>2.0</td>\n",
       "      <td>2.0</td>\n",
       "      <td>NaN</td>\n",
       "      <td>154.0</td>\n",
       "      <td>92.0</td>\n",
       "      <td>2.0</td>\n",
       "      <td>2.0</td>\n",
       "      <td>2.0</td>\n",
       "      <td>...</td>\n",
       "      <td>6.0</td>\n",
       "      <td>7.4</td>\n",
       "      <td>158.0</td>\n",
       "      <td>2</td>\n",
       "      <td>0</td>\n",
       "      <td>0</td>\n",
       "      <td>1</td>\n",
       "      <td>0</td>\n",
       "      <td>0</td>\n",
       "      <td>0</td>\n",
       "    </tr>\n",
       "    <tr>\n",
       "      <th>5947</th>\n",
       "      <td>102953.0</td>\n",
       "      <td>42.0</td>\n",
       "      <td>1.0</td>\n",
       "      <td>NaN</td>\n",
       "      <td>NaN</td>\n",
       "      <td>135.0</td>\n",
       "      <td>91.0</td>\n",
       "      <td>1.0</td>\n",
       "      <td>1.0</td>\n",
       "      <td>2.0</td>\n",
       "      <td>...</td>\n",
       "      <td>1.0</td>\n",
       "      <td>5.9</td>\n",
       "      <td>NaN</td>\n",
       "      <td>1</td>\n",
       "      <td>1</td>\n",
       "      <td>0</td>\n",
       "      <td>1</td>\n",
       "      <td>0</td>\n",
       "      <td>2</td>\n",
       "      <td>0</td>\n",
       "    </tr>\n",
       "    <tr>\n",
       "      <th>5948</th>\n",
       "      <td>102954.0</td>\n",
       "      <td>41.0</td>\n",
       "      <td>2.0</td>\n",
       "      <td>2.0</td>\n",
       "      <td>NaN</td>\n",
       "      <td>123.0</td>\n",
       "      <td>75.0</td>\n",
       "      <td>2.0</td>\n",
       "      <td>2.0</td>\n",
       "      <td>2.0</td>\n",
       "      <td>...</td>\n",
       "      <td>4.0</td>\n",
       "      <td>5.2</td>\n",
       "      <td>94.0</td>\n",
       "      <td>1</td>\n",
       "      <td>0</td>\n",
       "      <td>0</td>\n",
       "      <td>0</td>\n",
       "      <td>0</td>\n",
       "      <td>1</td>\n",
       "      <td>0</td>\n",
       "    </tr>\n",
       "    <tr>\n",
       "      <th>5949</th>\n",
       "      <td>102955.0</td>\n",
       "      <td>14.0</td>\n",
       "      <td>2.0</td>\n",
       "      <td>NaN</td>\n",
       "      <td>NaN</td>\n",
       "      <td>92.0</td>\n",
       "      <td>64.0</td>\n",
       "      <td>NaN</td>\n",
       "      <td>NaN</td>\n",
       "      <td>NaN</td>\n",
       "      <td>...</td>\n",
       "      <td>4.0</td>\n",
       "      <td>5.5</td>\n",
       "      <td>NaN</td>\n",
       "      <td>0</td>\n",
       "      <td>0</td>\n",
       "      <td>0</td>\n",
       "      <td>0</td>\n",
       "      <td>1</td>\n",
       "      <td>3</td>\n",
       "      <td>0</td>\n",
       "    </tr>\n",
       "    <tr>\n",
       "      <th>5950</th>\n",
       "      <td>102956.0</td>\n",
       "      <td>38.0</td>\n",
       "      <td>1.0</td>\n",
       "      <td>NaN</td>\n",
       "      <td>NaN</td>\n",
       "      <td>143.0</td>\n",
       "      <td>100.0</td>\n",
       "      <td>2.0</td>\n",
       "      <td>2.0</td>\n",
       "      <td>2.0</td>\n",
       "      <td>...</td>\n",
       "      <td>3.0</td>\n",
       "      <td>5.4</td>\n",
       "      <td>91.0</td>\n",
       "      <td>0</td>\n",
       "      <td>1</td>\n",
       "      <td>0</td>\n",
       "      <td>1</td>\n",
       "      <td>0</td>\n",
       "      <td>2</td>\n",
       "      <td>0</td>\n",
       "    </tr>\n",
       "  </tbody>\n",
       "</table>\n",
       "<p>5951 rows × 25 columns</p>\n",
       "</div>"
      ],
      "text/plain": [
       "          SEQN  RIDAGEYR  RIAGENDR  RHQ162  DIQ175A  BPXOSY1  BPXODI1  PAQ605  \\\n",
       "0      93705.0      66.0       2.0     2.0      NaN    164.0     66.0     2.0   \n",
       "1      93706.0      18.0       1.0     NaN      NaN    126.0     74.0     2.0   \n",
       "2      93707.0      13.0       1.0     NaN      NaN    136.0     71.0     NaN   \n",
       "3      93708.0      66.0       2.0     1.0      NaN    146.0     82.0     2.0   \n",
       "4      93709.0      75.0       2.0     NaN      NaN    120.0     83.0     2.0   \n",
       "...        ...       ...       ...     ...      ...      ...      ...     ...   \n",
       "5946  102952.0      70.0       2.0     2.0      NaN    154.0     92.0     2.0   \n",
       "5947  102953.0      42.0       1.0     NaN      NaN    135.0     91.0     1.0   \n",
       "5948  102954.0      41.0       2.0     2.0      NaN    123.0     75.0     2.0   \n",
       "5949  102955.0      14.0       2.0     NaN      NaN     92.0     64.0     NaN   \n",
       "5950  102956.0      38.0       1.0     NaN      NaN    143.0    100.0     2.0   \n",
       "\n",
       "      PAQ620  PAQ650  ...  RIDRETH3  LBXGH  LBXGLU  Age_point  Gender_point  \\\n",
       "0        2.0     2.0  ...       4.0    6.2     NaN          2             0   \n",
       "1        2.0     2.0  ...       6.0    5.2     NaN          0             1   \n",
       "2        NaN     NaN  ...       7.0    5.6     NaN          0             1   \n",
       "3        2.0     2.0  ...       6.0    6.2   122.0          2             0   \n",
       "4        1.0     2.0  ...       4.0    6.3     NaN          2             0   \n",
       "...      ...     ...  ...       ...    ...     ...        ...           ...   \n",
       "5946     2.0     2.0  ...       6.0    7.4   158.0          2             0   \n",
       "5947     1.0     2.0  ...       1.0    5.9     NaN          1             1   \n",
       "5948     2.0     2.0  ...       4.0    5.2    94.0          1             0   \n",
       "5949     NaN     NaN  ...       4.0    5.5     NaN          0             0   \n",
       "5950     2.0     2.0  ...       3.0    5.4    91.0          0             1   \n",
       "\n",
       "      Family_History_point  Diagnosed_BP_point  Physically_Active_point  \\\n",
       "0                        0                   1                        0   \n",
       "1                        0                   0                        0   \n",
       "2                        0                   0                        1   \n",
       "3                        0                   1                        0   \n",
       "4                        0                   0                        0   \n",
       "...                    ...                 ...                      ...   \n",
       "5946                     0                   1                        0   \n",
       "5947                     0                   1                        0   \n",
       "5948                     0                   0                        0   \n",
       "5949                     0                   0                        1   \n",
       "5950                     0                   1                        0   \n",
       "\n",
       "      BMI_Point  Gestational_Diabetes_point  \n",
       "0             2                           0  \n",
       "1             0                           0  \n",
       "2             0                           0  \n",
       "3             0                           1  \n",
       "4             2                           0  \n",
       "...         ...                         ...  \n",
       "5946          0                           0  \n",
       "5947          2                           0  \n",
       "5948          1                           0  \n",
       "5949          3                           0  \n",
       "5950          2                           0  \n",
       "\n",
       "[5951 rows x 25 columns]"
      ]
     },
     "execution_count": 25,
     "metadata": {},
     "output_type": "execute_result"
    }
   ],
   "source": [
    "merged_dfNHAENES2018_Cleaned"
   ]
  },
  {
   "cell_type": "code",
   "execution_count": 26,
   "id": "85320ffc",
   "metadata": {},
   "outputs": [],
   "source": [
    "# Processing Calculating the Score and categorizing to high and low risk\n",
    "merged_dfNHAENES2018_Cleaned['Tool_Total_points'] = merged_dfNHAENES2018_Cleaned[['Age_point' ,\n",
    "                                                                            'Gender_point',\n",
    "                                                                            'Family_History_point',\n",
    "                                                                            'Diagnosed_BP_point',\n",
    "                                                                            'Physically_Active_point',\n",
    "                                                                            'BMI_Point', \n",
    "                                                                            'Gestational_Diabetes_point']].sum(axis=1)\n",
    "def classify(row):\n",
    "    if row['Tool_Total_points']   < 5 :\n",
    "        return \"Low Risk\"\n",
    "    else:\n",
    "        return \"High Risk\"\n",
    "merged_dfNHAENES2018_Cleaned['Tool_Risk_Category'] = merged_dfNHAENES2018_Cleaned.apply(lambda row: classify(row), axis=1)"
   ]
  },
  {
   "cell_type": "code",
   "execution_count": 27,
   "id": "46a08224",
   "metadata": {},
   "outputs": [],
   "source": [
    "#print(merged_dfNHAENES2018_Cleaned)"
   ]
  },
  {
   "cell_type": "code",
   "execution_count": 28,
   "id": "2a659cf5",
   "metadata": {},
   "outputs": [],
   "source": [
    "def classify(row):\n",
    "    if row['LBXGH']     < 5.7 :\n",
    "        return 0\n",
    "    elif row ['LBXGH'] >= 5.7:\n",
    "        return 1\n",
    "#print(dataset_for_ML['LBXGH'])\n",
    "merged_dfNHAENES2018_Cleaned['HbA1c_Risk']=  merged_dfNHAENES2018_Cleaned.apply(lambda row: classify(row), axis=1)"
   ]
  },
  {
   "cell_type": "code",
   "execution_count": 29,
   "id": "7264460c",
   "metadata": {},
   "outputs": [],
   "source": [
    "def classify(row):\n",
    "    if row['HbA1c_Risk']   == 0 :\n",
    "        return \"Low Risk\"\n",
    "    else:\n",
    "        return \"High Risk\"\n",
    "merged_dfNHAENES2018_Cleaned['HbA1c_Risk_Category'] = merged_dfNHAENES2018_Cleaned.apply(lambda row: classify(row), axis=1)"
   ]
  },
  {
   "cell_type": "code",
   "execution_count": 30,
   "id": "4c1ce5eb",
   "metadata": {},
   "outputs": [
    {
     "name": "stdout",
     "output_type": "stream",
     "text": [
      "          SEQN  RIDAGEYR  RIAGENDR  RHQ162  DIQ175A  BPXOSY1  BPXODI1  PAQ605  \\\n",
      "0      93705.0      66.0       2.0     2.0      NaN    164.0     66.0     2.0   \n",
      "1      93706.0      18.0       1.0     NaN      NaN    126.0     74.0     2.0   \n",
      "2      93707.0      13.0       1.0     NaN      NaN    136.0     71.0     NaN   \n",
      "3      93708.0      66.0       2.0     1.0      NaN    146.0     82.0     2.0   \n",
      "4      93709.0      75.0       2.0     NaN      NaN    120.0     83.0     2.0   \n",
      "...        ...       ...       ...     ...      ...      ...      ...     ...   \n",
      "5946  102952.0      70.0       2.0     2.0      NaN    154.0     92.0     2.0   \n",
      "5947  102953.0      42.0       1.0     NaN      NaN    135.0     91.0     1.0   \n",
      "5948  102954.0      41.0       2.0     2.0      NaN    123.0     75.0     2.0   \n",
      "5949  102955.0      14.0       2.0     NaN      NaN     92.0     64.0     NaN   \n",
      "5950  102956.0      38.0       1.0     NaN      NaN    143.0    100.0     2.0   \n",
      "\n",
      "      PAQ620  PAQ650  ...  Gender_point  Family_History_point  \\\n",
      "0        2.0     2.0  ...             0                     0   \n",
      "1        2.0     2.0  ...             1                     0   \n",
      "2        NaN     NaN  ...             1                     0   \n",
      "3        2.0     2.0  ...             0                     0   \n",
      "4        1.0     2.0  ...             0                     0   \n",
      "...      ...     ...  ...           ...                   ...   \n",
      "5946     2.0     2.0  ...             0                     0   \n",
      "5947     1.0     2.0  ...             1                     0   \n",
      "5948     2.0     2.0  ...             0                     0   \n",
      "5949     NaN     NaN  ...             0                     0   \n",
      "5950     2.0     2.0  ...             1                     0   \n",
      "\n",
      "      Diagnosed_BP_point  Physically_Active_point  BMI_Point  \\\n",
      "0                      1                        0          2   \n",
      "1                      0                        0          0   \n",
      "2                      0                        1          0   \n",
      "3                      1                        0          0   \n",
      "4                      0                        0          2   \n",
      "...                  ...                      ...        ...   \n",
      "5946                   1                        0          0   \n",
      "5947                   1                        0          2   \n",
      "5948                   0                        0          1   \n",
      "5949                   0                        1          3   \n",
      "5950                   1                        0          2   \n",
      "\n",
      "      Gestational_Diabetes_point  Tool_Total_points  Tool_Risk_Category  \\\n",
      "0                              0                  5           High Risk   \n",
      "1                              0                  1            Low Risk   \n",
      "2                              0                  2            Low Risk   \n",
      "3                              1                  4            Low Risk   \n",
      "4                              0                  4            Low Risk   \n",
      "...                          ...                ...                 ...   \n",
      "5946                           0                  3            Low Risk   \n",
      "5947                           0                  5           High Risk   \n",
      "5948                           0                  2            Low Risk   \n",
      "5949                           0                  4            Low Risk   \n",
      "5950                           0                  4            Low Risk   \n",
      "\n",
      "      HbA1c_Risk  HbA1c_Risk_Category  \n",
      "0              1            High Risk  \n",
      "1              0             Low Risk  \n",
      "2              0             Low Risk  \n",
      "3              1            High Risk  \n",
      "4              1            High Risk  \n",
      "...          ...                  ...  \n",
      "5946           1            High Risk  \n",
      "5947           1            High Risk  \n",
      "5948           0             Low Risk  \n",
      "5949           0             Low Risk  \n",
      "5950           0             Low Risk  \n",
      "\n",
      "[5951 rows x 29 columns]\n"
     ]
    }
   ],
   "source": [
    "print(merged_dfNHAENES2018_Cleaned)"
   ]
  },
  {
   "cell_type": "code",
   "execution_count": 31,
   "id": "00106a69",
   "metadata": {},
   "outputs": [],
   "source": [
    "# Save the merged DataFrame to a new CSV file\n",
    "merged_dfNHAENES2018.to_csv('C:\\Prakash\\Personal\\Studies\\Techincal\\MTech. Data Science and Engineering\\Semester-wise\\Semester-I\\Study\\Sem-I - 0- Python Fundamentals for Data Science (S1-22_DSECLPFDS)\\PythonPgm\\MTech-Proj03-NHANES-2018\\Data\\After_Screening_Tool_Data.csv', index=False)"
   ]
  },
  {
   "cell_type": "code",
   "execution_count": 32,
   "id": "e0654f5c",
   "metadata": {},
   "outputs": [
    {
     "name": "stdout",
     "output_type": "stream",
     "text": [
      "Out of the sample we have 1516 Tool High risk category and 4435 Tool Low Risk Category\n"
     ]
    }
   ],
   "source": [
    "# Calculating and Displaying the counts tool data alone\n",
    "Tool_High_Risk_condition = merged_dfNHAENES2018_Cleaned['Tool_Total_points'] >= 5\n",
    "Tool_High_Risk_count= Tool_High_Risk_condition.sum()\n",
    "Tool_Low_Risk_condition = merged_dfNHAENES2018_Cleaned['Tool_Total_points']  < 5\n",
    "Tool_Low_Risk_count= Tool_Low_Risk_condition.sum()\n",
    "print(\"Out of the sample we have \"+ str(Tool_High_Risk_count) +\" Tool High risk category and \" +str(Tool_Low_Risk_count) + \" Tool Low Risk Category\")"
   ]
  },
  {
   "cell_type": "code",
   "execution_count": 33,
   "id": "dd6dfce8",
   "metadata": {},
   "outputs": [
    {
     "name": "stdout",
     "output_type": "stream",
     "text": [
      "Out of the sample we have 2344 High High risk category and 3607 High Low Risk Category\n"
     ]
    }
   ],
   "source": [
    "# Calculating and Displaying the counts HbA1c data alone\n",
    "HbA1c_High_Risk_condition = merged_dfNHAENES2018_Cleaned['HbA1c_Risk'] == 1\n",
    "HbA1c_High_Risk_count= HbA1c_High_Risk_condition.sum()\n",
    "HbA1c_Low_Risk_condition = merged_dfNHAENES2018_Cleaned['HbA1c_Risk']  == 0\n",
    "HbA1c_Low_Risk_count= HbA1c_Low_Risk_condition.sum()\n",
    "print(\"Out of the sample we have \"+ str(HbA1c_High_Risk_count) +\" High High risk category and \" +str(HbA1c_Low_Risk_count) + \" High Low Risk Category\")"
   ]
  },
  {
   "cell_type": "code",
   "execution_count": 34,
   "id": "16f81fef",
   "metadata": {},
   "outputs": [],
   "source": [
    "# Classifying the TP, TN, FP, and FN.\n",
    "TP =((merged_dfNHAENES2018_Cleaned['HbA1c_Risk'] == 1) & (merged_dfNHAENES2018_Cleaned['Tool_Total_points'] >= 5)).sum()\n",
    "TN =((merged_dfNHAENES2018_Cleaned['HbA1c_Risk'] == 0) & (merged_dfNHAENES2018_Cleaned['Tool_Total_points'] <  5)).sum()\n",
    "FP =((merged_dfNHAENES2018_Cleaned['HbA1c_Risk'] == 0) & (merged_dfNHAENES2018_Cleaned['Tool_Total_points'] >= 5)).sum()\n",
    "FN =((merged_dfNHAENES2018_Cleaned['HbA1c_Risk'] == 1) & (merged_dfNHAENES2018_Cleaned['Tool_Total_points'] <  5)).sum()\n"
   ]
  },
  {
   "cell_type": "code",
   "execution_count": 35,
   "id": "5d36ba49",
   "metadata": {
    "tags": []
   },
   "outputs": [
    {
     "name": "stdout",
     "output_type": "stream",
     "text": [
      "True Positives  (TP): 1039\n",
      "True Negatives  (TN): 3130\n",
      "False Positives (FP): 477\n",
      "False Negatives (FN): 1305\n"
     ]
    }
   ],
   "source": [
    "print(f\"True Positives  (TP): {TP}\")\n",
    "print(f\"True Negatives  (TN): {TN}\")\n",
    "print(f\"False Positives (FP): {FP}\")\n",
    "print(f\"False Negatives (FN): {FN}\")"
   ]
  },
  {
   "cell_type": "code",
   "execution_count": 36,
   "id": "ac72c21d-00a3-419e-a9e1-ff903ed42dc5",
   "metadata": {
    "tags": []
   },
   "outputs": [],
   "source": [
    "Accuracy = (TP + TN) / (TP + TN + FP + FN) \n",
    "Precision = TP / (TP + FP)     \n",
    "Recall = TP / (TP + FN)  \n",
    "Specificity =TN / (TN + FP) \n",
    "F1_Score = 2 * (Precision * Recall) / (Precision + Recall)                                              "
   ]
  },
  {
   "cell_type": "code",
   "execution_count": 37,
   "id": "b8d63960-f695-46fc-94ec-107d536d7cef",
   "metadata": {
    "tags": []
   },
   "outputs": [
    {
     "name": "stdout",
     "output_type": "stream",
     "text": [
      "Accuracy    : 0.7006\n",
      "Precision   : 0.6854\n",
      "Recall      : 0.4433\n",
      "Specificity : 0.8678\n",
      "F1 Score    : 0.5383\n"
     ]
    }
   ],
   "source": [
    "print(f'Accuracy    : {Accuracy:.4f}')\n",
    "print(f'Precision   : {Precision:.4f}')\n",
    "print(f'Recall      : {Recall:.4f}')\n",
    "print(f'Specificity : {Specificity:.4f}')\n",
    "print(f'F1 Score    : {F1_Score:.4f}')"
   ]
  }
 ],
 "metadata": {
  "kernelspec": {
   "display_name": "Python 3 (ipykernel)",
   "language": "python",
   "name": "python3"
  },
  "language_info": {
   "codemirror_mode": {
    "name": "ipython",
    "version": 3
   },
   "file_extension": ".py",
   "mimetype": "text/x-python",
   "name": "python",
   "nbconvert_exporter": "python",
   "pygments_lexer": "ipython3",
   "version": "3.11.7"
  }
 },
 "nbformat": 4,
 "nbformat_minor": 5
}
