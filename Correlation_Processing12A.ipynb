{
 "cells": [
  {
   "cell_type": "markdown",
   "id": "5b35ba35",
   "metadata": {},
   "source": [
    "<center><h1 style=\"color:#1a1a1a;\n",
    "                    font-size:3em\">\n",
    "        NHANES - MTech Project \n",
    "        </h1> \n",
    "        <h2 style=\"color:#1a1a1a;\n",
    "                    font-size:2em\">\n",
    "        Feature Selection - Previous Studies fields - Correlation - Data collection (Lab)\n",
    "       </h2>\n",
    "       <h3 style=\"color:#1a1a1a;\n",
    "                    font-size:2em\">\n",
    "        Prakash Easow Thomas - 2022DA04285 - June 2024\n",
    "       </h3>\n",
    "</center>"
   ]
  },
  {
   "cell_type": "markdown",
   "id": "1d29c4a6",
   "metadata": {},
   "source": [
    "# 1. Importing Libraries and Reading the Datasets\n",
    "\n",
    "## 1.1 Importing the Libraries"
   ]
  },
  {
   "cell_type": "code",
   "execution_count": 5,
   "id": "c50efd5f",
   "metadata": {},
   "outputs": [],
   "source": [
    "import os\n",
    "import pandas as pd\n",
    "import numpy as np\n",
    "import seaborn as sns\n",
    "import matplotlib.pyplot as plt\n",
    "from sklearn.feature_selection import SelectKBest, f_classif\n",
    "from sklearn.preprocessing import LabelEncoder\n",
    "from sklearn.model_selection import train_test_split\n",
    "import xgboost as xgb\n",
    "from sklearn.metrics import accuracy_score\n",
    "from sklearn.preprocessing import MinMaxScaler, StandardScaler"
   ]
  },
  {
   "cell_type": "markdown",
   "id": "31170940",
   "metadata": {},
   "source": [
    "## 1.2 Reading the NHANES 2018 Datasets"
   ]
  },
  {
   "cell_type": "code",
   "execution_count": 7,
   "id": "2362a39b",
   "metadata": {},
   "outputs": [],
   "source": [
    "df1lab  = pd.read_csv('C:\\Prakash\\Personal\\Studies\\Techincal\\MTech. Data Science and Engineering\\Semester-wise\\Semester-I\\Study\\Sem-I - 0- Python Fundamentals for Data Science (S1-22_DSECLPFDS)\\PythonPgm\\MTech-Proj03-NHANES-2018\\Data\\laboratory.csv')\n",
    "df2demo = pd.read_csv('C:\\Prakash\\Personal\\Studies\\Techincal\\MTech. Data Science and Engineering\\Semester-wise\\Semester-I\\Study\\Sem-I - 0- Python Fundamentals for Data Science (S1-22_DSECLPFDS)\\PythonPgm\\MTech-Proj03-NHANES-2018\\Data\\demographics.csv')\n",
    "df3diet = pd.read_csv('C:\\Prakash\\Personal\\Studies\\Techincal\\MTech. Data Science and Engineering\\Semester-wise\\Semester-I\\Study\\Sem-I - 0- Python Fundamentals for Data Science (S1-22_DSECLPFDS)\\PythonPgm\\MTech-Proj03-NHANES-2018\\Data\\dietary.csv')\n",
    "df4exam = pd.read_csv('C:\\Prakash\\Personal\\Studies\\Techincal\\MTech. Data Science and Engineering\\Semester-wise\\Semester-I\\Study\\Sem-I - 0- Python Fundamentals for Data Science (S1-22_DSECLPFDS)\\PythonPgm\\MTech-Proj03-NHANES-2018\\Data\\examination.csv')\n",
    "df5ques = pd.read_csv('C:\\Prakash\\Personal\\Studies\\Techincal\\MTech. Data Science and Engineering\\Semester-wise\\Semester-I\\Study\\Sem-I - 0- Python Fundamentals for Data Science (S1-22_DSECLPFDS)\\PythonPgm\\MTech-Proj03-NHANES-2018\\Data\\questionnaire.csv')"
   ]
  },
  {
   "cell_type": "markdown",
   "id": "466a16aa",
   "metadata": {
    "tags": []
   },
   "source": [
    "## 1.3 Variables from the Previous Studies (Excluding lab Variables) + HbA1c"
   ]
  },
  {
   "cell_type": "code",
   "execution_count": 9,
   "id": "e6973330-c63c-4a11-9981-21ed90ba0f91",
   "metadata": {
    "tags": []
   },
   "outputs": [],
   "source": [
    "columns_to_select = [\n",
    "'LBXGLU',\t    #Fasting Glucose (mg/dL)\n",
    "'LBXSGL',   \t#Glucose, refrigerated serum (mg/dL)\n",
    "'LBDHDD',\t    #Direct HDL-Cholesterol (mg/dL)\n",
    "'LBDLDL',   \t#LDL-cholesterol (mg/dL)\n",
    "'LBXTC',    \t#Total Cholesterol (mg/dL)\n",
    "'URXUCR',   \t#Creatinine, urine (mg/dL)\n",
    "'URDACT',   \t#Albumin creatinine ratio (mg/g)\n",
    "'LBXSCR',   \t#Creatinine, refrigerated serum (mg/dL)\n",
    "'LBXSGTSI', \t#Gamma Glutamyl Transferase (GGT) (IU/L)\n",
    "'LBXHGB',   \t#Hemoglobin (g/dL)\n",
    "'LBXMCHSI', \t#Mean cell hemoglobin (pg)\n",
    "'LBXMC',    \t#Mean cell hemoglobin concentration (g/dL)\n",
    "'LBXIN',    \t#Insulin (uU/mL)\n",
    "'URXPREG',  \t#Urine Pregnancy Result\n",
    "'LBXTR',    \t#Triglyceride (mg/dL)\n",
    "'LBXSUA',    \t#Uric acid (mg/dL)\n",
    "'BMXBMI',        #\tBody Mass Index (kg/m**2)    \n",
    "'LBXGH'         #Glycohemoglobin (%)\n",
    "\n",
    "]   "
   ]
  },
  {
   "cell_type": "markdown",
   "id": "238a2a23-e824-4d38-a5be-63fa0f8ecb16",
   "metadata": {},
   "source": [
    "# 2. Merging and Selection of Data - NHANES 2018 Data\n",
    "\n",
    "## 2.1 Merging Data"
   ]
  },
  {
   "cell_type": "code",
   "execution_count": 11,
   "id": "db4b51ac-ce49-4990-a36d-e36069115f0a",
   "metadata": {},
   "outputs": [
    {
     "name": "stdout",
     "output_type": "stream",
     "text": [
      "Files merged successfully into 'Before_Full_Feature_Selection_09_Data.csv'\n"
     ]
    }
   ],
   "source": [
    "common_key = 'SEQN'\n",
    "# Merge the DataFrames\n",
    "merged_dfNHAENES2018 = df1lab.merge(df2demo, on=common_key, how='outer')\n",
    "merged_dfNHAENES2018 = merged_dfNHAENES2018.merge(df3diet, on=common_key, how='outer')\n",
    "merged_dfNHAENES2018 = merged_dfNHAENES2018.merge(df4exam, on=common_key, how='outer')\n",
    "merged_dfNHAENES2018 = merged_dfNHAENES2018.merge(df5ques, on=common_key, how='outer')\n",
    "\n",
    "# Save the merged DataFrame to a new CSV file\n",
    "merged_dfNHAENES2018.to_csv('Data\\Before_Full_Feature_Selection_09_Data.csv', index=False)\n",
    "\n",
    "print(\"Files merged successfully into 'Before_Full_Feature_Selection_09_Data.csv'\")"
   ]
  },
  {
   "cell_type": "code",
   "execution_count": 12,
   "id": "d8146c6a-8428-4158-83aa-6d554481705c",
   "metadata": {
    "tags": []
   },
   "outputs": [
    {
     "data": {
      "text/html": [
       "<div>\n",
       "<style scoped>\n",
       "    .dataframe tbody tr th:only-of-type {\n",
       "        vertical-align: middle;\n",
       "    }\n",
       "\n",
       "    .dataframe tbody tr th {\n",
       "        vertical-align: top;\n",
       "    }\n",
       "\n",
       "    .dataframe thead th {\n",
       "        text-align: right;\n",
       "    }\n",
       "</style>\n",
       "<table border=\"1\" class=\"dataframe\">\n",
       "  <thead>\n",
       "    <tr style=\"text-align: right;\">\n",
       "      <th></th>\n",
       "      <th>SEQN</th>\n",
       "      <th>URXUMA</th>\n",
       "      <th>URXUMS</th>\n",
       "      <th>URXUCR</th>\n",
       "      <th>URXCRS</th>\n",
       "      <th>URDACT</th>\n",
       "      <th>WTSSGP2Y</th>\n",
       "      <th>SSAGP</th>\n",
       "      <th>WTSA2YR</th>\n",
       "      <th>URXUAS</th>\n",
       "      <th>...</th>\n",
       "      <th>WHD110</th>\n",
       "      <th>WHD120</th>\n",
       "      <th>WHD130</th>\n",
       "      <th>WHD140</th>\n",
       "      <th>WHQ150</th>\n",
       "      <th>WHQ190</th>\n",
       "      <th>WHQ200</th>\n",
       "      <th>WHQ030M</th>\n",
       "      <th>WHQ500</th>\n",
       "      <th>WHQ520</th>\n",
       "    </tr>\n",
       "  </thead>\n",
       "  <tbody>\n",
       "    <tr>\n",
       "      <th>0</th>\n",
       "      <td>93703.0</td>\n",
       "      <td>NaN</td>\n",
       "      <td>NaN</td>\n",
       "      <td>NaN</td>\n",
       "      <td>NaN</td>\n",
       "      <td>NaN</td>\n",
       "      <td>0.0</td>\n",
       "      <td>NaN</td>\n",
       "      <td>NaN</td>\n",
       "      <td>NaN</td>\n",
       "      <td>...</td>\n",
       "      <td>NaN</td>\n",
       "      <td>NaN</td>\n",
       "      <td>NaN</td>\n",
       "      <td>NaN</td>\n",
       "      <td>NaN</td>\n",
       "      <td>NaN</td>\n",
       "      <td>NaN</td>\n",
       "      <td>NaN</td>\n",
       "      <td>NaN</td>\n",
       "      <td>NaN</td>\n",
       "    </tr>\n",
       "    <tr>\n",
       "      <th>1</th>\n",
       "      <td>93704.0</td>\n",
       "      <td>NaN</td>\n",
       "      <td>NaN</td>\n",
       "      <td>NaN</td>\n",
       "      <td>NaN</td>\n",
       "      <td>NaN</td>\n",
       "      <td>0.0</td>\n",
       "      <td>NaN</td>\n",
       "      <td>NaN</td>\n",
       "      <td>NaN</td>\n",
       "      <td>...</td>\n",
       "      <td>NaN</td>\n",
       "      <td>NaN</td>\n",
       "      <td>NaN</td>\n",
       "      <td>NaN</td>\n",
       "      <td>NaN</td>\n",
       "      <td>NaN</td>\n",
       "      <td>NaN</td>\n",
       "      <td>NaN</td>\n",
       "      <td>NaN</td>\n",
       "      <td>NaN</td>\n",
       "    </tr>\n",
       "    <tr>\n",
       "      <th>2</th>\n",
       "      <td>93705.0</td>\n",
       "      <td>3.2</td>\n",
       "      <td>3.2</td>\n",
       "      <td>24.0</td>\n",
       "      <td>2121.6</td>\n",
       "      <td>13.33</td>\n",
       "      <td>NaN</td>\n",
       "      <td>NaN</td>\n",
       "      <td>NaN</td>\n",
       "      <td>NaN</td>\n",
       "      <td>...</td>\n",
       "      <td>150.0</td>\n",
       "      <td>130.0</td>\n",
       "      <td>63.0</td>\n",
       "      <td>170.0</td>\n",
       "      <td>62.0</td>\n",
       "      <td>2.0</td>\n",
       "      <td>NaN</td>\n",
       "      <td>NaN</td>\n",
       "      <td>NaN</td>\n",
       "      <td>NaN</td>\n",
       "    </tr>\n",
       "    <tr>\n",
       "      <th>3</th>\n",
       "      <td>93706.0</td>\n",
       "      <td>39.6</td>\n",
       "      <td>39.6</td>\n",
       "      <td>69.0</td>\n",
       "      <td>6099.6</td>\n",
       "      <td>57.39</td>\n",
       "      <td>NaN</td>\n",
       "      <td>NaN</td>\n",
       "      <td>NaN</td>\n",
       "      <td>NaN</td>\n",
       "      <td>...</td>\n",
       "      <td>NaN</td>\n",
       "      <td>NaN</td>\n",
       "      <td>NaN</td>\n",
       "      <td>150.0</td>\n",
       "      <td>17.0</td>\n",
       "      <td>2.0</td>\n",
       "      <td>NaN</td>\n",
       "      <td>NaN</td>\n",
       "      <td>NaN</td>\n",
       "      <td>NaN</td>\n",
       "    </tr>\n",
       "    <tr>\n",
       "      <th>4</th>\n",
       "      <td>93707.0</td>\n",
       "      <td>41.6</td>\n",
       "      <td>41.6</td>\n",
       "      <td>209.0</td>\n",
       "      <td>18475.6</td>\n",
       "      <td>19.90</td>\n",
       "      <td>NaN</td>\n",
       "      <td>NaN</td>\n",
       "      <td>24984.393699</td>\n",
       "      <td>5.09</td>\n",
       "      <td>...</td>\n",
       "      <td>NaN</td>\n",
       "      <td>NaN</td>\n",
       "      <td>NaN</td>\n",
       "      <td>NaN</td>\n",
       "      <td>NaN</td>\n",
       "      <td>NaN</td>\n",
       "      <td>NaN</td>\n",
       "      <td>3.0</td>\n",
       "      <td>3.0</td>\n",
       "      <td>2.0</td>\n",
       "    </tr>\n",
       "  </tbody>\n",
       "</table>\n",
       "<p>5 rows × 2236 columns</p>\n",
       "</div>"
      ],
      "text/plain": [
       "      SEQN  URXUMA  URXUMS  URXUCR   URXCRS  URDACT  WTSSGP2Y  SSAGP  \\\n",
       "0  93703.0     NaN     NaN     NaN      NaN     NaN       0.0    NaN   \n",
       "1  93704.0     NaN     NaN     NaN      NaN     NaN       0.0    NaN   \n",
       "2  93705.0     3.2     3.2    24.0   2121.6   13.33       NaN    NaN   \n",
       "3  93706.0    39.6    39.6    69.0   6099.6   57.39       NaN    NaN   \n",
       "4  93707.0    41.6    41.6   209.0  18475.6   19.90       NaN    NaN   \n",
       "\n",
       "        WTSA2YR  URXUAS  ...  WHD110  WHD120  WHD130  WHD140  WHQ150  WHQ190  \\\n",
       "0           NaN     NaN  ...     NaN     NaN     NaN     NaN     NaN     NaN   \n",
       "1           NaN     NaN  ...     NaN     NaN     NaN     NaN     NaN     NaN   \n",
       "2           NaN     NaN  ...   150.0   130.0    63.0   170.0    62.0     2.0   \n",
       "3           NaN     NaN  ...     NaN     NaN     NaN   150.0    17.0     2.0   \n",
       "4  24984.393699    5.09  ...     NaN     NaN     NaN     NaN     NaN     NaN   \n",
       "\n",
       "   WHQ200  WHQ030M  WHQ500  WHQ520  \n",
       "0     NaN      NaN     NaN     NaN  \n",
       "1     NaN      NaN     NaN     NaN  \n",
       "2     NaN      NaN     NaN     NaN  \n",
       "3     NaN      NaN     NaN     NaN  \n",
       "4     NaN      3.0     3.0     2.0  \n",
       "\n",
       "[5 rows x 2236 columns]"
      ]
     },
     "execution_count": 12,
     "metadata": {},
     "output_type": "execute_result"
    }
   ],
   "source": [
    "merged_dfNHAENES2018.head()"
   ]
  },
  {
   "cell_type": "markdown",
   "id": "223deb5e-7c1c-41e4-9d12-b8736f24afc1",
   "metadata": {},
   "source": [
    "## 2.2 Selection of Data"
   ]
  },
  {
   "cell_type": "code",
   "execution_count": 14,
   "id": "773b850c-4ea5-4f08-8149-d45c65c27a35",
   "metadata": {
    "tags": []
   },
   "outputs": [
    {
     "name": "stdout",
     "output_type": "stream",
     "text": [
      "\n",
      "Count of NaN values in each column:\n",
      "LBXGLU      6363\n",
      "LBXSGL      3353\n",
      "LBDHDD      2516\n",
      "LBDLDL      6446\n",
      "LBXTC       2516\n",
      "URXUCR      1622\n",
      "URDACT      1622\n",
      "LBXSCR      3351\n",
      "LBXSGTSI    3352\n",
      "LBXHGB      1726\n",
      "LBXMCHSI    1726\n",
      "LBXMC       1726\n",
      "LBXIN       6429\n",
      "URXPREG     8198\n",
      "LBXTR       6420\n",
      "LBXSUA      3353\n",
      "BMXBMI      1249\n",
      "LBXGH       3209\n",
      "dtype: int64\n"
     ]
    }
   ],
   "source": [
    "valid_columns = pd.Index(columns_to_select).intersection(merged_dfNHAENES2018.columns)\n",
    "merged_dfNHAENES2018_selected = merged_dfNHAENES2018[columns_to_select]\n",
    "nan_counts = merged_dfNHAENES2018_selected.isna().sum()\n",
    "print(\"\\nCount of NaN values in each column:\")\n",
    "print(nan_counts)"
   ]
  },
  {
   "cell_type": "markdown",
   "id": "9781c50b-275a-4e03-8ae4-d343283e7197",
   "metadata": {},
   "source": [
    "# 3. Data Preprocessing - NHANES 2018 Data\n",
    "         - Remove the Non-Numeric Fields \n",
    "         - Remove the records where (LBXGH) No HbA1c is not present  \n",
    "         - Initilized NaN with zeros   \n",
    "\n",
    "## 3.1  Removing the Non-Numeric Data"
   ]
  },
  {
   "cell_type": "code",
   "execution_count": 16,
   "id": "a8e9ddbb-ee82-4864-87e8-4632d92a5601",
   "metadata": {},
   "outputs": [],
   "source": [
    "def clean_data(df):\n",
    "    for column in df.columns:\n",
    "        # Check if the column contains byte-strings\n",
    "        if df[column].dtype == object:\n",
    "            # Decode byte-strings to regular strings\n",
    "            df[column] = df[column].apply(lambda x: x.decode('utf-8') if isinstance(x, bytes) else x)\n",
    "        # Convert non-numeric values to NaN for numeric columns\n",
    "        df[column] = pd.to_numeric(df[column], errors='ignore')\n",
    "    return df"
   ]
  },
  {
   "cell_type": "code",
   "execution_count": 17,
   "id": "1416fc0b-aec7-4f73-bfad-97b7eda0d1f7",
   "metadata": {},
   "outputs": [
    {
     "name": "stdout",
     "output_type": "stream",
     "text": [
      "      LBXGLU  LBXSGL  LBDHDD  LBDLDL  LBXTC  URXUCR  URDACT  LBXSCR  LBXSGTSI  \\\n",
      "0        NaN     NaN     NaN     NaN    NaN     NaN     NaN     NaN       NaN   \n",
      "1        NaN     NaN     NaN     NaN    NaN     NaN     NaN     NaN       NaN   \n",
      "2        NaN    85.0    60.0     NaN  157.0    24.0   13.33    0.92      21.0   \n",
      "3        NaN    94.0    47.0     NaN  148.0    69.0   57.39    0.81      16.0   \n",
      "4        NaN   115.0    68.0     NaN  189.0   209.0   19.90    0.64       9.0   \n",
      "...      ...     ...     ...     ...    ...     ...     ...     ...       ...   \n",
      "9249     NaN     NaN     NaN     NaN    NaN     NaN     NaN     NaN       NaN   \n",
      "9250     NaN     NaN     NaN     NaN    NaN     NaN     NaN     NaN       NaN   \n",
      "9251     NaN     NaN     NaN     NaN    NaN     NaN     NaN     NaN       NaN   \n",
      "9252     NaN     NaN     NaN     NaN    NaN     NaN     NaN     NaN       NaN   \n",
      "9253     NaN     NaN     NaN     NaN    NaN     NaN     NaN     NaN       NaN   \n",
      "\n",
      "      LBXHGB  LBXMCHSI  LBXMC  LBXIN  URXPREG  LBXTR  LBXSUA  BMXBMI  LBXGH  \n",
      "0        NaN       NaN    NaN    NaN      NaN    NaN     NaN    17.5    NaN  \n",
      "1       13.1      30.8   35.4    NaN      NaN    NaN     NaN    15.7    NaN  \n",
      "2       11.9      21.7   32.4    NaN      NaN    NaN     5.8    31.7    6.2  \n",
      "3       16.3      31.1   34.7    NaN      NaN    NaN     8.0    21.5    5.2  \n",
      "4       14.5      28.9   34.4    NaN      NaN    NaN     5.5    18.1    5.6  \n",
      "...      ...       ...    ...    ...      ...    ...     ...     ...    ...  \n",
      "9249     NaN       NaN    NaN    NaN      NaN    NaN     NaN     NaN    NaN  \n",
      "9250     NaN       NaN    NaN    NaN      NaN    NaN     NaN     NaN    NaN  \n",
      "9251     NaN       NaN    NaN    NaN      NaN    NaN     NaN     NaN    NaN  \n",
      "9252     NaN       NaN    NaN    NaN      NaN    NaN     NaN     NaN    NaN  \n",
      "9253     NaN       NaN    NaN    NaN      NaN    NaN     NaN     NaN    NaN  \n",
      "\n",
      "[9254 rows x 18 columns]\n"
     ]
    },
    {
     "name": "stderr",
     "output_type": "stream",
     "text": [
      "C:\\Users\\praka\\AppData\\Local\\Temp\\ipykernel_38364\\3940003188.py:8: SettingWithCopyWarning: \n",
      "A value is trying to be set on a copy of a slice from a DataFrame.\n",
      "Try using .loc[row_indexer,col_indexer] = value instead\n",
      "\n",
      "See the caveats in the documentation: https://pandas.pydata.org/pandas-docs/stable/user_guide/indexing.html#returning-a-view-versus-a-copy\n",
      "  df[column] = pd.to_numeric(df[column], errors='ignore')\n"
     ]
    }
   ],
   "source": [
    "merged_dfNHAENES2018_Cleaned =clean_data(merged_dfNHAENES2018_selected)\n",
    "print(merged_dfNHAENES2018_Cleaned)"
   ]
  },
  {
   "cell_type": "markdown",
   "id": "8d91bcb5-4af0-44e2-829c-eac70f982466",
   "metadata": {},
   "source": [
    "## 3.2  Removing the records where HbA1c(LBXGH) is not present"
   ]
  },
  {
   "cell_type": "code",
   "execution_count": 19,
   "id": "8e63c411-d14e-4d7f-b21f-b899c70bcda3",
   "metadata": {},
   "outputs": [
    {
     "name": "stdout",
     "output_type": "stream",
     "text": [
      "      LBXGLU  LBXSGL  LBDHDD  LBDLDL  LBXTC  URXUCR  URDACT  LBXSCR  LBXSGTSI  \\\n",
      "0        NaN    85.0    60.0     NaN  157.0    24.0   13.33    0.92      21.0   \n",
      "1        NaN    94.0    47.0     NaN  148.0    69.0   57.39    0.81      16.0   \n",
      "2        NaN   115.0    68.0     NaN  189.0   209.0   19.90    0.64       9.0   \n",
      "3      122.0   116.0    88.0   109.0  209.0    47.0   19.36    0.58      22.0   \n",
      "4        NaN    96.0    65.0     NaN  176.0   215.0   12.28    1.32      31.0   \n",
      "...      ...     ...     ...     ...    ...     ...     ...     ...       ...   \n",
      "5946   158.0   150.0    60.0    43.0  119.0    51.0   10.39    0.70      18.0   \n",
      "5947     NaN   101.0    49.0     NaN  182.0   231.0    4.42    0.92      28.0   \n",
      "5948    94.0    88.0    54.0   108.0  172.0    31.0   10.97    0.69       8.0   \n",
      "5949     NaN    84.0    34.0     NaN  150.0   177.0   47.01    0.85      16.0   \n",
      "5950    91.0    90.0    34.0    75.0  163.0    75.0   70.93    0.82      72.0   \n",
      "\n",
      "      LBXHGB  LBXMCHSI  LBXMC   LBXIN  URXPREG  LBXTR  LBXSUA  BMXBMI  LBXGH  \n",
      "0       11.9      21.7   32.4     NaN      NaN    NaN     5.8    31.7    6.2  \n",
      "1       16.3      31.1   34.7     NaN      NaN    NaN     8.0    21.5    5.2  \n",
      "2       14.5      28.9   34.4     NaN      NaN    NaN     5.5    18.1    5.6  \n",
      "3       13.2      28.8   33.1    9.72      NaN   58.0     4.5    23.7    6.2  \n",
      "4       15.4      30.0   33.8     NaN      NaN    NaN     6.2    38.9    6.3  \n",
      "...      ...       ...    ...     ...      ...    ...     ...     ...    ...  \n",
      "5946    13.4      29.0   33.1    4.39      NaN   78.0     6.4    20.0    7.4  \n",
      "5947    15.5      30.9   34.8     NaN      NaN    NaN     5.8    35.8    5.9  \n",
      "5948     6.4      17.3   27.9    9.49      2.0   49.0     3.1    26.1    5.2  \n",
      "5949    11.4      23.1   33.7     NaN      NaN    NaN     6.3    45.6    5.5  \n",
      "5950    17.4      31.9   34.7  105.73      NaN  269.0     6.4    36.1    5.4  \n",
      "\n",
      "[5951 rows x 18 columns]\n"
     ]
    }
   ],
   "source": [
    "merged_dfNHAENES2018_Cleaned_numeric = merged_dfNHAENES2018_Cleaned.select_dtypes(include=[int, float])\n",
    "column_to_check_HbA1c ='LBXGH'\n",
    "merged_dfNHAENES2018_Cleaned_numeric_HBV =merged_dfNHAENES2018_Cleaned_numeric.dropna(subset=[column_to_check_HbA1c])\n",
    "column_to_check_BMI = 'BMXBMI'\n",
    "merged_dfNHAENES2018_Cleaned_numeric_HBV =merged_dfNHAENES2018_Cleaned_numeric_HBV.dropna(subset=[column_to_check_BMI])\n",
    "\n",
    "merged_dfNHAENES2018_Cleaned_numeric_HBV =merged_dfNHAENES2018_Cleaned_numeric_HBV.reset_index(drop=True)\n",
    "\n",
    "#dataset_for_ML = dataset_for_ML.reset_index(drop=True)\n",
    "print(merged_dfNHAENES2018_Cleaned_numeric_HBV)"
   ]
  },
  {
   "cell_type": "code",
   "execution_count": 20,
   "id": "8ff8e2ac-e99a-48b9-b997-42641d85c211",
   "metadata": {
    "tags": []
   },
   "outputs": [
    {
     "name": "stdout",
     "output_type": "stream",
     "text": [
      "\n",
      "Count of NaN values in each column:\n",
      "LBXGLU      3113\n",
      "LBXSGL       147\n",
      "LBDHDD       115\n",
      "LBDLDL      3194\n",
      "LBXTC        115\n",
      "URXUCR        79\n",
      "URDACT        79\n",
      "LBXSCR       145\n",
      "LBXSGTSI     146\n",
      "LBXHGB         3\n",
      "LBXMCHSI       3\n",
      "LBXMC          3\n",
      "LBXIN       3177\n",
      "URXPREG     4956\n",
      "LBXTR       3168\n",
      "LBXSUA       147\n",
      "BMXBMI         0\n",
      "LBXGH          0\n",
      "dtype: int64\n"
     ]
    }
   ],
   "source": [
    "nan_counts = merged_dfNHAENES2018_Cleaned_numeric_HBV.isna().sum()\n",
    "print(\"\\nCount of NaN values in each column:\")\n",
    "print(nan_counts)"
   ]
  },
  {
   "cell_type": "code",
   "execution_count": 21,
   "id": "4a08fe7f-765f-4562-b8ef-3c084fc33728",
   "metadata": {
    "tags": []
   },
   "outputs": [],
   "source": [
    "merged_dfNHAENES2018_Cleaned_numeric_HBV.loc[merged_dfNHAENES2018_Cleaned_numeric_HBV['LBXHGB'].isna(), 'LBXHGB'] = 14\n",
    "merged_dfNHAENES2018_Cleaned_numeric_HBV.loc[merged_dfNHAENES2018_Cleaned_numeric_HBV['LBXMCHSI'].isna(), 'LBXMCHSI'] = 29\n",
    "merged_dfNHAENES2018_Cleaned_numeric_HBV.loc[merged_dfNHAENES2018_Cleaned_numeric_HBV['LBXMC'].isna(), 'LBXMC'] = 34\n",
    "merged_dfNHAENES2018_Cleaned_numeric_HBV.loc[merged_dfNHAENES2018_Cleaned_numeric_HBV['LBXIN'].isna(), 'LBXIN'] = 8\n",
    "merged_dfNHAENES2018_Cleaned_numeric_HBV.loc[merged_dfNHAENES2018_Cleaned_numeric_HBV['URXPREG'].isna(), 'URXPREG'] = 2\n",
    "merged_dfNHAENES2018_Cleaned_numeric_HBV.loc[merged_dfNHAENES2018_Cleaned_numeric_HBV['LBXTR'].isna(), 'LBXTR'] = 90\n",
    "merged_dfNHAENES2018_Cleaned_numeric_HBV.loc[merged_dfNHAENES2018_Cleaned_numeric_HBV['LBXSUA'].isna(), 'LBXSUA'] = 6\n",
    "\n",
    "merged_dfNHAENES2018_Cleaned_numeric_HBV['LBXSGL'].fillna(merged_dfNHAENES2018_Cleaned_numeric_HBV['LBXSGL'].min(), inplace=True)\n",
    "merged_dfNHAENES2018_Cleaned_numeric_HBV['LBDHDD'].fillna(merged_dfNHAENES2018_Cleaned_numeric_HBV['LBDHDD'].min(), inplace=True)\n",
    "merged_dfNHAENES2018_Cleaned_numeric_HBV['LBDLDL'].fillna(merged_dfNHAENES2018_Cleaned_numeric_HBV['LBDLDL'].min(), inplace=True)\n",
    "merged_dfNHAENES2018_Cleaned_numeric_HBV['LBXTC'].fillna(merged_dfNHAENES2018_Cleaned_numeric_HBV['LBXTC'].min(), inplace=True)\n",
    "merged_dfNHAENES2018_Cleaned_numeric_HBV['URXUCR'].fillna(merged_dfNHAENES2018_Cleaned_numeric_HBV['URXUCR'].min(), inplace=True)\n",
    "merged_dfNHAENES2018_Cleaned_numeric_HBV['URDACT'].fillna(merged_dfNHAENES2018_Cleaned_numeric_HBV['URDACT'].min(), inplace=True)\n",
    "merged_dfNHAENES2018_Cleaned_numeric_HBV['LBXSCR'].fillna(merged_dfNHAENES2018_Cleaned_numeric_HBV['LBXSCR'].min(), inplace=True)\n",
    "merged_dfNHAENES2018_Cleaned_numeric_HBV['LBXSGTSI'].fillna(merged_dfNHAENES2018_Cleaned_numeric_HBV['LBXSGTSI'].min(), inplace=True)"
   ]
  },
  {
   "cell_type": "code",
   "execution_count": 22,
   "id": "4168f1e2-e0ed-4966-8147-4d8d0360e0b3",
   "metadata": {
    "tags": []
   },
   "outputs": [],
   "source": [
    "def fill_na_for_Fasting_Blood_Sugar_value(row,field):\n",
    "    if pd.isna(row[field]) and row['LBXGH'] < 5.7:\n",
    "        row[field]  = (28.7 * row['LBXGH']) - 46.7\n",
    "        if row[field] > 120:\n",
    "            row[field] = 120\n",
    "        return row[field] \n",
    "    elif pd.isna(row[field]) and row['LBXGH'] >= 5.7 and row['LBXGH'] < 6.4:\n",
    "        row[field]  = (28.7 * row['LBXGH']) - 46.7\n",
    "        if row[field] > 125:\n",
    "            row[field] = 125\n",
    "        return row[field] \n",
    "    elif pd.isna(row[field]) and row['LBXGH']  >= 6.4:\n",
    "        row[field]  = (28.7 * row['LBXGH']) - 46.7\n",
    "        return row[field] \n",
    "    return row[field]\n",
    "    \n",
    "merged_dfNHAENES2018_Cleaned_numeric_HBV['LBXGLU'] = merged_dfNHAENES2018_Cleaned_numeric_HBV.apply(fill_na_for_Fasting_Blood_Sugar_value, axis=1, field='LBXGLU')\n"
   ]
  },
  {
   "cell_type": "code",
   "execution_count": 23,
   "id": "a5078f44-d1e1-4b97-8043-b37747253b30",
   "metadata": {
    "tags": []
   },
   "outputs": [
    {
     "name": "stdout",
     "output_type": "stream",
     "text": [
      "      LBXGLU  LBXSGL  LBDHDD  LBDLDL  LBXTC  URXUCR  URDACT  LBXSCR  LBXSGTSI  \\\n",
      "0     125.00    85.0    60.0    18.0  157.0    24.0   13.33    0.92      21.0   \n",
      "1     102.54    94.0    47.0    18.0  148.0    69.0   57.39    0.81      16.0   \n",
      "2     114.02   115.0    68.0    18.0  189.0   209.0   19.90    0.64       9.0   \n",
      "3     122.00   116.0    88.0   109.0  209.0    47.0   19.36    0.58      22.0   \n",
      "4     125.00    96.0    65.0    18.0  176.0   215.0   12.28    1.32      31.0   \n",
      "...      ...     ...     ...     ...    ...     ...     ...     ...       ...   \n",
      "5946  158.00   150.0    60.0    43.0  119.0    51.0   10.39    0.70      18.0   \n",
      "5947  122.63   101.0    49.0    18.0  182.0   231.0    4.42    0.92      28.0   \n",
      "5948   94.00    88.0    54.0   108.0  172.0    31.0   10.97    0.69       8.0   \n",
      "5949  111.15    84.0    34.0    18.0  150.0   177.0   47.01    0.85      16.0   \n",
      "5950   91.00    90.0    34.0    75.0  163.0    75.0   70.93    0.82      72.0   \n",
      "\n",
      "      LBXHGB  LBXMCHSI  LBXMC   LBXIN  URXPREG  LBXTR  LBXSUA  BMXBMI  LBXGH  \n",
      "0       11.9      21.7   32.4    8.00      2.0   90.0     5.8    31.7    6.2  \n",
      "1       16.3      31.1   34.7    8.00      2.0   90.0     8.0    21.5    5.2  \n",
      "2       14.5      28.9   34.4    8.00      2.0   90.0     5.5    18.1    5.6  \n",
      "3       13.2      28.8   33.1    9.72      2.0   58.0     4.5    23.7    6.2  \n",
      "4       15.4      30.0   33.8    8.00      2.0   90.0     6.2    38.9    6.3  \n",
      "...      ...       ...    ...     ...      ...    ...     ...     ...    ...  \n",
      "5946    13.4      29.0   33.1    4.39      2.0   78.0     6.4    20.0    7.4  \n",
      "5947    15.5      30.9   34.8    8.00      2.0   90.0     5.8    35.8    5.9  \n",
      "5948     6.4      17.3   27.9    9.49      2.0   49.0     3.1    26.1    5.2  \n",
      "5949    11.4      23.1   33.7    8.00      2.0   90.0     6.3    45.6    5.5  \n",
      "5950    17.4      31.9   34.7  105.73      2.0  269.0     6.4    36.1    5.4  \n",
      "\n",
      "[5951 rows x 18 columns]\n"
     ]
    }
   ],
   "source": [
    "print(merged_dfNHAENES2018_Cleaned_numeric_HBV)"
   ]
  },
  {
   "cell_type": "code",
   "execution_count": 24,
   "id": "26869cd4-0268-47f9-bd4e-616251f13cca",
   "metadata": {
    "tags": []
   },
   "outputs": [
    {
     "name": "stdout",
     "output_type": "stream",
     "text": [
      "\n",
      "Count of NaN values in each column:\n",
      "LBXGLU      0\n",
      "LBXSGL      0\n",
      "LBDHDD      0\n",
      "LBDLDL      0\n",
      "LBXTC       0\n",
      "URXUCR      0\n",
      "URDACT      0\n",
      "LBXSCR      0\n",
      "LBXSGTSI    0\n",
      "LBXHGB      0\n",
      "LBXMCHSI    0\n",
      "LBXMC       0\n",
      "LBXIN       0\n",
      "URXPREG     0\n",
      "LBXTR       0\n",
      "LBXSUA      0\n",
      "BMXBMI      0\n",
      "LBXGH       0\n",
      "dtype: int64\n"
     ]
    }
   ],
   "source": [
    "nan_counts = merged_dfNHAENES2018_Cleaned_numeric_HBV.isna().sum()\n",
    "print(\"\\nCount of NaN values in each column:\")\n",
    "print(nan_counts)"
   ]
  },
  {
   "cell_type": "code",
   "execution_count": 25,
   "id": "877366bf-2aa1-449a-948b-89cffceb6309",
   "metadata": {},
   "outputs": [],
   "source": [
    "merged_dfNHAENES2018_Cleaned_numeric_HBV=merged_dfNHAENES2018_Cleaned_numeric_HBV.drop('BMXBMI', axis=1)"
   ]
  },
  {
   "cell_type": "code",
   "execution_count": 26,
   "id": "e0d3d533-e100-4a8b-b2a3-89adf2aa37da",
   "metadata": {
    "tags": []
   },
   "outputs": [],
   "source": [
    "merged_dfNHAENES2018_Cleaned_numeric_HBV.to_csv('Data\\After_DataPreprocessing_Lab.csv', index=False)"
   ]
  }
 ],
 "metadata": {
  "kernelspec": {
   "display_name": "Python 3 (ipykernel)",
   "language": "python",
   "name": "python3"
  },
  "language_info": {
   "codemirror_mode": {
    "name": "ipython",
    "version": 3
   },
   "file_extension": ".py",
   "mimetype": "text/x-python",
   "name": "python",
   "nbconvert_exporter": "python",
   "pygments_lexer": "ipython3",
   "version": "3.11.7"
  }
 },
 "nbformat": 4,
 "nbformat_minor": 5
}
