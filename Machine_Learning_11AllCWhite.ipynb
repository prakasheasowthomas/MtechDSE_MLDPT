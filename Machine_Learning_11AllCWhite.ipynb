{
 "cells": [
  {
   "cell_type": "markdown",
   "id": "4f43377d-7de4-42c2-9406-8c570689ab19",
   "metadata": {},
   "source": [
    "<center><h1 style=\"color:#1a1a1a;\n",
    "                    font-size:3em\">\n",
    "        NHANES - MTech Project \n",
    "        </h1> \n",
    "        <h2 style=\"color:#1a1a1a;\n",
    "                    font-size:2em\" >\n",
    "        Machine learning Algorithms\n",
    "          </h2>   \n",
    "         <h3 style=\"color:#1a1a1a; font-size:2em\" align=\"left\">    Supervised Learning  </h3> \n",
    "         <h4 style=\"color:#1a1a1a; font-size:1em\" align=\"left\">    1. XGBoost Algorithm  </h4> \n",
    "         <h4 style=\"color:#1a1a1a; font-size:1em\" align=\"left\">    2. Random Forest Algorithm  </h4> \n",
    "         <h4 style=\"color:#1a1a1a; font-size:1em\" align=\"left\">    3. Logistic Regression  </h4> \n",
    "         <h4 style=\"color:#1a1a1a; font-size:1em\" align=\"left\">    4. Light Gradient Boosting Machine (Light GBM)  </h4> \n",
    "         <h4 style=\"color:#1a1a1a; font-size:1em\" align=\"left\">    5. Decision Tree Algorithm  </h4> \n",
    "         <h4 style=\"color:#1a1a1a; font-size:1em\" align=\"left\">    6. support vector machine (SVM)  </h4> \n",
    "        <h3 style=\"color:#1a1a1a; font-size:2em\" align=\"left\">   Unsupervised Supervised Learning  </h3> \n",
    "         <h4 style=\"color:#1a1a1a; font-size:1em\" align=\"left\">    1. K-Means Algorithm  </h4> \n",
    "       <h3 style=\"color:#1a1a1a;\n",
    "                    font-size:2em\">\n",
    "        Prakash Easow Thomas - 2022DA04285 - August 2024\n",
    "       </h3>\n",
    "</center>"
   ]
  },
  {
   "cell_type": "markdown",
   "id": "26111548-2c26-4f47-85b3-207d2f7b116c",
   "metadata": {},
   "source": [
    "# 1. Importing Libraries and Reading the Datasets\n",
    "\n",
    "## 1.1 Importing the Libraries"
   ]
  },
  {
   "cell_type": "code",
   "execution_count": 18,
   "id": "cf9c4d25-3ed7-41af-8f84-95a79f15569b",
   "metadata": {
    "tags": []
   },
   "outputs": [],
   "source": [
    "#!pip install lightgbm\n",
    "#!pip install scikit-learn"
   ]
  },
  {
   "cell_type": "code",
   "execution_count": 19,
   "id": "c50efd5f",
   "metadata": {
    "tags": []
   },
   "outputs": [
    {
     "name": "stdout",
     "output_type": "stream",
     "text": [
      "WARNING:tensorflow:From C:\\Users\\praka\\AppData\\Roaming\\Python\\Python311\\site-packages\\keras\\src\\losses.py:2976: The name tf.losses.sparse_softmax_cross_entropy is deprecated. Please use tf.compat.v1.losses.sparse_softmax_cross_entropy instead.\n",
      "\n"
     ]
    }
   ],
   "source": [
    "import os\n",
    "import pandas as pd\n",
    "import numpy as np\n",
    "import seaborn as sns\n",
    "import matplotlib.pyplot as plt\n",
    "from sklearn.feature_selection import SelectKBest, f_classif\n",
    "from sklearn.preprocessing import LabelEncoder\n",
    "from sklearn.model_selection import train_test_split\n",
    "import xgboost as xgb\n",
    "from sklearn.metrics import accuracy_score\n",
    "from sklearn.model_selection import KFold,cross_val_score\n",
    "from sklearn.ensemble import RandomForestClassifier\n",
    "from sklearn.linear_model import LogisticRegression\n",
    "import lightgbm as lgb\n",
    "from sklearn.preprocessing import StandardScaler\n",
    "from tensorflow.keras.models import Sequential\n",
    "from tensorflow.keras.layers import Dense\n",
    "from tensorflow.keras.optimizers import RMSprop\n",
    "from tensorflow.keras.utils import to_categorical\n",
    "from tensorflow.keras.models import Sequential\n",
    "from tensorflow.keras.layers import Dense\n",
    "from tensorflow.keras.optimizers import Adagrad\n",
    "from sklearn.cluster import KMeans\n",
    "from sklearn.metrics import silhouette_score\n",
    "from sklearn.model_selection import KFold\n",
    "from sklearn.decomposition import PCA\n",
    "from sklearn.model_selection import StratifiedKFold\n",
    "from sklearn.preprocessing import StandardScaler\n",
    "from sklearn.svm import SVC\n",
    "from sklearn.metrics import accuracy_score\n",
    "from sklearn.tree import DecisionTreeClassifier\n",
    "import joblib\n",
    "import pickle\n",
    "import sklearn\n",
    "import time"
   ]
  },
  {
   "cell_type": "code",
   "execution_count": 20,
   "id": "9ec8069d-4cce-44c3-9e98-b8dbf8a35fac",
   "metadata": {},
   "outputs": [
    {
     "name": "stdout",
     "output_type": "stream",
     "text": [
      "1.2.2\n",
      "1.26.4\n"
     ]
    }
   ],
   "source": [
    "print(sklearn.__version__)\n",
    "print(np.__version__)"
   ]
  },
  {
   "cell_type": "markdown",
   "id": "d5089df1-a24d-4541-8adb-803bcc521af1",
   "metadata": {},
   "source": [
    "## 1.2 Reading the Data Pre-processed dataset for Machine learning "
   ]
  },
  {
   "cell_type": "code",
   "execution_count": 22,
   "id": "2362a39b",
   "metadata": {
    "tags": []
   },
   "outputs": [],
   "source": [
    "dataset_for_ML  = pd.read_csv('C:\\Prakash\\Personal\\Studies\\Techincal\\MTech. Data Science and Engineering\\Semester-wise\\Semester-I\\Study\\Sem-I - 0- Python Fundamentals for Data Science (S1-22_DSECLPFDS)\\PythonPgm\\MTech-Proj03-NHANES-2018\\Data\\After_Feature_Selection_NoLab.csv')"
   ]
  },
  {
   "cell_type": "code",
   "execution_count": 23,
   "id": "b313aa1a-47b8-4935-a182-7f263d1542da",
   "metadata": {
    "tags": []
   },
   "outputs": [
    {
     "data": {
      "text/plain": [
       "(5951, 18)"
      ]
     },
     "execution_count": 23,
     "metadata": {},
     "output_type": "execute_result"
    }
   ],
   "source": [
    "dataset_for_ML.shape"
   ]
  },
  {
   "cell_type": "code",
   "execution_count": 24,
   "id": "d3694a0e-67e8-43e8-937e-dbcc5189934b",
   "metadata": {
    "tags": []
   },
   "outputs": [
    {
     "data": {
      "text/plain": [
       "Index(['RIDAGEYR', 'RIDRETH3', 'RIAGENDR', 'BMXBMI', 'DIQ175A', 'RHQ162',\n",
       "       'DID260', 'BPXOSY1', 'BPXODI1', 'DMDEDUC3', 'DMDEDUC2', 'CBD765',\n",
       "       'BPD035', 'IND235', 'RIDEXPRG', 'BMXWAIST',\n",
       "       'Physically_Active_Classify', 'LBXGH_Classify'],\n",
       "      dtype='object')"
      ]
     },
     "execution_count": 24,
     "metadata": {},
     "output_type": "execute_result"
    }
   ],
   "source": [
    "dataset_for_ML.columns"
   ]
  },
  {
   "cell_type": "markdown",
   "id": "1d02aafe-97b1-447f-b844-120d6e523877",
   "metadata": {},
   "source": [
    "## 1.3 Listing the Features selected for Machine learning Processing "
   ]
  },
  {
   "cell_type": "code",
   "execution_count": 26,
   "id": "924f1a05-f9ff-4fa8-9e1f-fd43175dce22",
   "metadata": {
    "tags": []
   },
   "outputs": [
    {
     "data": {
      "text/html": [
       "<div>\n",
       "<style scoped>\n",
       "    .dataframe tbody tr th:only-of-type {\n",
       "        vertical-align: middle;\n",
       "    }\n",
       "\n",
       "    .dataframe tbody tr th {\n",
       "        vertical-align: top;\n",
       "    }\n",
       "\n",
       "    .dataframe thead th {\n",
       "        text-align: right;\n",
       "    }\n",
       "</style>\n",
       "<table border=\"1\" class=\"dataframe\">\n",
       "  <thead>\n",
       "    <tr style=\"text-align: right;\">\n",
       "      <th></th>\n",
       "      <th>File</th>\n",
       "      <th>Field Name</th>\n",
       "      <th>Field Descriptions</th>\n",
       "    </tr>\n",
       "  </thead>\n",
       "  <tbody>\n",
       "    <tr>\n",
       "      <th>3</th>\n",
       "      <td>Demographic</td>\n",
       "      <td>RIAGENDR</td>\n",
       "      <td>Gender</td>\n",
       "    </tr>\n",
       "    <tr>\n",
       "      <th>4</th>\n",
       "      <td>Demographic</td>\n",
       "      <td>RIDAGEYR</td>\n",
       "      <td>Age in years at screening</td>\n",
       "    </tr>\n",
       "    <tr>\n",
       "      <th>7</th>\n",
       "      <td>Demographic</td>\n",
       "      <td>RIDRETH3</td>\n",
       "      <td>Race/Hispanic origin w/ NH Asian</td>\n",
       "    </tr>\n",
       "    <tr>\n",
       "      <th>15</th>\n",
       "      <td>Demographic</td>\n",
       "      <td>DMDEDUC3</td>\n",
       "      <td>Education level - Children/Youth 6-19</td>\n",
       "    </tr>\n",
       "    <tr>\n",
       "      <th>16</th>\n",
       "      <td>Demographic</td>\n",
       "      <td>DMDEDUC2</td>\n",
       "      <td>Education level - Adults 20+</td>\n",
       "    </tr>\n",
       "    <tr>\n",
       "      <th>18</th>\n",
       "      <td>Demographic</td>\n",
       "      <td>RIDEXPRG</td>\n",
       "      <td>Pregnancy status at exam</td>\n",
       "    </tr>\n",
       "    <tr>\n",
       "      <th>521</th>\n",
       "      <td>Examination</td>\n",
       "      <td>BPXOSY1</td>\n",
       "      <td>Systolic - 1st oscillometric reading</td>\n",
       "    </tr>\n",
       "    <tr>\n",
       "      <th>522</th>\n",
       "      <td>Examination</td>\n",
       "      <td>BPXODI1</td>\n",
       "      <td>Diastolic - 1st oscillometric reading</td>\n",
       "    </tr>\n",
       "    <tr>\n",
       "      <th>539</th>\n",
       "      <td>Examination</td>\n",
       "      <td>BMXBMI</td>\n",
       "      <td>Body Mass Index (kg/m**2)</td>\n",
       "    </tr>\n",
       "    <tr>\n",
       "      <th>546</th>\n",
       "      <td>Examination</td>\n",
       "      <td>BMXWAIST</td>\n",
       "      <td>Waist Circumference (cm)</td>\n",
       "    </tr>\n",
       "    <tr>\n",
       "      <th>1358</th>\n",
       "      <td>Questionaire</td>\n",
       "      <td>BPD035</td>\n",
       "      <td>Age told had hypertension</td>\n",
       "    </tr>\n",
       "    <tr>\n",
       "      <th>1457</th>\n",
       "      <td>Questionaire</td>\n",
       "      <td>CBD765</td>\n",
       "      <td>Respondent's education level</td>\n",
       "    </tr>\n",
       "    <tr>\n",
       "      <th>1480</th>\n",
       "      <td>Questionaire</td>\n",
       "      <td>DIQ175A</td>\n",
       "      <td>Family history</td>\n",
       "    </tr>\n",
       "    <tr>\n",
       "      <th>1512</th>\n",
       "      <td>Questionaire</td>\n",
       "      <td>DID260</td>\n",
       "      <td>How often check blood for glucose/sugar</td>\n",
       "    </tr>\n",
       "    <tr>\n",
       "      <th>1731</th>\n",
       "      <td>Questionaire</td>\n",
       "      <td>IND235</td>\n",
       "      <td>Monthly family income</td>\n",
       "    </tr>\n",
       "    <tr>\n",
       "      <th>2058</th>\n",
       "      <td>Questionaire</td>\n",
       "      <td>RHQ162</td>\n",
       "      <td>During pregnancy, told you have diabetes</td>\n",
       "    </tr>\n",
       "    <tr>\n",
       "      <th>2240</th>\n",
       "      <td>Calculated</td>\n",
       "      <td>Physically_Active_Classify</td>\n",
       "      <td>Calculated based on Phyical activity PAQ706,PA...</td>\n",
       "    </tr>\n",
       "    <tr>\n",
       "      <th>2241</th>\n",
       "      <td>Calculated</td>\n",
       "      <td>LBXGH_Classify</td>\n",
       "      <td>Calculated based on LBXGH (HbA1c)</td>\n",
       "    </tr>\n",
       "  </tbody>\n",
       "</table>\n",
       "</div>"
      ],
      "text/plain": [
       "              File                 Field Name   \\\n",
       "3      Demographic                    RIAGENDR   \n",
       "4      Demographic                    RIDAGEYR   \n",
       "7      Demographic                    RIDRETH3   \n",
       "15     Demographic                    DMDEDUC3   \n",
       "16     Demographic                    DMDEDUC2   \n",
       "18     Demographic                    RIDEXPRG   \n",
       "521    Examination                     BPXOSY1   \n",
       "522    Examination                     BPXODI1   \n",
       "539    Examination                      BMXBMI   \n",
       "546    Examination                    BMXWAIST   \n",
       "1358  Questionaire                      BPD035   \n",
       "1457  Questionaire                      CBD765   \n",
       "1480  Questionaire                     DIQ175A   \n",
       "1512  Questionaire                      DID260   \n",
       "1731  Questionaire                      IND235   \n",
       "2058  Questionaire                      RHQ162   \n",
       "2240    Calculated  Physically_Active_Classify   \n",
       "2241    Calculated              LBXGH_Classify   \n",
       "\n",
       "                                     Field Descriptions  \n",
       "3                                                Gender  \n",
       "4                             Age in years at screening  \n",
       "7                      Race/Hispanic origin w/ NH Asian  \n",
       "15                Education level - Children/Youth 6-19  \n",
       "16                         Education level - Adults 20+  \n",
       "18                             Pregnancy status at exam  \n",
       "521                Systolic - 1st oscillometric reading  \n",
       "522               Diastolic - 1st oscillometric reading  \n",
       "539                           Body Mass Index (kg/m**2)  \n",
       "546                            Waist Circumference (cm)  \n",
       "1358                          Age told had hypertension  \n",
       "1457                       Respondent's education level  \n",
       "1480                                     Family history  \n",
       "1512            How often check blood for glucose/sugar  \n",
       "1731                              Monthly family income  \n",
       "2058           During pregnancy, told you have diabetes  \n",
       "2240  Calculated based on Phyical activity PAQ706,PA...  \n",
       "2241                  Calculated based on LBXGH (HbA1c)  "
      ]
     },
     "execution_count": 26,
     "metadata": {},
     "output_type": "execute_result"
    }
   ],
   "source": [
    "df_fnd = pd.read_csv('C:\\Prakash\\Personal\\Studies\\Techincal\\MTech. Data Science and Engineering\\Semester-wise\\Semester-I\\Study\\Sem-I - 0- Python Fundamentals for Data Science (S1-22_DSECLPFDS)\\PythonPgm\\MTech-Proj03-NHANES-2018\\Field_Names_Details.csv')\n",
    "filtered_df_fnd = df_fnd[df_fnd['Field Name '].isin(dataset_for_ML.columns)]\n",
    "columns_to_select = ['File','Field Name ','Field Descriptions']\n",
    "selected_filtered_df_fnd =filtered_df_fnd[columns_to_select]\n",
    "selected_filtered_df_fnd.head(50)"
   ]
  },
  {
   "cell_type": "markdown",
   "id": "7dc05f28-17ef-4f25-8ab7-7372690b39ee",
   "metadata": {},
   "source": [
    "## 1.6 Reordering the Columns based on the correlation value with LBXGH"
   ]
  },
  {
   "cell_type": "code",
   "execution_count": 28,
   "id": "5e5bcfad-47ff-45f3-8396-cabc165c99e4",
   "metadata": {
    "tags": []
   },
   "outputs": [
    {
     "name": "stdout",
     "output_type": "stream",
     "text": [
      "      Physically_Active_Classify  DIQ175A  CBD765  RIDEXPRG  RIDRETH3  \\\n",
      "0                              1      2.0     2.0       2.0       3.0   \n",
      "1                              0      2.0     2.0       2.0       3.0   \n",
      "2                              1      2.0     3.0       2.0       3.0   \n",
      "3                              0      2.0     3.0       2.0       3.0   \n",
      "4                              1     10.0     3.0       2.0       3.0   \n",
      "...                          ...      ...     ...       ...       ...   \n",
      "2030                           0      2.0     2.0       2.0       3.0   \n",
      "2031                           0      2.0     3.0       2.0       3.0   \n",
      "2032                           2      2.0     3.0       2.0       3.0   \n",
      "2033                           1      2.0     2.0       2.0       3.0   \n",
      "2034                           0      2.0     3.0       2.0       3.0   \n",
      "\n",
      "      DMDEDUC2  DMDEDUC3  BPXODI1  BMXWAIST  DID260  BMXBMI  BPXOSY1  BPD035  \\\n",
      "0          3.0      14.0     66.0      99.7     0.0    23.5     97.0     0.0   \n",
      "1          3.0      14.0     59.0      86.2     0.0    24.5    110.0     0.0   \n",
      "2          1.0       6.0     65.0      86.0     0.0    26.0    113.0     0.0   \n",
      "3          4.0      15.0     61.0      89.7     0.0    23.8    105.0     0.0   \n",
      "4          5.0      15.0     71.0      82.6     0.0    22.4    130.0     0.0   \n",
      "...        ...       ...      ...       ...     ...     ...      ...     ...   \n",
      "2030       3.0      14.0     94.0     128.0     4.0    35.1    133.0     0.0   \n",
      "2031       4.0      15.0     57.0     148.1     1.0    43.7    112.0    72.0   \n",
      "2032       4.0      15.0     80.0      69.7     0.0    20.2    120.0     0.0   \n",
      "2033       3.0      14.0     76.0      85.5     0.0    23.7    116.0     0.0   \n",
      "2034       4.0      15.0    100.0     122.0     0.0    36.1    143.0    37.0   \n",
      "\n",
      "      RIDAGEYR  RIAGENDR  RHQ162  LBXGH_Classify  \n",
      "0         67.0       1.0     2.0               0  \n",
      "1         22.0       1.0     2.0               0  \n",
      "2         13.0       2.0     2.0               0  \n",
      "3         60.0       2.0     2.0               1  \n",
      "4         64.0       1.0     2.0               0  \n",
      "...        ...       ...     ...             ...  \n",
      "2030      43.0       2.0     2.0               1  \n",
      "2031      75.0       2.0     2.0               1  \n",
      "2032      31.0       2.0     2.0               0  \n",
      "2033      33.0       1.0     2.0               1  \n",
      "2034      38.0       1.0     2.0               0  \n",
      "\n",
      "[2035 rows x 17 columns]\n"
     ]
    }
   ],
   "source": [
    "desired_order = ['Physically_Active_Classify','DIQ175A', 'CBD765', 'RIDEXPRG','RIDRETH3','DMDEDUC2','DMDEDUC3','BPXODI1','BMXWAIST','DID260','BMXBMI','BPXOSY1','BPD035','RIDAGEYR','RIAGENDR','RHQ162','LBXGH_Classify']\n",
    "#desired_order = desired_order[::-1]\n",
    "dataset_for_ML=dataset_for_ML.reindex(columns=desired_order)\n",
    "dataset_for_ML = dataset_for_ML.drop(dataset_for_ML[dataset_for_ML['RIDRETH3'] !=  3].index)   # White \n",
    "dataset_for_ML = dataset_for_ML.reset_index(drop=True)                                                        \n",
    "print(dataset_for_ML)"
   ]
  },
  {
   "cell_type": "markdown",
   "id": "73cfe40a-46e8-40e4-b159-a9cf8bb865ae",
   "metadata": {},
   "source": [
    "## 1.4 Drop Columns (If needed) "
   ]
  },
  {
   "cell_type": "code",
   "execution_count": 30,
   "id": "b3d67519-e74f-427d-bb6b-22326cc14f29",
   "metadata": {},
   "outputs": [],
   "source": [
    "drop_columns1=['CBD765']\n",
    "dataset_for_ML = dataset_for_ML.drop(drop_columns1, axis=1)"
   ]
  },
  {
   "cell_type": "markdown",
   "id": "8b9662e9-6f79-45b8-bd0f-d20e5c984bed",
   "metadata": {},
   "source": [
    "## 1.5 Creating A dataframe for Storing the values "
   ]
  },
  {
   "cell_type": "code",
   "execution_count": 32,
   "id": "66cdd18b-0eb6-458e-9168-f3842235a87d",
   "metadata": {},
   "outputs": [],
   "source": [
    "df= pd.DataFrame()"
   ]
  },
  {
   "cell_type": "markdown",
   "id": "843e3c1f",
   "metadata": {},
   "source": [
    "# 2. Spliting the Train and Test Dataset\n",
    "\n",
    "## 2.1 Creating the Data and the Target"
   ]
  },
  {
   "cell_type": "code",
   "execution_count": 34,
   "id": "ebffb102",
   "metadata": {
    "tags": []
   },
   "outputs": [
    {
     "name": "stdout",
     "output_type": "stream",
     "text": [
      "0       0\n",
      "1       0\n",
      "2       0\n",
      "3       1\n",
      "4       0\n",
      "       ..\n",
      "2030    1\n",
      "2031    1\n",
      "2032    0\n",
      "2033    1\n",
      "2034    0\n",
      "Name: LBXGH_Classify, Length: 2035, dtype: int64\n"
     ]
    }
   ],
   "source": [
    "y = dataset_for_ML['LBXGH_Classify']\n",
    "print(y)"
   ]
  },
  {
   "cell_type": "code",
   "execution_count": 35,
   "id": "e6c261a4",
   "metadata": {
    "tags": []
   },
   "outputs": [
    {
     "name": "stdout",
     "output_type": "stream",
     "text": [
      "      Physically_Active_Classify  DIQ175A  RIDEXPRG  RIDRETH3  DMDEDUC2  \\\n",
      "0                              1      2.0       2.0       3.0       3.0   \n",
      "1                              0      2.0       2.0       3.0       3.0   \n",
      "2                              1      2.0       2.0       3.0       1.0   \n",
      "3                              0      2.0       2.0       3.0       4.0   \n",
      "4                              1     10.0       2.0       3.0       5.0   \n",
      "...                          ...      ...       ...       ...       ...   \n",
      "2030                           0      2.0       2.0       3.0       3.0   \n",
      "2031                           0      2.0       2.0       3.0       4.0   \n",
      "2032                           2      2.0       2.0       3.0       4.0   \n",
      "2033                           1      2.0       2.0       3.0       3.0   \n",
      "2034                           0      2.0       2.0       3.0       4.0   \n",
      "\n",
      "      DMDEDUC3  BPXODI1  BMXWAIST  DID260  BMXBMI  BPXOSY1  BPD035  RIDAGEYR  \\\n",
      "0         14.0     66.0      99.7     0.0    23.5     97.0     0.0      67.0   \n",
      "1         14.0     59.0      86.2     0.0    24.5    110.0     0.0      22.0   \n",
      "2          6.0     65.0      86.0     0.0    26.0    113.0     0.0      13.0   \n",
      "3         15.0     61.0      89.7     0.0    23.8    105.0     0.0      60.0   \n",
      "4         15.0     71.0      82.6     0.0    22.4    130.0     0.0      64.0   \n",
      "...        ...      ...       ...     ...     ...      ...     ...       ...   \n",
      "2030      14.0     94.0     128.0     4.0    35.1    133.0     0.0      43.0   \n",
      "2031      15.0     57.0     148.1     1.0    43.7    112.0    72.0      75.0   \n",
      "2032      15.0     80.0      69.7     0.0    20.2    120.0     0.0      31.0   \n",
      "2033      14.0     76.0      85.5     0.0    23.7    116.0     0.0      33.0   \n",
      "2034      15.0    100.0     122.0     0.0    36.1    143.0    37.0      38.0   \n",
      "\n",
      "      RIAGENDR  RHQ162  \n",
      "0          1.0     2.0  \n",
      "1          1.0     2.0  \n",
      "2          2.0     2.0  \n",
      "3          2.0     2.0  \n",
      "4          1.0     2.0  \n",
      "...        ...     ...  \n",
      "2030       2.0     2.0  \n",
      "2031       2.0     2.0  \n",
      "2032       2.0     2.0  \n",
      "2033       1.0     2.0  \n",
      "2034       1.0     2.0  \n",
      "\n",
      "[2035 rows x 15 columns]\n"
     ]
    }
   ],
   "source": [
    "drop_columns=['LBXGH_Classify']\n",
    "X = dataset_for_ML.drop(drop_columns, axis=1)\n",
    "print(X)"
   ]
  },
  {
   "cell_type": "code",
   "execution_count": 36,
   "id": "18b48968",
   "metadata": {
    "tags": []
   },
   "outputs": [
    {
     "name": "stdout",
     "output_type": "stream",
     "text": [
      "(2035, 15)   (2035,)\n"
     ]
    }
   ],
   "source": [
    "print (X.shape,' ' ,y.shape)"
   ]
  },
  {
   "cell_type": "code",
   "execution_count": 37,
   "id": "f6e20649-3e7e-4f44-8cf2-a6e24683c608",
   "metadata": {
    "tags": []
   },
   "outputs": [
    {
     "data": {
      "text/plain": [
       "RangeIndex(start=0, stop=2035, step=1)"
      ]
     },
     "execution_count": 37,
     "metadata": {},
     "output_type": "execute_result"
    }
   ],
   "source": [
    "y.index"
   ]
  },
  {
   "cell_type": "markdown",
   "id": "8bf694e3",
   "metadata": {},
   "source": [
    "## 2.2 Initilize KFold with 5 Splits"
   ]
  },
  {
   "cell_type": "code",
   "execution_count": 39,
   "id": "8f498082",
   "metadata": {
    "tags": []
   },
   "outputs": [],
   "source": [
    "# Initialize KFold with 5 splits\n",
    "kf = KFold(n_splits=5, shuffle=True, random_state=42)"
   ]
  },
  {
   "cell_type": "markdown",
   "id": "a5ed2a45",
   "metadata": {},
   "source": [
    "# 3. Train and Test the Data\n",
    "## 3.1 XGBoost Algorithm\n",
    "\n",
    "### 3.1.1 Initialize and Train the XGBoost Classifer"
   ]
  },
  {
   "cell_type": "code",
   "execution_count": 41,
   "id": "20dba246-3132-48d3-98d5-23c07d937161",
   "metadata": {
    "tags": []
   },
   "outputs": [],
   "source": [
    "start_time = time.process_time()"
   ]
  },
  {
   "cell_type": "code",
   "execution_count": 42,
   "id": "751d9ef6",
   "metadata": {
    "tags": []
   },
   "outputs": [
    {
     "name": "stdout",
     "output_type": "stream",
     "text": [
      "Accuracy: 75.18 %\n",
      "Accuracy: 75.18 %\n",
      "Accuracy: 76.90 %\n",
      "Accuracy: 74.69 %\n",
      "Accuracy: 77.64 %\n"
     ]
    }
   ],
   "source": [
    "# List to store accuracy for each fold\n",
    "accuracies = []\n",
    "# Perform 5-fold cross-validation\n",
    "for train_index, test_index in kf.split(X):\n",
    "    X_train, X_test = X.iloc[train_index], X.loc[test_index]\n",
    "#    X_train, X_test = X[train_index], X[test_index]\n",
    "    y_train, y_test = y[train_index], y[test_index]\n",
    "    # Initialize the XGBoost classifier\n",
    "    xgb_clf = xgb.XGBClassifier(use_label_encoder=False, eval_metric='mlogloss')\n",
    "    # Train the model\n",
    "    xgb_clf.fit(X_train, y_train)\n",
    "    # Make predictions on the test set\n",
    "    y_pred = xgb_clf.predict(X_test)\n",
    "    # Calculate accuracy\n",
    "    accuracy = accuracy_score(y_test, y_pred)\n",
    "    print(f\"Accuracy: {accuracy * 100:.2f} %\")\n",
    "    # Store the accuracy\n",
    "    accuracies.append(accuracy)"
   ]
  },
  {
   "cell_type": "code",
   "execution_count": 43,
   "id": "0dea64b9-f668-4efc-a55c-0286f406ec3d",
   "metadata": {
    "tags": []
   },
   "outputs": [
    {
     "name": "stdout",
     "output_type": "stream",
     "text": [
      "25.078125 29.09375 4.015625\n"
     ]
    }
   ],
   "source": [
    "end_time = time.process_time()\n",
    "cpu_time = end_time - start_time\n",
    "print(start_time,end_time,cpu_time)"
   ]
  },
  {
   "cell_type": "markdown",
   "id": "75e513ca",
   "metadata": {},
   "source": [
    "### 3.1.2 Accuracy Calculation"
   ]
  },
  {
   "cell_type": "code",
   "execution_count": 45,
   "id": "c5896ee8",
   "metadata": {
    "tags": []
   },
   "outputs": [
    {
     "name": "stdout",
     "output_type": "stream",
     "text": [
      "Mean Accuracy: 75.92 %\n"
     ]
    }
   ],
   "source": [
    "# Calculate the mean accuracy\n",
    "mean_accuracy = np.mean(accuracies)\n",
    "print(f'Mean Accuracy: {mean_accuracy * 100:.2f} %')"
   ]
  },
  {
   "cell_type": "code",
   "execution_count": 46,
   "id": "960deb3a-6361-4cc2-80c6-a1b6c59d64db",
   "metadata": {},
   "outputs": [],
   "source": [
    "new_row1 = pd.DataFrame({'Features':[X.columns],'Algorithm' : ['XGBoost Algorithm'],'Accuracy' : [accuracies],'Mean_Accuracy' :[mean_accuracy * 100]})\n",
    "#print(new_row1)\n",
    "df=pd.concat([df,new_row1], ignore_index=True)"
   ]
  },
  {
   "cell_type": "markdown",
   "id": "cc51f08f-3af1-4fbd-854b-814b57783416",
   "metadata": {},
   "source": [
    "## 3.2 Random Forest Algorithm\n",
    "\n",
    "### 3.2.1 Initialize and Train the Random Forest"
   ]
  },
  {
   "cell_type": "code",
   "execution_count": 48,
   "id": "99f6c1e6-9bc8-4a6d-b325-4cc511ad6443",
   "metadata": {},
   "outputs": [
    {
     "name": "stdout",
     "output_type": "stream",
     "text": [
      "29.203125\n"
     ]
    }
   ],
   "source": [
    "start_time = time.process_time()\n",
    "print(start_time)"
   ]
  },
  {
   "cell_type": "code",
   "execution_count": 49,
   "id": "9806ee90-7e2d-44f1-94ff-a960c02cd712",
   "metadata": {
    "tags": []
   },
   "outputs": [
    {
     "name": "stdout",
     "output_type": "stream",
     "text": [
      "Accuracy: 74.20 %\n",
      "Accuracy: 76.90 %\n",
      "Accuracy: 77.64 %\n",
      "Accuracy: 77.89 %\n",
      "Accuracy: 75.43 %\n"
     ]
    }
   ],
   "source": [
    "rf_model = RandomForestClassifier(n_estimators=100, random_state=42)\n",
    "rf_cv_scores = cross_val_score(rf_model, X, y, cv=5)\n",
    "rf_model.fit(X, y)\n",
    "for element in rf_cv_scores:\n",
    "    print(f\"Accuracy: {element * 100:.2f} %\")"
   ]
  },
  {
   "cell_type": "code",
   "execution_count": 50,
   "id": "f19cc8bf-c093-4c3d-9944-e735368a912a",
   "metadata": {},
   "outputs": [
    {
     "name": "stdout",
     "output_type": "stream",
     "text": [
      "29.203125 33.78125 4.578125\n"
     ]
    }
   ],
   "source": [
    "end_time = time.process_time()\n",
    "cpu_time = end_time - start_time\n",
    "print(start_time,end_time,cpu_time)"
   ]
  },
  {
   "cell_type": "markdown",
   "id": "e7806a4a-f773-47fa-abd7-2a86814e5613",
   "metadata": {},
   "source": [
    "### 3.2.2 Accuracy Calculation"
   ]
  },
  {
   "cell_type": "code",
   "execution_count": 52,
   "id": "39b26bc4",
   "metadata": {},
   "outputs": [
    {
     "name": "stdout",
     "output_type": "stream",
     "text": [
      "Mean Accuracy: 76.41 %\n",
      "Standard Deviation: 0.01\n"
     ]
    }
   ],
   "source": [
    "# Calculate mean accuracy and standard deviation\n",
    "mean_accuracy = np.mean(rf_cv_scores)\n",
    "std_accuracy = np.std(rf_cv_scores)\n",
    "\n",
    "print(f'Mean Accuracy: {mean_accuracy * 100 :.2f} %')\n",
    "print(f'Standard Deviation: {std_accuracy:.2f}')"
   ]
  },
  {
   "cell_type": "code",
   "execution_count": 53,
   "id": "03bace48-ab2e-440e-9c1d-f053a5ece7bd",
   "metadata": {},
   "outputs": [],
   "source": [
    "new_row2 = pd.DataFrame({'Features':[X.columns],'Algorithm' : ['Random Forest Algorithm'],'Accuracy' : [rf_cv_scores],'Mean_Accuracy' :[mean_accuracy * 100]})\n",
    "#print(new_row2)\n",
    "df=pd.concat([df,new_row2], ignore_index=True)\n",
    "#print(df)"
   ]
  },
  {
   "cell_type": "markdown",
   "id": "4766d509-d7ac-43b9-b8c9-3520d8f32514",
   "metadata": {},
   "source": [
    "## 3.3 Logistic Regression Algorithm\n",
    "\n",
    "### 3.3.1 Initialize and Train the Logistic Regression"
   ]
  },
  {
   "cell_type": "code",
   "execution_count": 55,
   "id": "33d6969e-1769-4cb0-8cea-eee5df8ae570",
   "metadata": {},
   "outputs": [
    {
     "name": "stdout",
     "output_type": "stream",
     "text": [
      "33.984375\n"
     ]
    }
   ],
   "source": [
    "start_time = time.process_time()\n",
    "print(start_time)"
   ]
  },
  {
   "cell_type": "code",
   "execution_count": 56,
   "id": "d89b4913-41f3-4be9-b33a-bf7ab7cae64a",
   "metadata": {
    "tags": []
   },
   "outputs": [
    {
     "name": "stdout",
     "output_type": "stream",
     "text": [
      "Accuracy: 77.40 %\n",
      "Accuracy: 76.17 %\n",
      "Accuracy: 77.40 %\n",
      "Accuracy: 78.38 %\n",
      "Accuracy: 74.94 %\n"
     ]
    }
   ],
   "source": [
    "lr_model = LogisticRegression(max_iter=10000, random_state=42)\n",
    "lr_cv_scores = cross_val_score(lr_model, X, y, cv=5)\n",
    "lr_model.fit(X, y)\n",
    "for element in lr_cv_scores:\n",
    "    print(f\"Accuracy: {element * 100:.2f} %\")"
   ]
  },
  {
   "cell_type": "code",
   "execution_count": 57,
   "id": "d6bb0c4c-ebb5-42f3-86e2-4c34afa495d4",
   "metadata": {},
   "outputs": [
    {
     "name": "stdout",
     "output_type": "stream",
     "text": [
      "33.984375 53.875 19.890625\n"
     ]
    }
   ],
   "source": [
    "end_time = time.process_time()\n",
    "cpu_time = end_time - start_time\n",
    "print(start_time,end_time,cpu_time)"
   ]
  },
  {
   "cell_type": "markdown",
   "id": "1145050d-23d9-4fe5-bf2e-2d79d882b8d3",
   "metadata": {},
   "source": [
    "### 3.3.2 Accuracy Calculation"
   ]
  },
  {
   "cell_type": "code",
   "execution_count": 59,
   "id": "7677713a-1cfa-4cbc-af30-a60c9d7c6d4c",
   "metadata": {},
   "outputs": [
    {
     "name": "stdout",
     "output_type": "stream",
     "text": [
      "Mean Accuracy: 76.86 %\n",
      "Standard Deviation: 0.01\n"
     ]
    }
   ],
   "source": [
    "# Calculate mean accuracy and standard deviation\n",
    "mean_accuracy = np.mean(lr_cv_scores)\n",
    "std_accuracy = np.std(lr_cv_scores)\n",
    "\n",
    "print(f'Mean Accuracy: {mean_accuracy * 100 :.2f} %')\n",
    "print(f'Standard Deviation: {std_accuracy:.2f}')"
   ]
  },
  {
   "cell_type": "code",
   "execution_count": 60,
   "id": "a6e8d563-0fb3-45ff-8fad-403417e6eee7",
   "metadata": {
    "tags": []
   },
   "outputs": [],
   "source": [
    "new_row3 = pd.DataFrame({'Features':[X.columns],'Algorithm' : ['Logistic Regression Algorithm'],'Accuracy' : [lr_cv_scores],'Mean_Accuracy' :[mean_accuracy * 100]})\n",
    "# print(new_row3)\n",
    "df=pd.concat([df,new_row3], ignore_index=True)\n",
    "# print(df)"
   ]
  },
  {
   "cell_type": "markdown",
   "id": "2e83fd51-9c0d-4f1d-b208-172d22c9840d",
   "metadata": {},
   "source": [
    "## 3.4 Light Gradient Boosting Machine (Light GBM)\n",
    "\n",
    "### 3.4.1 Initialize and Train the Light GBM"
   ]
  },
  {
   "cell_type": "code",
   "execution_count": 62,
   "id": "8ade469e-e0ba-4273-a8c3-c435ee78d258",
   "metadata": {},
   "outputs": [],
   "source": [
    "start_time = time.process_time()"
   ]
  },
  {
   "cell_type": "code",
   "execution_count": 63,
   "id": "bffd2adc-6bd6-4608-95ea-cfaf4d1197c7",
   "metadata": {
    "tags": []
   },
   "outputs": [],
   "source": [
    "dtrain = lgb.Dataset(X, label=y)\n",
    "# Define parameters\n",
    "params = {\n",
    "    'objective': 'multiclass',\n",
    "    'num_class': 3,\n",
    "    'metric': 'multi_logloss',\n",
    "    'num_leaves': 31,\n",
    "    'learning_rate': 0.05,\n",
    "    'feature_fraction': 0.9,\n",
    "    'verbose': -1\n",
    "}\n",
    "accuracy_scores = []\n",
    "for train_index, test_index in kf.split(X):\n",
    "    X_train, X_test = X.iloc[train_index], X.loc[test_index]\n",
    "    y_train, y_test = y[train_index], y[test_index]\n",
    "    \n",
    "    # Create LightGBM datasets\n",
    "    train_data = lgb.Dataset(X_train, label=y_train)\n",
    "    test_data = lgb.Dataset(X_test, label=y_test, reference=train_data)\n",
    "    \n",
    "    # Train the model\n",
    "    num_round = 100\n",
    "    bst = lgb.train(params, train_data, num_boost_round=1000, valid_sets=[train_data,test_data])\n",
    "   # bst = lgb.train(params, train_data,num_boost_round=best_num_boost_rounds)\n",
    "   \n",
    "    # Make predictions\n",
    "    y_pred = bst.predict(X_test)\n",
    "    y_pred = [np.argmax(x) for x in y_pred]\n",
    "    \n",
    "    # Evaluate the model\n",
    "    accuracy = accuracy_score(y_test, y_pred)\n",
    "    accuracy_scores.append(accuracy)\n"
   ]
  },
  {
   "cell_type": "code",
   "execution_count": 64,
   "id": "e290b4c3-67e3-48b6-9a4d-f0cded7bb776",
   "metadata": {},
   "outputs": [
    {
     "name": "stdout",
     "output_type": "stream",
     "text": [
      "54.09375 342.265625 288.171875\n"
     ]
    }
   ],
   "source": [
    "end_time = time.process_time()\n",
    "cpu_time = end_time - start_time\n",
    "print(start_time,end_time,cpu_time)"
   ]
  },
  {
   "cell_type": "markdown",
   "id": "8e66f601-4237-4623-9701-6bcbeeed563e",
   "metadata": {},
   "source": [
    "### 3.4.2 Accuracy Calculation"
   ]
  },
  {
   "cell_type": "code",
   "execution_count": 66,
   "id": "424850bf-cbeb-48cc-a6c2-7b6e8dbe3647",
   "metadata": {
    "tags": []
   },
   "outputs": [
    {
     "name": "stdout",
     "output_type": "stream",
     "text": [
      "Accuracy: 74.69 %\n",
      "Accuracy: 72.48 %\n",
      "Accuracy: 75.18 %\n",
      "Accuracy: 74.45 %\n",
      "Accuracy: 79.36 %\n",
      "Average Accuracy: 75.23%\n"
     ]
    }
   ],
   "source": [
    "for element in accuracy_scores:\n",
    "    print(f\"Accuracy: {element * 100:.2f} %\")\n",
    "# Compute the average accuracy\n",
    "mean_accuracy = np.mean(accuracy_scores)\n",
    "print(f\"Average Accuracy: {mean_accuracy * 100:.2f}%\")"
   ]
  },
  {
   "cell_type": "code",
   "execution_count": 67,
   "id": "efa26cfd-005d-4316-a407-60a6acf47d00",
   "metadata": {
    "tags": []
   },
   "outputs": [],
   "source": [
    "new_row4 = pd.DataFrame({'Features':[X.columns],'Algorithm' : ['Light GBM Algorithm'],'Accuracy' : [accuracy_scores],'Mean_Accuracy' :[mean_accuracy * 100]})\n",
    "#print(new_row4)\n",
    "df=pd.concat([df,new_row4], ignore_index=True)\n",
    "#print(df)"
   ]
  },
  {
   "cell_type": "markdown",
   "id": "729d8824-8c07-4195-9565-18c3b8421e96",
   "metadata": {
    "tags": []
   },
   "source": [
    "## 3.5 Decision Tree (DT)\n",
    "\n",
    "### 3.5.1 Initialize and Train the Decision Tree"
   ]
  },
  {
   "cell_type": "code",
   "execution_count": 69,
   "id": "25002cb4-7b16-4fa8-8a0b-7f1f21d31cc4",
   "metadata": {},
   "outputs": [
    {
     "name": "stdout",
     "output_type": "stream",
     "text": [
      "342.5625\n"
     ]
    }
   ],
   "source": [
    "start_time = time.process_time()\n",
    "print(start_time)"
   ]
  },
  {
   "cell_type": "code",
   "execution_count": 70,
   "id": "e5783464-575d-4e6d-93e1-f83c3f72246d",
   "metadata": {
    "tags": []
   },
   "outputs": [
    {
     "name": "stdout",
     "output_type": "stream",
     "text": [
      "Accuracy: 69.29 %\n",
      "Accuracy: 70.27 %\n",
      "Accuracy: 74.45 %\n",
      "Accuracy: 71.74 %\n",
      "Accuracy: 72.73 %\n"
     ]
    }
   ],
   "source": [
    "decision_tree = DecisionTreeClassifier(random_state=42)\n",
    "dt_scores = cross_val_score(decision_tree, X, y, cv=5)\n",
    "#print(\"Cross-validation scores:\", scores)\n",
    "decision_tree.fit(X, y)\n",
    "for element in dt_scores:\n",
    "    print(f\"Accuracy: {element * 100:.2f} %\")"
   ]
  },
  {
   "cell_type": "code",
   "execution_count": 71,
   "id": "c86f772d-9ea8-49bc-bc10-ec388bbc7e15",
   "metadata": {},
   "outputs": [
    {
     "name": "stdout",
     "output_type": "stream",
     "text": [
      "342.5625 342.796875 0.234375\n"
     ]
    }
   ],
   "source": [
    "end_time = time.process_time()\n",
    "cpu_time = end_time - start_time\n",
    "print(start_time,end_time,cpu_time)"
   ]
  },
  {
   "cell_type": "markdown",
   "id": "11cb9ff0-02bf-41d9-a84f-977a789af177",
   "metadata": {},
   "source": [
    "### 3.5.2 Accuracy Calculation"
   ]
  },
  {
   "cell_type": "code",
   "execution_count": 73,
   "id": "58b70303-3e9e-498c-9ab6-459479c9812e",
   "metadata": {},
   "outputs": [
    {
     "name": "stdout",
     "output_type": "stream",
     "text": [
      "\n",
      "Mean cross-validation accuracy: 71.70\n"
     ]
    }
   ],
   "source": [
    "# Calculate the mean accuracy across all folds\n",
    "mean_accuracy = np.mean(dt_scores)\n",
    "print(f'\\nMean cross-validation accuracy: {mean_accuracy* 100:.2f}')"
   ]
  },
  {
   "cell_type": "code",
   "execution_count": 74,
   "id": "a6ee7678-b690-41a6-9a28-6085424ca845",
   "metadata": {},
   "outputs": [],
   "source": [
    "new_row5 = pd.DataFrame({'Features':[X.columns],'Algorithm' : ['Decision Tree Algorithm'],'Accuracy' : [dt_scores],'Mean_Accuracy' :[mean_accuracy * 100]})\n",
    "#print(new_row5)\n",
    "df=pd.concat([df,new_row5], ignore_index=True)\n",
    "#print(df)"
   ]
  },
  {
   "cell_type": "markdown",
   "id": "701b4d5e-7398-40c0-81c7-8cc95f0564de",
   "metadata": {},
   "source": [
    "start_time = time.process_time()## 3.6 Support Vector Machine (SVM)\n",
    "\n",
    "### 3.6.1 Initialize and Train the Support Vector Machine"
   ]
  },
  {
   "cell_type": "code",
   "execution_count": 76,
   "id": "272693bc-5d76-408c-a6f8-84cb382c8887",
   "metadata": {},
   "outputs": [],
   "source": [
    "start_time = time.process_time()"
   ]
  },
  {
   "cell_type": "code",
   "execution_count": 77,
   "id": "b61f47ff-a2dd-4280-b63d-c939e6e0e515",
   "metadata": {},
   "outputs": [
    {
     "name": "stdout",
     "output_type": "stream",
     "text": [
      "Fold accuracy: 0.76\n",
      "Fold accuracy: 0.76\n",
      "Fold accuracy: 0.76\n",
      "Fold accuracy: 0.77\n",
      "Fold accuracy: 0.77\n"
     ]
    }
   ],
   "source": [
    "# Perform 5-fold cross-validation using a for loop\n",
    "fold_accuracies = []\n",
    "\n",
    "# Initialize the SVM classifier\n",
    "svm = SVC(kernel='linear', C=1.0, random_state=42)\n",
    "\n",
    "for train_index, test_index in kf.split(X, y):\n",
    "    X_train, X_test = X.iloc[train_index], X.loc[test_index]\n",
    "    y_train, y_test = y[train_index], y[test_index]\n",
    "    \n",
    "    # Train the SVM model\n",
    "    svm.fit(X_train, y_train)\n",
    "    \n",
    "    # Predict on the test set\n",
    "    y_pred = svm.predict(X_test)\n",
    "    \n",
    "    # Calculate accuracy\n",
    "    accuracy = accuracy_score(y_test, y_pred)\n",
    "    fold_accuracies.append(accuracy)\n",
    "\n",
    "    print(f'Fold accuracy: {accuracy:.2f}')\n",
    "\n"
   ]
  },
  {
   "cell_type": "code",
   "execution_count": 78,
   "id": "238dc4bd-4fee-4a62-963e-9e6e41ec5d0a",
   "metadata": {},
   "outputs": [
    {
     "name": "stdout",
     "output_type": "stream",
     "text": [
      "342.96875 372.921875 29.953125\n"
     ]
    }
   ],
   "source": [
    "end_time = time.process_time()\n",
    "cpu_time = end_time - start_time\n",
    "print(start_time,end_time,cpu_time)"
   ]
  },
  {
   "cell_type": "markdown",
   "id": "d5e30795-05fd-4d3b-a5a8-7f22c4c509a9",
   "metadata": {},
   "source": [
    "### 3.6.2 Accuracy Calculation"
   ]
  },
  {
   "cell_type": "code",
   "execution_count": 80,
   "id": "4687f7ce-7f9e-41df-b3e9-3546686ac2e6",
   "metadata": {
    "tags": []
   },
   "outputs": [
    {
     "name": "stdout",
     "output_type": "stream",
     "text": [
      "Mean cross-validation accuracy: 76.56\n"
     ]
    }
   ],
   "source": [
    "# Calculate the mean accuracy across all folds\n",
    "mean_accuracy = np.mean(fold_accuracies)\n",
    "print(f'Mean cross-validation accuracy: {mean_accuracy* 100:.2f}')"
   ]
  },
  {
   "cell_type": "code",
   "execution_count": 81,
   "id": "b7432956-f213-48a0-90a6-a9d3b693a39a",
   "metadata": {
    "tags": []
   },
   "outputs": [],
   "source": [
    "new_row6 = pd.DataFrame({'Features':[X.columns],'Algorithm' : ['Support Vector Machine (SVM)'],'Accuracy' : [fold_accuracies],'Mean_Accuracy' :[mean_accuracy * 100]})\n",
    "#print(new_row6)\n",
    "df=pd.concat([df,new_row6], ignore_index=True)\n",
    "#print(df)"
   ]
  },
  {
   "cell_type": "markdown",
   "id": "f13cf87b-3334-4e66-a693-a35a1e29915a",
   "metadata": {},
   "source": [
    "### 3.6.3 Train the model and draw a plot on decision Boundries"
   ]
  },
  {
   "cell_type": "code",
   "execution_count": 83,
   "id": "bc798c09-787e-4e6b-9713-1bacb86bcec9",
   "metadata": {},
   "outputs": [
    {
     "data": {
      "text/html": [
       "<style>#sk-container-id-1 {color: black;background-color: white;}#sk-container-id-1 pre{padding: 0;}#sk-container-id-1 div.sk-toggleable {background-color: white;}#sk-container-id-1 label.sk-toggleable__label {cursor: pointer;display: block;width: 100%;margin-bottom: 0;padding: 0.3em;box-sizing: border-box;text-align: center;}#sk-container-id-1 label.sk-toggleable__label-arrow:before {content: \"▸\";float: left;margin-right: 0.25em;color: #696969;}#sk-container-id-1 label.sk-toggleable__label-arrow:hover:before {color: black;}#sk-container-id-1 div.sk-estimator:hover label.sk-toggleable__label-arrow:before {color: black;}#sk-container-id-1 div.sk-toggleable__content {max-height: 0;max-width: 0;overflow: hidden;text-align: left;background-color: #f0f8ff;}#sk-container-id-1 div.sk-toggleable__content pre {margin: 0.2em;color: black;border-radius: 0.25em;background-color: #f0f8ff;}#sk-container-id-1 input.sk-toggleable__control:checked~div.sk-toggleable__content {max-height: 200px;max-width: 100%;overflow: auto;}#sk-container-id-1 input.sk-toggleable__control:checked~label.sk-toggleable__label-arrow:before {content: \"▾\";}#sk-container-id-1 div.sk-estimator input.sk-toggleable__control:checked~label.sk-toggleable__label {background-color: #d4ebff;}#sk-container-id-1 div.sk-label input.sk-toggleable__control:checked~label.sk-toggleable__label {background-color: #d4ebff;}#sk-container-id-1 input.sk-hidden--visually {border: 0;clip: rect(1px 1px 1px 1px);clip: rect(1px, 1px, 1px, 1px);height: 1px;margin: -1px;overflow: hidden;padding: 0;position: absolute;width: 1px;}#sk-container-id-1 div.sk-estimator {font-family: monospace;background-color: #f0f8ff;border: 1px dotted black;border-radius: 0.25em;box-sizing: border-box;margin-bottom: 0.5em;}#sk-container-id-1 div.sk-estimator:hover {background-color: #d4ebff;}#sk-container-id-1 div.sk-parallel-item::after {content: \"\";width: 100%;border-bottom: 1px solid gray;flex-grow: 1;}#sk-container-id-1 div.sk-label:hover label.sk-toggleable__label {background-color: #d4ebff;}#sk-container-id-1 div.sk-serial::before {content: \"\";position: absolute;border-left: 1px solid gray;box-sizing: border-box;top: 0;bottom: 0;left: 50%;z-index: 0;}#sk-container-id-1 div.sk-serial {display: flex;flex-direction: column;align-items: center;background-color: white;padding-right: 0.2em;padding-left: 0.2em;position: relative;}#sk-container-id-1 div.sk-item {position: relative;z-index: 1;}#sk-container-id-1 div.sk-parallel {display: flex;align-items: stretch;justify-content: center;background-color: white;position: relative;}#sk-container-id-1 div.sk-item::before, #sk-container-id-1 div.sk-parallel-item::before {content: \"\";position: absolute;border-left: 1px solid gray;box-sizing: border-box;top: 0;bottom: 0;left: 50%;z-index: -1;}#sk-container-id-1 div.sk-parallel-item {display: flex;flex-direction: column;z-index: 1;position: relative;background-color: white;}#sk-container-id-1 div.sk-parallel-item:first-child::after {align-self: flex-end;width: 50%;}#sk-container-id-1 div.sk-parallel-item:last-child::after {align-self: flex-start;width: 50%;}#sk-container-id-1 div.sk-parallel-item:only-child::after {width: 0;}#sk-container-id-1 div.sk-dashed-wrapped {border: 1px dashed gray;margin: 0 0.4em 0.5em 0.4em;box-sizing: border-box;padding-bottom: 0.4em;background-color: white;}#sk-container-id-1 div.sk-label label {font-family: monospace;font-weight: bold;display: inline-block;line-height: 1.2em;}#sk-container-id-1 div.sk-label-container {text-align: center;}#sk-container-id-1 div.sk-container {/* jupyter's `normalize.less` sets `[hidden] { display: none; }` but bootstrap.min.css set `[hidden] { display: none !important; }` so we also need the `!important` here to be able to override the default hidden behavior on the sphinx rendered scikit-learn.org. See: https://github.com/scikit-learn/scikit-learn/issues/21755 */display: inline-block !important;position: relative;}#sk-container-id-1 div.sk-text-repr-fallback {display: none;}</style><div id=\"sk-container-id-1\" class=\"sk-top-container\"><div class=\"sk-text-repr-fallback\"><pre>SVC(kernel=&#x27;linear&#x27;, random_state=42)</pre><b>In a Jupyter environment, please rerun this cell to show the HTML representation or trust the notebook. <br />On GitHub, the HTML representation is unable to render, please try loading this page with nbviewer.org.</b></div><div class=\"sk-container\" hidden><div class=\"sk-item\"><div class=\"sk-estimator sk-toggleable\"><input class=\"sk-toggleable__control sk-hidden--visually\" id=\"sk-estimator-id-1\" type=\"checkbox\" checked><label for=\"sk-estimator-id-1\" class=\"sk-toggleable__label sk-toggleable__label-arrow\">SVC</label><div class=\"sk-toggleable__content\"><pre>SVC(kernel=&#x27;linear&#x27;, random_state=42)</pre></div></div></div></div></div>"
      ],
      "text/plain": [
       "SVC(kernel='linear', random_state=42)"
      ]
     },
     "execution_count": 83,
     "metadata": {},
     "output_type": "execute_result"
    }
   ],
   "source": [
    "# Train the SVM model on the entire dataset\n",
    "svm.fit(X, y)"
   ]
  },
  {
   "cell_type": "code",
   "execution_count": 84,
   "id": "d6457ab2-ee81-4a32-99e4-d2d3e2d8c727",
   "metadata": {
    "tags": []
   },
   "outputs": [
    {
     "data": {
      "image/png": "[encoded data removed]",
      "text/plain": [
       "<Figure size 640x480 with 1 Axes>"
      ]
     },
     "metadata": {},
     "output_type": "display_data"
    }
   ],
   "source": [
    "pca = PCA(n_components=2)\n",
    "X_pca = pca.fit_transform(X)\n",
    "\n",
    "svm.fit(X_pca, y)\n",
    "\n",
    "# Create a mesh to plot the decision boundaries\n",
    "h = .02  # step size in the mesh\n",
    "x_min, x_max = X_pca[:, 0].min() - 1, X_pca[:, 0].max() + 1\n",
    "y_min, y_max = X_pca[:, 1].min() - 1, X_pca[:, 1].max() + 1\n",
    "xx, yy = np.meshgrid(np.arange(x_min, x_max, h), np.arange(y_min, y_max, h))\n",
    "\n",
    "# Predict classifications for each point in the mesh\n",
    "Z = svm.predict(np.c_[xx.ravel(), yy.ravel()])\n",
    "Z = Z.reshape(xx.shape)\n",
    "\n",
    "# Plot the decision boundaries\n",
    "plt.contourf(xx, yy, Z, alpha=0.8)\n",
    "plt.scatter(X_pca[:, 0], X_pca[:, 1], c=y, edgecolors='k', marker='o')\n",
    "plt.xlabel('Principal Component 1')\n",
    "plt.ylabel('Principal Component 2')\n",
    "plt.title('SVM Decision Boundaries (PCA Reduced Data)')\n",
    "plt.show()"
   ]
  },
  {
   "cell_type": "code",
   "execution_count": 85,
   "id": "5dfafe6e-cd5d-4b11-b7bd-8e34bf0ac3b8",
   "metadata": {},
   "outputs": [
    {
     "data": {
      "text/plain": [
       "<Figure size 640x480 with 0 Axes>"
      ]
     },
     "metadata": {},
     "output_type": "display_data"
    }
   ],
   "source": [
    "plt.savefig('svm_plot.png', dpi=300, bbox_inches='tight', transparent=True)"
   ]
  },
  {
   "cell_type": "markdown",
   "id": "d61ac070-9865-4340-9de9-8aa2d977f40a",
   "metadata": {},
   "source": [
    "# 5 Output\n",
    "\n",
    "## 5.1 Wiriting to Output File"
   ]
  },
  {
   "cell_type": "code",
   "execution_count": 87,
   "id": "1e994e28-e573-439b-9e05-bc738e28ef13",
   "metadata": {
    "tags": []
   },
   "outputs": [],
   "source": [
    "df.to_csv('C:\\Prakash\\Personal\\Studies\\Techincal\\MTech. Data Science and Engineering\\Semester-wise\\Semester-I\\Study\\Sem-I - 0- Python Fundamentals for Data Science (S1-22_DSECLPFDS)\\PythonPgm\\MTech-Proj03-NHANES-2018\\Data\\SLTraning_Values.csv',mode='a' ,index=False)"
   ]
  },
  {
   "cell_type": "code",
   "execution_count": 88,
   "id": "1ddfc5de-aa31-44d3-98bc-c41991a97b09",
   "metadata": {},
   "outputs": [
    {
     "data": {
      "text/plain": [
       "['xgb_DiabeticsPrediction.pkl']"
      ]
     },
     "execution_count": 88,
     "metadata": {},
     "output_type": "execute_result"
    }
   ],
   "source": [
    "joblib.dump(xgb_clf,'xgb_DiabeticsPrediction.pkl')"
   ]
  },
  {
   "cell_type": "code",
   "execution_count": 89,
   "id": "bdc26e00-b9ff-4b4a-89f4-96f1ba34b7fe",
   "metadata": {},
   "outputs": [],
   "source": [
    "with open('randomf_DiabeticsPrediction.pkl', 'wb') as file:\n",
    "    pickle.dump(rf_model, file)"
   ]
  },
  {
   "cell_type": "code",
   "execution_count": 90,
   "id": "a9a5f207-f8ec-4909-b1ea-a1f39882dbe5",
   "metadata": {},
   "outputs": [],
   "source": [
    "with open('logisticr_DiabeticsPrediction.pkl', 'wb') as file:\n",
    "    pickle.dump(lr_model, file)"
   ]
  },
  {
   "cell_type": "code",
   "execution_count": 91,
   "id": "f585f4b1-4091-4025-99de-31943c941720",
   "metadata": {},
   "outputs": [
    {
     "data": {
      "text/plain": [
       "['lightGBM_DiabeticsPrediction.pkl']"
      ]
     },
     "execution_count": 91,
     "metadata": {},
     "output_type": "execute_result"
    }
   ],
   "source": [
    "joblib.dump(bst,'lightGBM_DiabeticsPrediction.pkl')"
   ]
  },
  {
   "cell_type": "code",
   "execution_count": 92,
   "id": "3957e67e-2975-49d6-8119-56e66827fce0",
   "metadata": {},
   "outputs": [],
   "source": [
    "with open('decision_DiabeticsPrediction.pkl', 'wb') as file:\n",
    "    pickle.dump(decision_tree, file)"
   ]
  },
  {
   "cell_type": "code",
   "execution_count": 93,
   "id": "02103d73-f0fd-40a5-a338-9f64eaafc9c7",
   "metadata": {},
   "outputs": [],
   "source": [
    "with open('svm_DiabeticsPrediction.pkl', 'wb') as file:\n",
    "    pickle.dump(svm, file)"
   ]
  },
  {
   "cell_type": "markdown",
   "id": "07450823-b973-4787-93bc-fea9c73f7097",
   "metadata": {},
   "source": [
    "# 5 Unsupervised Learning\n",
    "## 5.1 K-Means Algorithm\n",
    "### 5.1.1 Initialize and Train the K-Means Algorithm"
   ]
  },
  {
   "cell_type": "code",
   "execution_count": 95,
   "id": "cd88c299-2bac-4536-985c-8c5d13512acf",
   "metadata": {},
   "outputs": [],
   "source": [
    "start_time = time.process_time()"
   ]
  },
  {
   "cell_type": "code",
   "execution_count": 96,
   "id": "cae3c23c-4c56-4e04-ba16-f0d51f9e5ccc",
   "metadata": {
    "tags": []
   },
   "outputs": [
    {
     "name": "stderr",
     "output_type": "stream",
     "text": [
      "C:\\ProgramData\\anaconda3\\Lib\\site-packages\\sklearn\\cluster\\_kmeans.py:870: FutureWarning: The default value of `n_init` will change from 10 to 'auto' in 1.4. Set the value of `n_init` explicitly to suppress the warning\n",
      "  warnings.warn(\n",
      "C:\\ProgramData\\anaconda3\\Lib\\site-packages\\sklearn\\cluster\\_kmeans.py:1382: UserWarning: KMeans is known to have a memory leak on Windows with MKL, when there are less chunks than available threads. You can avoid it by setting the environment variable OMP_NUM_THREADS=7.\n",
      "  warnings.warn(\n"
     ]
    },
    {
     "name": "stdout",
     "output_type": "stream",
     "text": [
      "Silhouette Score for fold: 0.36\n"
     ]
    },
    {
     "name": "stderr",
     "output_type": "stream",
     "text": [
      "C:\\ProgramData\\anaconda3\\Lib\\site-packages\\sklearn\\cluster\\_kmeans.py:870: FutureWarning: The default value of `n_init` will change from 10 to 'auto' in 1.4. Set the value of `n_init` explicitly to suppress the warning\n",
      "  warnings.warn(\n",
      "C:\\ProgramData\\anaconda3\\Lib\\site-packages\\sklearn\\cluster\\_kmeans.py:1382: UserWarning: KMeans is known to have a memory leak on Windows with MKL, when there are less chunks than available threads. You can avoid it by setting the environment variable OMP_NUM_THREADS=7.\n",
      "  warnings.warn(\n"
     ]
    },
    {
     "name": "stdout",
     "output_type": "stream",
     "text": [
      "Silhouette Score for fold: 0.37\n"
     ]
    },
    {
     "name": "stderr",
     "output_type": "stream",
     "text": [
      "C:\\ProgramData\\anaconda3\\Lib\\site-packages\\sklearn\\cluster\\_kmeans.py:870: FutureWarning: The default value of `n_init` will change from 10 to 'auto' in 1.4. Set the value of `n_init` explicitly to suppress the warning\n",
      "  warnings.warn(\n",
      "C:\\ProgramData\\anaconda3\\Lib\\site-packages\\sklearn\\cluster\\_kmeans.py:1382: UserWarning: KMeans is known to have a memory leak on Windows with MKL, when there are less chunks than available threads. You can avoid it by setting the environment variable OMP_NUM_THREADS=7.\n",
      "  warnings.warn(\n"
     ]
    },
    {
     "name": "stdout",
     "output_type": "stream",
     "text": [
      "Silhouette Score for fold: 0.36\n"
     ]
    },
    {
     "name": "stderr",
     "output_type": "stream",
     "text": [
      "C:\\ProgramData\\anaconda3\\Lib\\site-packages\\sklearn\\cluster\\_kmeans.py:870: FutureWarning: The default value of `n_init` will change from 10 to 'auto' in 1.4. Set the value of `n_init` explicitly to suppress the warning\n",
      "  warnings.warn(\n",
      "C:\\ProgramData\\anaconda3\\Lib\\site-packages\\sklearn\\cluster\\_kmeans.py:1382: UserWarning: KMeans is known to have a memory leak on Windows with MKL, when there are less chunks than available threads. You can avoid it by setting the environment variable OMP_NUM_THREADS=7.\n",
      "  warnings.warn(\n"
     ]
    },
    {
     "name": "stdout",
     "output_type": "stream",
     "text": [
      "Silhouette Score for fold: 0.36\n"
     ]
    },
    {
     "name": "stderr",
     "output_type": "stream",
     "text": [
      "C:\\ProgramData\\anaconda3\\Lib\\site-packages\\sklearn\\cluster\\_kmeans.py:870: FutureWarning: The default value of `n_init` will change from 10 to 'auto' in 1.4. Set the value of `n_init` explicitly to suppress the warning\n",
      "  warnings.warn(\n",
      "C:\\ProgramData\\anaconda3\\Lib\\site-packages\\sklearn\\cluster\\_kmeans.py:1382: UserWarning: KMeans is known to have a memory leak on Windows with MKL, when there are less chunks than available threads. You can avoid it by setting the environment variable OMP_NUM_THREADS=7.\n",
      "  warnings.warn(\n"
     ]
    },
    {
     "name": "stdout",
     "output_type": "stream",
     "text": [
      "Silhouette Score for fold: 0.35\n"
     ]
    }
   ],
   "source": [
    "# Initialize KFold cross-validator\n",
    "kfUn = KFold(n_splits=5, shuffle=True, random_state=0)\n",
    "# Number of clusters\n",
    "n_clusters = 2\n",
    "# Initialize list to store silhouette scores\n",
    "silhouette_scores = []\n",
    "\n",
    "# Perform 5-fold cross-validation\n",
    "for train_index, test_index in kfUn.split(X):\n",
    "    X_train, X_test = X.iloc[train_index], X.loc[test_index]\n",
    "    \n",
    "    # Fit k-Means on training data\n",
    "    kmeans = KMeans(n_clusters=n_clusters, random_state=0)\n",
    "    kmeans.fit(X_train)\n",
    "    \n",
    "    # Predict cluster labels for the test fold\n",
    "    labels = kmeans.predict(X_test)\n",
    "    \n",
    "    # Compute silhouette score\n",
    "    score = silhouette_score(X_test, labels)\n",
    "    silhouette_scores.append(score)\n",
    "\n",
    "    print(f'Silhouette Score for fold: {score:.2f}')"
   ]
  },
  {
   "cell_type": "code",
   "execution_count": 97,
   "id": "bcf9d3f4-ba37-47be-94bb-b82504224931",
   "metadata": {},
   "outputs": [
    {
     "name": "stdout",
     "output_type": "stream",
     "text": [
      "2584.890625 2609.34375 24.453125\n"
     ]
    }
   ],
   "source": [
    "end_time = time.process_time()\n",
    "cpu_time = end_time - start_time\n",
    "print(start_time,end_time,cpu_time)"
   ]
  },
  {
   "cell_type": "code",
   "execution_count": 98,
   "id": "a09d793f-18a1-480a-9de9-72efd90a7522",
   "metadata": {},
   "outputs": [
    {
     "name": "stdout",
     "output_type": "stream",
     "text": [
      "Average Silhouette Score: 0.36\n"
     ]
    },
    {
     "name": "stderr",
     "output_type": "stream",
     "text": [
      "C:\\ProgramData\\anaconda3\\Lib\\site-packages\\sklearn\\cluster\\_kmeans.py:870: FutureWarning: The default value of `n_init` will change from 10 to 'auto' in 1.4. Set the value of `n_init` explicitly to suppress the warning\n",
      "  warnings.warn(\n"
     ]
    },
    {
     "name": "stdout",
     "output_type": "stream",
     "text": [
      "[0 0 0 ... 0 0 1]\n"
     ]
    }
   ],
   "source": [
    "# Print average silhouette score\n",
    "average_score = np.mean(silhouette_scores)\n",
    "print(f'Average Silhouette Score: {average_score:.2f}')\n",
    "# Reduce the dimensionality of the data to 2 components for visualization\n",
    "pca = PCA(n_components=2)\n",
    "X_reduced = pca.fit_transform(X)\n",
    "# Fit k-Means on the entire dataset for visualization\n",
    "kmeans = KMeans(n_clusters=n_clusters, random_state=0)\n",
    "kmeans.fit(X)\n",
    "\n",
    "# Predict cluster labels\n",
    "labels = kmeans.predict(X)\n",
    "print(labels)"
   ]
  },
  {
   "cell_type": "code",
   "execution_count": 99,
   "id": "af003ac0-f9b5-487a-a91b-2288e8998f8e",
   "metadata": {},
   "outputs": [
    {
     "data": {
      "image/png": "[encoded data removed]",
      "text/plain": [
       "<Figure size 640x480 with 1 Axes>"
      ]
     },
     "metadata": {},
     "output_type": "display_data"
    }
   ],
   "source": [
    "# Plot the clusters using the PCA-reduced data\n",
    "plt.scatter(X_reduced[:, 0], X_reduced[:, 1], c=labels, cmap='viridis', s=50)\n",
    "plt.scatter(kmeans.cluster_centers_[:, 0], kmeans.cluster_centers_[:, 1], s=200, c='red', marker='X')\n",
    "plt.xlabel('Principal Component 1')\n",
    "plt.ylabel('Principal Component 2')\n",
    "plt.title('k-Means Clustering on Dataset (PCA)')\n",
    "plt.show()\n",
    "\n",
    "\n",
    "\n",
    "# Optional: Plot clusters for the last fold\n",
    "#plt.figure(figsize=(10, 6))\n",
    "#plt.scatter(X_test[:, 0], X_test[:, 1], c=labels, s=50, cmap='viridis')\n",
    "#plt.scatter(kmeans.cluster_centers_[:, 0], kmeans.cluster_centers_[:, 1], c='red', s=200, alpha=0.75, marker='X')\n",
    "#plt.xlabel('Feature 1')\n",
    "#plt.ylabel('Feature 2')\n",
    "#plt.title('k-Means Clustering with 5-Fold Cross-Validation')\n",
    "#plt.show()"
   ]
  },
  {
   "cell_type": "code",
   "execution_count": 100,
   "id": "5af124df-4e52-44fc-a214-44f245292fb1",
   "metadata": {
    "tags": []
   },
   "outputs": [],
   "source": [
    "with open('kmeans_DiabeticsPrediction.pkl', 'wb') as file:\n",
    "    pickle.dump(kmeans, file)"
   ]
  },
  {
   "cell_type": "code",
   "execution_count": 101,
   "id": "5b90e502-157d-45e0-bc5b-6969419b8a48",
   "metadata": {
    "tags": []
   },
   "outputs": [],
   "source": [
    "plt.show()"
   ]
  },
  {
   "cell_type": "code",
   "execution_count": 102,
   "id": "6923041b-c669-4217-be1c-ce0cc5cdc692",
   "metadata": {
    "tags": []
   },
   "outputs": [
    {
     "data": {
      "text/plain": [
       "<Figure size 640x480 with 0 Axes>"
      ]
     },
     "metadata": {},
     "output_type": "display_data"
    }
   ],
   "source": [
    "plt.savefig('kmeans_plot.png', dpi=300, bbox_inches='tight', transparent=True)"
   ]
  },
  {
   "cell_type": "code",
   "execution_count": null,
   "id": "69d9030c-4684-4225-a374-f33f1b7bb911",
   "metadata": {},
   "outputs": [],
   "source": []
  }
 ],
 "metadata": {
  "kernelspec": {
   "display_name": "Python 3 (ipykernel)",
   "language": "python",
   "name": "python3"
  },
  "language_info": {
   "codemirror_mode": {
    "name": "ipython",
    "version": 3
   },
   "file_extension": ".py",
   "mimetype": "text/x-python",
   "name": "python",
   "nbconvert_exporter": "python",
   "pygments_lexer": "ipython3",
   "version": "3.11.7"
  }
 },
 "nbformat": 4,
 "nbformat_minor": 5
}
