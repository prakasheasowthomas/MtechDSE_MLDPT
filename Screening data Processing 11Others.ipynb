{
 "cells": [
  {
   "cell_type": "markdown",
   "id": "5b35ba35",
   "metadata": {},
   "source": [
    "<center><h1 style=\"color:#1a1a1a;\n",
    "                    font-size:3em\">\n",
    "        NHANES - MTech Project \n",
    "        </h1> \n",
    "        <h2 style=\"color:#1a1a1a;\n",
    "                    font-size:2em\">\n",
    "        Categorizing the data based on the Pre-Diabetic Risk test (Screening Tool) by ADA Guidelines \n",
    "            <h6> (https://www.cdc.gov/diabetes/prevention/pdf/Prediabetes-Risk-Test-Final.pdf)</h6>\n",
    "       </h2>\n",
    "       <h3 style=\"color:#1a1a1a;\n",
    "                    font-size:2em\">\n",
    "        Prakash Easow Thomas - 2022DA04285 - June 2024\n",
    "       </h3>\n",
    "</center>"
   ]
  },
  {
   "cell_type": "code",
   "execution_count": 2,
   "id": "c50efd5f",
   "metadata": {},
   "outputs": [],
   "source": [
    "import os\n",
    "import pandas as pd\n",
    "import numpy as np\n",
    "import seaborn as sns\n",
    "import matplotlib.pyplot as plt\n",
    "from sklearn.feature_selection import SelectKBest, f_classif\n",
    "from sklearn.preprocessing import LabelEncoder"
   ]
  },
  {
   "cell_type": "code",
   "execution_count": 3,
   "id": "2362a39b",
   "metadata": {},
   "outputs": [],
   "source": [
    "df1quest  = pd.read_csv('C:\\Prakash\\Personal\\Studies\\Techincal\\MTech. Data Science and Engineering\\Semester-wise\\Semester-I\\Study\\Sem-I - 0- Python Fundamentals for Data Science (S1-22_DSECLPFDS)\\PythonPgm\\MTech-Proj03-NHANES-2018\\Data\\questionnaire.csv')\n",
    "df2lab    = pd.read_csv('C:\\Prakash\\Personal\\Studies\\Techincal\\MTech. Data Science and Engineering\\Semester-wise\\Semester-I\\Study\\Sem-I - 0- Python Fundamentals for Data Science (S1-22_DSECLPFDS)\\PythonPgm\\MTech-Proj03-NHANES-2018\\Data\\laboratory.csv')\n",
    "df3exam   = pd.read_csv('C:\\Prakash\\Personal\\Studies\\Techincal\\MTech. Data Science and Engineering\\Semester-wise\\Semester-I\\Study\\Sem-I - 0- Python Fundamentals for Data Science (S1-22_DSECLPFDS)\\PythonPgm\\MTech-Proj03-NHANES-2018\\Data\\examination.csv')\n",
    "df4demo   = pd.read_csv('C:\\Prakash\\Personal\\Studies\\Techincal\\MTech. Data Science and Engineering\\Semester-wise\\Semester-I\\Study\\Sem-I - 0- Python Fundamentals for Data Science (S1-22_DSECLPFDS)\\PythonPgm\\MTech-Proj03-NHANES-2018\\Data\\demographics.csv')\n"
   ]
  },
  {
   "cell_type": "code",
   "execution_count": 4,
   "id": "3daeac07",
   "metadata": {},
   "outputs": [],
   "source": [
    "common_key = 'SEQN'\n",
    "# Merge the DataFrames\n",
    "merged_dfNHAENES2018 = df1quest.merge(df2lab, on=common_key, how='outer')\n",
    "merged_dfNHAENES2018 = merged_dfNHAENES2018.merge(df3exam, on=common_key, how='outer')\n",
    "merged_dfNHAENES2018 = merged_dfNHAENES2018.merge(df4demo, on=common_key, how='outer')\n"
   ]
  },
  {
   "cell_type": "code",
   "execution_count": 5,
   "id": "54fce795",
   "metadata": {},
   "outputs": [],
   "source": [
    "columns_to_select = ['SEQN',                                        # Sequence No\n",
    "                     'RIDAGEYR',                                    # Age\n",
    "                     'RIAGENDR',                                    # Gender\n",
    "                     'RHQ162',                                      # Gestational Diabetes\n",
    "                     'DIQ175A',                                     # Family History\n",
    "                     'BPXOSY1','BPXODI1',                           # Systolic (>120) and Diastoilc > 80\n",
    "                     'PAQ605','PAQ620','PAQ650','PAQ665', 'PAQ706', # Physically Active \n",
    "                     'BMXBMI',                                      # Body Mass Index\n",
    "                     'BMXWT',                                       # Body Weight\n",
    "                     'BMXHT',                                       # Height\n",
    "                     'RIDRETH3',                                    # Race\n",
    "                     'LBXGH',                                       # HbA1c\n",
    "                     'LBXGLU'                                       # Fasting Blood Sugar\n",
    "                     ]"
   ]
  },
  {
   "cell_type": "code",
   "execution_count": 6,
   "id": "06e8a394",
   "metadata": {},
   "outputs": [
    {
     "name": "stdout",
     "output_type": "stream",
     "text": [
      "Index(['SEQN', 'RIDAGEYR', 'RIAGENDR', 'RHQ162', 'DIQ175A', 'BPXOSY1',\n",
      "       'BPXODI1', 'PAQ605', 'PAQ620', 'PAQ650', 'PAQ665', 'PAQ706', 'BMXBMI',\n",
      "       'BMXWT', 'BMXHT', 'RIDRETH3', 'LBXGH', 'LBXGLU'],\n",
      "      dtype='object')\n"
     ]
    }
   ],
   "source": [
    "# Ensure the columns to select are in the DataFrame\n",
    "valid_columns = pd.Index(columns_to_select).intersection(merged_dfNHAENES2018.columns)\n",
    "merged_dfNHAENES2018 = merged_dfNHAENES2018.drop(merged_dfNHAENES2018[merged_dfNHAENES2018['RIDRETH3'] !=  7].index)  # Others      \n",
    "print(valid_columns)\n",
    "# Select only the valid columns\n",
    "merged_dfNHAENES2018_selected = merged_dfNHAENES2018[columns_to_select]"
   ]
  },
  {
   "cell_type": "code",
   "execution_count": 7,
   "id": "26afb36a",
   "metadata": {},
   "outputs": [
    {
     "name": "stdout",
     "output_type": "stream",
     "text": [
      "          SEQN  RIDAGEYR  RIAGENDR  RHQ162  DIQ175A  BPXOSY1  BPXODI1  PAQ605  \\\n",
      "4      93707.0      13.0       1.0     NaN      NaN    136.0     71.0     NaN   \n",
      "12     93715.0      71.0       1.0     NaN      NaN    126.0     78.0     1.0   \n",
      "56     93759.0      60.0       1.0     NaN      NaN    136.0     78.0     1.0   \n",
      "66     93769.0       6.0       1.0     NaN      NaN      NaN      NaN     NaN   \n",
      "76     93779.0      10.0       2.0     NaN      NaN    107.0     56.0     NaN   \n",
      "...        ...       ...       ...     ...      ...      ...      ...     ...   \n",
      "9151  102854.0      45.0       1.0     NaN     10.0    131.0     81.0     1.0   \n",
      "9208  102911.0      55.0       2.0     2.0     10.0    135.0     70.0     2.0   \n",
      "9223  102926.0      15.0       2.0     NaN      NaN    107.0     61.0     NaN   \n",
      "9233  102936.0       1.0       1.0     NaN      NaN      NaN      NaN     NaN   \n",
      "9236  102939.0       2.0       2.0     NaN      NaN      NaN      NaN     NaN   \n",
      "\n",
      "      PAQ620  PAQ650  PAQ665  PAQ706  BMXBMI  BMXWT  BMXHT  RIDRETH3  LBXGH  \\\n",
      "4        NaN     NaN     NaN     0.0    18.1   45.4  158.4       7.0    5.6   \n",
      "12       1.0     1.0     2.0     NaN    22.5   65.6  170.6       7.0    6.2   \n",
      "56       2.0     1.0     1.0     NaN    29.1   73.1  158.6       7.0    6.8   \n",
      "66       NaN     NaN     NaN     7.0    15.1   23.5  124.7       7.0    NaN   \n",
      "76       NaN     NaN     NaN     2.0    16.4   31.7  138.9       7.0    NaN   \n",
      "...      ...     ...     ...     ...     ...    ...    ...       ...    ...   \n",
      "9151     1.0     2.0     2.0     NaN    40.9  110.7  164.6       7.0    6.4   \n",
      "9208     2.0     2.0     2.0     NaN    19.8   57.0  169.8       7.0    5.8   \n",
      "9223     NaN     NaN     NaN     5.0    20.4   51.4  158.7       7.0    5.5   \n",
      "9233     NaN     NaN     NaN     NaN     NaN   10.2    NaN       7.0    NaN   \n",
      "9236     NaN     NaN     NaN     7.0    16.5   11.2   82.5       7.0    NaN   \n",
      "\n",
      "      LBXGLU  \n",
      "4        NaN  \n",
      "12       NaN  \n",
      "56      73.0  \n",
      "66       NaN  \n",
      "76       NaN  \n",
      "...      ...  \n",
      "9151     NaN  \n",
      "9208     NaN  \n",
      "9223    94.0  \n",
      "9233     NaN  \n",
      "9236     NaN  \n",
      "\n",
      "[634 rows x 18 columns]\n"
     ]
    }
   ],
   "source": [
    "print(merged_dfNHAENES2018_selected)"
   ]
  },
  {
   "cell_type": "code",
   "execution_count": 8,
   "id": "2e1c7964",
   "metadata": {},
   "outputs": [],
   "source": [
    "def clean_data(df):\n",
    "    for column in df.columns:\n",
    "        # Check if the column contains byte-strings\n",
    "        if df[column].dtype == object:\n",
    "            # Decode byte-strings to regular strings\n",
    "            df[column] = df[column].apply(lambda x: x.decode('utf-8') if isinstance(x, bytes) else x)\n",
    "        # Convert non-numeric values to NaN for numeric columns\n",
    "        df[column] = pd.to_numeric(df[column], errors='ignore')\n",
    "    return df"
   ]
  },
  {
   "cell_type": "code",
   "execution_count": 9,
   "id": "067f7942",
   "metadata": {},
   "outputs": [
    {
     "name": "stdout",
     "output_type": "stream",
     "text": [
      "          SEQN  RIDAGEYR  RIAGENDR  RHQ162  DIQ175A  BPXOSY1  BPXODI1  PAQ605  \\\n",
      "4      93707.0      13.0       1.0     NaN      NaN    136.0     71.0     NaN   \n",
      "12     93715.0      71.0       1.0     NaN      NaN    126.0     78.0     1.0   \n",
      "56     93759.0      60.0       1.0     NaN      NaN    136.0     78.0     1.0   \n",
      "66     93769.0       6.0       1.0     NaN      NaN      NaN      NaN     NaN   \n",
      "76     93779.0      10.0       2.0     NaN      NaN    107.0     56.0     NaN   \n",
      "...        ...       ...       ...     ...      ...      ...      ...     ...   \n",
      "9151  102854.0      45.0       1.0     NaN     10.0    131.0     81.0     1.0   \n",
      "9208  102911.0      55.0       2.0     2.0     10.0    135.0     70.0     2.0   \n",
      "9223  102926.0      15.0       2.0     NaN      NaN    107.0     61.0     NaN   \n",
      "9233  102936.0       1.0       1.0     NaN      NaN      NaN      NaN     NaN   \n",
      "9236  102939.0       2.0       2.0     NaN      NaN      NaN      NaN     NaN   \n",
      "\n",
      "      PAQ620  PAQ650  PAQ665  PAQ706  BMXBMI  BMXWT  BMXHT  RIDRETH3  LBXGH  \\\n",
      "4        NaN     NaN     NaN     0.0    18.1   45.4  158.4       7.0    5.6   \n",
      "12       1.0     1.0     2.0     NaN    22.5   65.6  170.6       7.0    6.2   \n",
      "56       2.0     1.0     1.0     NaN    29.1   73.1  158.6       7.0    6.8   \n",
      "66       NaN     NaN     NaN     7.0    15.1   23.5  124.7       7.0    NaN   \n",
      "76       NaN     NaN     NaN     2.0    16.4   31.7  138.9       7.0    NaN   \n",
      "...      ...     ...     ...     ...     ...    ...    ...       ...    ...   \n",
      "9151     1.0     2.0     2.0     NaN    40.9  110.7  164.6       7.0    6.4   \n",
      "9208     2.0     2.0     2.0     NaN    19.8   57.0  169.8       7.0    5.8   \n",
      "9223     NaN     NaN     NaN     5.0    20.4   51.4  158.7       7.0    5.5   \n",
      "9233     NaN     NaN     NaN     NaN     NaN   10.2    NaN       7.0    NaN   \n",
      "9236     NaN     NaN     NaN     7.0    16.5   11.2   82.5       7.0    NaN   \n",
      "\n",
      "      LBXGLU  \n",
      "4        NaN  \n",
      "12       NaN  \n",
      "56      73.0  \n",
      "66       NaN  \n",
      "76       NaN  \n",
      "...      ...  \n",
      "9151     NaN  \n",
      "9208     NaN  \n",
      "9223    94.0  \n",
      "9233     NaN  \n",
      "9236     NaN  \n",
      "\n",
      "[634 rows x 18 columns]\n"
     ]
    },
    {
     "name": "stderr",
     "output_type": "stream",
     "text": [
      "C:\\Users\\praka\\AppData\\Local\\Temp\\ipykernel_32780\\3940003188.py:8: SettingWithCopyWarning: \n",
      "A value is trying to be set on a copy of a slice from a DataFrame.\n",
      "Try using .loc[row_indexer,col_indexer] = value instead\n",
      "\n",
      "See the caveats in the documentation: https://pandas.pydata.org/pandas-docs/stable/user_guide/indexing.html#returning-a-view-versus-a-copy\n",
      "  df[column] = pd.to_numeric(df[column], errors='ignore')\n"
     ]
    }
   ],
   "source": [
    "merged_dfNHAENES2018_Cleaned =clean_data(merged_dfNHAENES2018_selected)\n",
    "print(merged_dfNHAENES2018_Cleaned)"
   ]
  },
  {
   "cell_type": "code",
   "execution_count": 10,
   "id": "ac90edcc-719d-4f34-a03a-fb0d2f79c474",
   "metadata": {},
   "outputs": [
    {
     "name": "stdout",
     "output_type": "stream",
     "text": [
      "         SEQN  RIDAGEYR  RIAGENDR  RHQ162  DIQ175A  BPXOSY1  BPXODI1  PAQ605  \\\n",
      "0     93707.0      13.0       1.0     NaN      NaN    136.0     71.0     NaN   \n",
      "1     93715.0      71.0       1.0     NaN      NaN    126.0     78.0     1.0   \n",
      "2     93759.0      60.0       1.0     NaN      NaN    136.0     78.0     1.0   \n",
      "3     93780.0      46.0       2.0     2.0      NaN    120.0     80.0     2.0   \n",
      "4     93791.0      20.0       1.0     NaN      NaN    133.0     87.0     1.0   \n",
      "..        ...       ...       ...     ...      ...      ...      ...     ...   \n",
      "334  102695.0      14.0       2.0     NaN      NaN     99.0     58.0     NaN   \n",
      "335  102838.0      41.0       1.0     NaN      NaN    132.0     86.0     2.0   \n",
      "336  102854.0      45.0       1.0     NaN     10.0    131.0     81.0     1.0   \n",
      "337  102911.0      55.0       2.0     2.0     10.0    135.0     70.0     2.0   \n",
      "338  102926.0      15.0       2.0     NaN      NaN    107.0     61.0     NaN   \n",
      "\n",
      "     PAQ620  PAQ650  PAQ665  PAQ706  BMXBMI  BMXWT  BMXHT  RIDRETH3  LBXGH  \\\n",
      "0       NaN     NaN     NaN     0.0    18.1   45.4  158.4       7.0    5.6   \n",
      "1       1.0     1.0     2.0     NaN    22.5   65.6  170.6       7.0    6.2   \n",
      "2       2.0     1.0     1.0     NaN    29.1   73.1  158.6       7.0    6.8   \n",
      "3       2.0     2.0     2.0     NaN    33.5   87.5  161.7       7.0    5.3   \n",
      "4       1.0     1.0     2.0     NaN    36.9  100.6  165.2       7.0    5.1   \n",
      "..      ...     ...     ...     ...     ...    ...    ...       ...    ...   \n",
      "334     NaN     NaN     NaN     1.0    22.6   52.6  152.7       7.0    5.6   \n",
      "335     2.0     2.0     2.0     NaN    31.6  102.0  179.8       7.0    5.4   \n",
      "336     1.0     2.0     2.0     NaN    40.9  110.7  164.6       7.0    6.4   \n",
      "337     2.0     2.0     2.0     NaN    19.8   57.0  169.8       7.0    5.8   \n",
      "338     NaN     NaN     NaN     5.0    20.4   51.4  158.7       7.0    5.5   \n",
      "\n",
      "     LBXGLU  \n",
      "0       NaN  \n",
      "1       NaN  \n",
      "2      73.0  \n",
      "3     109.0  \n",
      "4       NaN  \n",
      "..      ...  \n",
      "334    92.0  \n",
      "335   101.0  \n",
      "336     NaN  \n",
      "337     NaN  \n",
      "338    94.0  \n",
      "\n",
      "[339 rows x 18 columns]\n"
     ]
    }
   ],
   "source": [
    "merged_dfNHAENES2018_Cleaned = merged_dfNHAENES2018_Cleaned.select_dtypes(include=[int, float])\n",
    "column_to_check_HbA1c ='LBXGH'\n",
    "merged_dfNHAENES2018_Cleaned =merged_dfNHAENES2018_Cleaned.dropna(subset=[column_to_check_HbA1c])\n",
    "column_to_check_BMI = 'BMXBMI'\n",
    "merged_dfNHAENES2018_Cleaned =merged_dfNHAENES2018_Cleaned.dropna(subset=[column_to_check_BMI])\n",
    "\n",
    "merged_dfNHAENES2018_Cleaned =merged_dfNHAENES2018_Cleaned.reset_index(drop=True)\n",
    "\n",
    "#dataset_for_ML = dataset_for_ML.reset_index(drop=True)\n",
    "print(merged_dfNHAENES2018_Cleaned)"
   ]
  },
  {
   "cell_type": "code",
   "execution_count": 11,
   "id": "16aff32a",
   "metadata": {},
   "outputs": [
    {
     "data": {
      "text/plain": [
       "(339, 19)"
      ]
     },
     "execution_count": 11,
     "metadata": {},
     "output_type": "execute_result"
    }
   ],
   "source": [
    "# Processing Age\n",
    "merged_dfNHAENES2018_Cleaned= merged_dfNHAENES2018_Cleaned.dropna(subset=['RIDAGEYR'])\n",
    "def classify(row):\n",
    "    if  row['RIDAGEYR'] > 0 and row['RIDAGEYR'] < 40 :\n",
    "        return 0\n",
    "    elif row['RIDAGEYR'] >= 40 and row['RIDAGEYR'] < 50:\n",
    "        return 1\n",
    "    elif row['RIDAGEYR'] >= 50 and row['RIDAGEYR'] < 60:\n",
    "        return 1\n",
    "    elif row['RIDAGEYR'] >= 60:\n",
    "        return 2\n",
    "    else:\n",
    "        return 99\n",
    "merged_dfNHAENES2018_Cleaned['Age_point']  = merged_dfNHAENES2018_Cleaned.apply(lambda row: classify(row), axis=1)\n",
    "merged_dfNHAENES2018_Cleaned.shape"
   ]
  },
  {
   "cell_type": "code",
   "execution_count": 12,
   "id": "73e9736c",
   "metadata": {},
   "outputs": [
    {
     "data": {
      "text/plain": [
       "(339, 19)"
      ]
     },
     "execution_count": 12,
     "metadata": {},
     "output_type": "execute_result"
    }
   ],
   "source": [
    "merged_dfNHAENES2018_Cleaned= merged_dfNHAENES2018_Cleaned[merged_dfNHAENES2018_Cleaned['Age_point']!= 99] \n",
    "merged_dfNHAENES2018_Cleaned.shape"
   ]
  },
  {
   "cell_type": "code",
   "execution_count": 13,
   "id": "292a2856",
   "metadata": {},
   "outputs": [
    {
     "data": {
      "text/plain": [
       "(339, 20)"
      ]
     },
     "execution_count": 13,
     "metadata": {},
     "output_type": "execute_result"
    }
   ],
   "source": [
    "# Processing Gender\n",
    "merged_dfNHAENES2018_Cleaned= merged_dfNHAENES2018_Cleaned.dropna(subset=['RIAGENDR'])\n",
    "def classify(row):\n",
    "    if row['RIAGENDR']   == 1 :\n",
    "        return 1\n",
    "    elif row['RIAGENDR'] == 2:\n",
    "        return 0\n",
    "    else:\n",
    "        return 99\n",
    "merged_dfNHAENES2018_Cleaned['Gender_point']  = merged_dfNHAENES2018_Cleaned.apply(lambda row: classify(row), axis=1)\n",
    "merged_dfNHAENES2018_Cleaned= merged_dfNHAENES2018_Cleaned[merged_dfNHAENES2018_Cleaned['Gender_point']!= 99] \n",
    "merged_dfNHAENES2018_Cleaned.shape"
   ]
  },
  {
   "cell_type": "code",
   "execution_count": 14,
   "id": "a8611be7",
   "metadata": {},
   "outputs": [
    {
     "data": {
      "text/plain": [
       "(339, 21)"
      ]
     },
     "execution_count": 14,
     "metadata": {},
     "output_type": "execute_result"
    }
   ],
   "source": [
    "# Processing Family History\n",
    "\n",
    "#merged_dfNHAENES2018_Cleaned= merged_dfNHAENES2018_Cleaned.dropna(subset=['DIQ175A'])\n",
    "def classify(row):\n",
    "    if row['DIQ175A']   == 10 :\n",
    "        return 1\n",
    "    else:\n",
    "        return 0\n",
    "merged_dfNHAENES2018_Cleaned['Family_History_point']  = merged_dfNHAENES2018_Cleaned.apply(lambda row: classify(row), axis=1)\n",
    "merged_dfNHAENES2018_Cleaned.shape"
   ]
  },
  {
   "cell_type": "code",
   "execution_count": 15,
   "id": "9412c51b",
   "metadata": {},
   "outputs": [],
   "source": [
    "# Processing Blood Pressure  if age is 12 \n",
    "# merged_dfNHAENES2018_Cleaned= merged_dfNHAENES2018_Cleaned.dropna(subset=['BPXOSY1','BPXODI1'])\n",
    "#merged_dfNHAENES2018_Cleaned.shape"
   ]
  },
  {
   "cell_type": "code",
   "execution_count": 16,
   "id": "16326f0e",
   "metadata": {
    "tags": []
   },
   "outputs": [
    {
     "data": {
      "text/plain": [
       "(339, 22)"
      ]
     },
     "execution_count": 16,
     "metadata": {},
     "output_type": "execute_result"
    }
   ],
   "source": [
    "def classify(row):\n",
    "    if  row['RIDAGEYR'] <= 30:\n",
    "        return 0 \n",
    "    elif row['BPXOSY1'] >= 125 or row['BPXODI1'] >= 85:\n",
    "        return 1\n",
    "    elif row['BPXOSY1'] < 125 and row['BPXODI1'] < 85:\n",
    "        return 0\n",
    "    else:\n",
    "        return 1\n",
    "merged_dfNHAENES2018_Cleaned['Diagnosed_BP_point']  = merged_dfNHAENES2018_Cleaned.apply(lambda row: classify(row), axis=1)\n",
    "merged_dfNHAENES2018_Cleaned.shape"
   ]
  },
  {
   "cell_type": "code",
   "execution_count": 17,
   "id": "961a06c8",
   "metadata": {},
   "outputs": [
    {
     "data": {
      "text/plain": [
       "(339, 22)"
      ]
     },
     "execution_count": 17,
     "metadata": {},
     "output_type": "execute_result"
    }
   ],
   "source": [
    "merged_dfNHAENES2018_Cleaned= merged_dfNHAENES2018_Cleaned[merged_dfNHAENES2018_Cleaned['Diagnosed_BP_point']!= 99] \n",
    "merged_dfNHAENES2018_Cleaned.shape"
   ]
  },
  {
   "cell_type": "code",
   "execution_count": 18,
   "id": "5fb637a0",
   "metadata": {},
   "outputs": [
    {
     "data": {
      "text/plain": [
       "(339, 23)"
      ]
     },
     "execution_count": 18,
     "metadata": {},
     "output_type": "execute_result"
    }
   ],
   "source": [
    "# Processing Physically Active cases\n",
    "def check_valid_column(row):    \n",
    "    if pd.notna(row['PAQ706']) >=3 and pd.notna(row['PAQ706'])  <= 7 and row['RIDAGEYR'] <= 17:\n",
    "        return 0                                      \n",
    "    elif (pd.notna(row['PAQ605']) == 1 or pd.notna(row['PAQ620'])  == 1 or pd.notna(row['PAQ650']) == 1 or pd.notna(row['PAQ665']) == 1) and  row['RIDAGEYR'] > 17 :\n",
    "        return  0\n",
    "    else:\n",
    "        return 1\n",
    "merged_dfNHAENES2018_Cleaned['Physically_Active_point']  = merged_dfNHAENES2018_Cleaned.apply(lambda row: check_valid_column(row), axis=1)\n",
    "merged_dfNHAENES2018_Cleaned.shape"
   ]
  },
  {
   "cell_type": "code",
   "execution_count": 19,
   "id": "3b011ac8",
   "metadata": {},
   "outputs": [
    {
     "data": {
      "text/plain": [
       "(339, 23)"
      ]
     },
     "execution_count": 19,
     "metadata": {},
     "output_type": "execute_result"
    }
   ],
   "source": [
    "merged_dfNHAENES2018_Cleaned= merged_dfNHAENES2018_Cleaned[merged_dfNHAENES2018_Cleaned['Physically_Active_point']!= 99] \n",
    "merged_dfNHAENES2018_Cleaned.shape"
   ]
  },
  {
   "cell_type": "code",
   "execution_count": 20,
   "id": "50bf0d55",
   "metadata": {},
   "outputs": [
    {
     "data": {
      "text/plain": [
       "(339, 23)"
      ]
     },
     "execution_count": 20,
     "metadata": {},
     "output_type": "execute_result"
    }
   ],
   "source": [
    "# Processing Body mass Index\n",
    "merged_dfNHAENES2018_Cleaned= merged_dfNHAENES2018_Cleaned.dropna(subset=['BMXBMI'])\n",
    "merged_dfNHAENES2018_Cleaned.shape"
   ]
  },
  {
   "cell_type": "code",
   "execution_count": 21,
   "id": "ae714744",
   "metadata": {},
   "outputs": [
    {
     "data": {
      "text/plain": [
       "(339, 24)"
      ]
     },
     "execution_count": 21,
     "metadata": {},
     "output_type": "execute_result"
    }
   ],
   "source": [
    "def classify(row):\n",
    "    if row['BMXBMI']   < 25 :\n",
    "        return 0\n",
    "    elif row['BMXBMI'] >= 25 and row['BMXBMI'] < 30:\n",
    "        return 1\n",
    "    elif row['BMXBMI'] >= 30 and row['BMXBMI'] < 40:\n",
    "        return 2\n",
    "    elif row['BMXBMI'] >= 40:  \n",
    "        return 3\n",
    "    else:\n",
    "        return 99\n",
    "merged_dfNHAENES2018_Cleaned['BMI_Point']  = merged_dfNHAENES2018_Cleaned.apply(lambda row: classify(row), axis=1)\n",
    "merged_dfNHAENES2018_Cleaned.shape"
   ]
  },
  {
   "cell_type": "code",
   "execution_count": 22,
   "id": "44abae81",
   "metadata": {},
   "outputs": [
    {
     "data": {
      "text/plain": [
       "(339, 24)"
      ]
     },
     "execution_count": 22,
     "metadata": {},
     "output_type": "execute_result"
    }
   ],
   "source": [
    "merged_dfNHAENES2018_Cleaned= merged_dfNHAENES2018_Cleaned[merged_dfNHAENES2018_Cleaned['BMI_Point']!= 99] \n",
    "merged_dfNHAENES2018_Cleaned.shape"
   ]
  },
  {
   "cell_type": "code",
   "execution_count": 23,
   "id": "5149a182",
   "metadata": {},
   "outputs": [
    {
     "data": {
      "text/plain": [
       "(339, 25)"
      ]
     },
     "execution_count": 23,
     "metadata": {},
     "output_type": "execute_result"
    }
   ],
   "source": [
    "# Processing Gestational Diabetes for Women\n",
    "def classify(row):\n",
    "    if row['Gender_point']   == 0 and (row['RHQ162'] == 1  or row['RHQ162'] == 3) :\n",
    "        return 1\n",
    "    else:\n",
    "        return 0\n",
    "merged_dfNHAENES2018_Cleaned['Gestational_Diabetes_point']  = merged_dfNHAENES2018_Cleaned.apply(lambda row: classify(row), axis=1)\n",
    "merged_dfNHAENES2018_Cleaned.shape"
   ]
  },
  {
   "cell_type": "code",
   "execution_count": 24,
   "id": "902f27a1",
   "metadata": {},
   "outputs": [
    {
     "data": {
      "text/plain": [
       "(339, 25)"
      ]
     },
     "execution_count": 24,
     "metadata": {},
     "output_type": "execute_result"
    }
   ],
   "source": [
    "merged_dfNHAENES2018_Cleaned= merged_dfNHAENES2018_Cleaned[merged_dfNHAENES2018_Cleaned['LBXGH'].notna()] \n",
    "merged_dfNHAENES2018_Cleaned.shape"
   ]
  },
  {
   "cell_type": "code",
   "execution_count": 25,
   "id": "df5d2740",
   "metadata": {},
   "outputs": [
    {
     "data": {
      "text/html": [
       "<div>\n",
       "<style scoped>\n",
       "    .dataframe tbody tr th:only-of-type {\n",
       "        vertical-align: middle;\n",
       "    }\n",
       "\n",
       "    .dataframe tbody tr th {\n",
       "        vertical-align: top;\n",
       "    }\n",
       "\n",
       "    .dataframe thead th {\n",
       "        text-align: right;\n",
       "    }\n",
       "</style>\n",
       "<table border=\"1\" class=\"dataframe\">\n",
       "  <thead>\n",
       "    <tr style=\"text-align: right;\">\n",
       "      <th></th>\n",
       "      <th>SEQN</th>\n",
       "      <th>RIDAGEYR</th>\n",
       "      <th>RIAGENDR</th>\n",
       "      <th>RHQ162</th>\n",
       "      <th>DIQ175A</th>\n",
       "      <th>BPXOSY1</th>\n",
       "      <th>BPXODI1</th>\n",
       "      <th>PAQ605</th>\n",
       "      <th>PAQ620</th>\n",
       "      <th>PAQ650</th>\n",
       "      <th>...</th>\n",
       "      <th>RIDRETH3</th>\n",
       "      <th>LBXGH</th>\n",
       "      <th>LBXGLU</th>\n",
       "      <th>Age_point</th>\n",
       "      <th>Gender_point</th>\n",
       "      <th>Family_History_point</th>\n",
       "      <th>Diagnosed_BP_point</th>\n",
       "      <th>Physically_Active_point</th>\n",
       "      <th>BMI_Point</th>\n",
       "      <th>Gestational_Diabetes_point</th>\n",
       "    </tr>\n",
       "  </thead>\n",
       "  <tbody>\n",
       "    <tr>\n",
       "      <th>0</th>\n",
       "      <td>93707.0</td>\n",
       "      <td>13.0</td>\n",
       "      <td>1.0</td>\n",
       "      <td>NaN</td>\n",
       "      <td>NaN</td>\n",
       "      <td>136.0</td>\n",
       "      <td>71.0</td>\n",
       "      <td>NaN</td>\n",
       "      <td>NaN</td>\n",
       "      <td>NaN</td>\n",
       "      <td>...</td>\n",
       "      <td>7.0</td>\n",
       "      <td>5.6</td>\n",
       "      <td>NaN</td>\n",
       "      <td>0</td>\n",
       "      <td>1</td>\n",
       "      <td>0</td>\n",
       "      <td>0</td>\n",
       "      <td>1</td>\n",
       "      <td>0</td>\n",
       "      <td>0</td>\n",
       "    </tr>\n",
       "    <tr>\n",
       "      <th>1</th>\n",
       "      <td>93715.0</td>\n",
       "      <td>71.0</td>\n",
       "      <td>1.0</td>\n",
       "      <td>NaN</td>\n",
       "      <td>NaN</td>\n",
       "      <td>126.0</td>\n",
       "      <td>78.0</td>\n",
       "      <td>1.0</td>\n",
       "      <td>1.0</td>\n",
       "      <td>1.0</td>\n",
       "      <td>...</td>\n",
       "      <td>7.0</td>\n",
       "      <td>6.2</td>\n",
       "      <td>NaN</td>\n",
       "      <td>2</td>\n",
       "      <td>1</td>\n",
       "      <td>0</td>\n",
       "      <td>1</td>\n",
       "      <td>0</td>\n",
       "      <td>0</td>\n",
       "      <td>0</td>\n",
       "    </tr>\n",
       "    <tr>\n",
       "      <th>2</th>\n",
       "      <td>93759.0</td>\n",
       "      <td>60.0</td>\n",
       "      <td>1.0</td>\n",
       "      <td>NaN</td>\n",
       "      <td>NaN</td>\n",
       "      <td>136.0</td>\n",
       "      <td>78.0</td>\n",
       "      <td>1.0</td>\n",
       "      <td>2.0</td>\n",
       "      <td>1.0</td>\n",
       "      <td>...</td>\n",
       "      <td>7.0</td>\n",
       "      <td>6.8</td>\n",
       "      <td>73.0</td>\n",
       "      <td>2</td>\n",
       "      <td>1</td>\n",
       "      <td>0</td>\n",
       "      <td>1</td>\n",
       "      <td>0</td>\n",
       "      <td>1</td>\n",
       "      <td>0</td>\n",
       "    </tr>\n",
       "    <tr>\n",
       "      <th>3</th>\n",
       "      <td>93780.0</td>\n",
       "      <td>46.0</td>\n",
       "      <td>2.0</td>\n",
       "      <td>2.0</td>\n",
       "      <td>NaN</td>\n",
       "      <td>120.0</td>\n",
       "      <td>80.0</td>\n",
       "      <td>2.0</td>\n",
       "      <td>2.0</td>\n",
       "      <td>2.0</td>\n",
       "      <td>...</td>\n",
       "      <td>7.0</td>\n",
       "      <td>5.3</td>\n",
       "      <td>109.0</td>\n",
       "      <td>1</td>\n",
       "      <td>0</td>\n",
       "      <td>0</td>\n",
       "      <td>0</td>\n",
       "      <td>0</td>\n",
       "      <td>2</td>\n",
       "      <td>0</td>\n",
       "    </tr>\n",
       "    <tr>\n",
       "      <th>4</th>\n",
       "      <td>93791.0</td>\n",
       "      <td>20.0</td>\n",
       "      <td>1.0</td>\n",
       "      <td>NaN</td>\n",
       "      <td>NaN</td>\n",
       "      <td>133.0</td>\n",
       "      <td>87.0</td>\n",
       "      <td>1.0</td>\n",
       "      <td>1.0</td>\n",
       "      <td>1.0</td>\n",
       "      <td>...</td>\n",
       "      <td>7.0</td>\n",
       "      <td>5.1</td>\n",
       "      <td>NaN</td>\n",
       "      <td>0</td>\n",
       "      <td>1</td>\n",
       "      <td>0</td>\n",
       "      <td>0</td>\n",
       "      <td>0</td>\n",
       "      <td>2</td>\n",
       "      <td>0</td>\n",
       "    </tr>\n",
       "    <tr>\n",
       "      <th>...</th>\n",
       "      <td>...</td>\n",
       "      <td>...</td>\n",
       "      <td>...</td>\n",
       "      <td>...</td>\n",
       "      <td>...</td>\n",
       "      <td>...</td>\n",
       "      <td>...</td>\n",
       "      <td>...</td>\n",
       "      <td>...</td>\n",
       "      <td>...</td>\n",
       "      <td>...</td>\n",
       "      <td>...</td>\n",
       "      <td>...</td>\n",
       "      <td>...</td>\n",
       "      <td>...</td>\n",
       "      <td>...</td>\n",
       "      <td>...</td>\n",
       "      <td>...</td>\n",
       "      <td>...</td>\n",
       "      <td>...</td>\n",
       "      <td>...</td>\n",
       "    </tr>\n",
       "    <tr>\n",
       "      <th>334</th>\n",
       "      <td>102695.0</td>\n",
       "      <td>14.0</td>\n",
       "      <td>2.0</td>\n",
       "      <td>NaN</td>\n",
       "      <td>NaN</td>\n",
       "      <td>99.0</td>\n",
       "      <td>58.0</td>\n",
       "      <td>NaN</td>\n",
       "      <td>NaN</td>\n",
       "      <td>NaN</td>\n",
       "      <td>...</td>\n",
       "      <td>7.0</td>\n",
       "      <td>5.6</td>\n",
       "      <td>92.0</td>\n",
       "      <td>0</td>\n",
       "      <td>0</td>\n",
       "      <td>0</td>\n",
       "      <td>0</td>\n",
       "      <td>1</td>\n",
       "      <td>0</td>\n",
       "      <td>0</td>\n",
       "    </tr>\n",
       "    <tr>\n",
       "      <th>335</th>\n",
       "      <td>102838.0</td>\n",
       "      <td>41.0</td>\n",
       "      <td>1.0</td>\n",
       "      <td>NaN</td>\n",
       "      <td>NaN</td>\n",
       "      <td>132.0</td>\n",
       "      <td>86.0</td>\n",
       "      <td>2.0</td>\n",
       "      <td>2.0</td>\n",
       "      <td>2.0</td>\n",
       "      <td>...</td>\n",
       "      <td>7.0</td>\n",
       "      <td>5.4</td>\n",
       "      <td>101.0</td>\n",
       "      <td>1</td>\n",
       "      <td>1</td>\n",
       "      <td>0</td>\n",
       "      <td>1</td>\n",
       "      <td>0</td>\n",
       "      <td>2</td>\n",
       "      <td>0</td>\n",
       "    </tr>\n",
       "    <tr>\n",
       "      <th>336</th>\n",
       "      <td>102854.0</td>\n",
       "      <td>45.0</td>\n",
       "      <td>1.0</td>\n",
       "      <td>NaN</td>\n",
       "      <td>10.0</td>\n",
       "      <td>131.0</td>\n",
       "      <td>81.0</td>\n",
       "      <td>1.0</td>\n",
       "      <td>1.0</td>\n",
       "      <td>2.0</td>\n",
       "      <td>...</td>\n",
       "      <td>7.0</td>\n",
       "      <td>6.4</td>\n",
       "      <td>NaN</td>\n",
       "      <td>1</td>\n",
       "      <td>1</td>\n",
       "      <td>1</td>\n",
       "      <td>1</td>\n",
       "      <td>0</td>\n",
       "      <td>3</td>\n",
       "      <td>0</td>\n",
       "    </tr>\n",
       "    <tr>\n",
       "      <th>337</th>\n",
       "      <td>102911.0</td>\n",
       "      <td>55.0</td>\n",
       "      <td>2.0</td>\n",
       "      <td>2.0</td>\n",
       "      <td>10.0</td>\n",
       "      <td>135.0</td>\n",
       "      <td>70.0</td>\n",
       "      <td>2.0</td>\n",
       "      <td>2.0</td>\n",
       "      <td>2.0</td>\n",
       "      <td>...</td>\n",
       "      <td>7.0</td>\n",
       "      <td>5.8</td>\n",
       "      <td>NaN</td>\n",
       "      <td>1</td>\n",
       "      <td>0</td>\n",
       "      <td>1</td>\n",
       "      <td>1</td>\n",
       "      <td>0</td>\n",
       "      <td>0</td>\n",
       "      <td>0</td>\n",
       "    </tr>\n",
       "    <tr>\n",
       "      <th>338</th>\n",
       "      <td>102926.0</td>\n",
       "      <td>15.0</td>\n",
       "      <td>2.0</td>\n",
       "      <td>NaN</td>\n",
       "      <td>NaN</td>\n",
       "      <td>107.0</td>\n",
       "      <td>61.0</td>\n",
       "      <td>NaN</td>\n",
       "      <td>NaN</td>\n",
       "      <td>NaN</td>\n",
       "      <td>...</td>\n",
       "      <td>7.0</td>\n",
       "      <td>5.5</td>\n",
       "      <td>94.0</td>\n",
       "      <td>0</td>\n",
       "      <td>0</td>\n",
       "      <td>0</td>\n",
       "      <td>0</td>\n",
       "      <td>1</td>\n",
       "      <td>0</td>\n",
       "      <td>0</td>\n",
       "    </tr>\n",
       "  </tbody>\n",
       "</table>\n",
       "<p>339 rows × 25 columns</p>\n",
       "</div>"
      ],
      "text/plain": [
       "         SEQN  RIDAGEYR  RIAGENDR  RHQ162  DIQ175A  BPXOSY1  BPXODI1  PAQ605  \\\n",
       "0     93707.0      13.0       1.0     NaN      NaN    136.0     71.0     NaN   \n",
       "1     93715.0      71.0       1.0     NaN      NaN    126.0     78.0     1.0   \n",
       "2     93759.0      60.0       1.0     NaN      NaN    136.0     78.0     1.0   \n",
       "3     93780.0      46.0       2.0     2.0      NaN    120.0     80.0     2.0   \n",
       "4     93791.0      20.0       1.0     NaN      NaN    133.0     87.0     1.0   \n",
       "..        ...       ...       ...     ...      ...      ...      ...     ...   \n",
       "334  102695.0      14.0       2.0     NaN      NaN     99.0     58.0     NaN   \n",
       "335  102838.0      41.0       1.0     NaN      NaN    132.0     86.0     2.0   \n",
       "336  102854.0      45.0       1.0     NaN     10.0    131.0     81.0     1.0   \n",
       "337  102911.0      55.0       2.0     2.0     10.0    135.0     70.0     2.0   \n",
       "338  102926.0      15.0       2.0     NaN      NaN    107.0     61.0     NaN   \n",
       "\n",
       "     PAQ620  PAQ650  ...  RIDRETH3  LBXGH  LBXGLU  Age_point  Gender_point  \\\n",
       "0       NaN     NaN  ...       7.0    5.6     NaN          0             1   \n",
       "1       1.0     1.0  ...       7.0    6.2     NaN          2             1   \n",
       "2       2.0     1.0  ...       7.0    6.8    73.0          2             1   \n",
       "3       2.0     2.0  ...       7.0    5.3   109.0          1             0   \n",
       "4       1.0     1.0  ...       7.0    5.1     NaN          0             1   \n",
       "..      ...     ...  ...       ...    ...     ...        ...           ...   \n",
       "334     NaN     NaN  ...       7.0    5.6    92.0          0             0   \n",
       "335     2.0     2.0  ...       7.0    5.4   101.0          1             1   \n",
       "336     1.0     2.0  ...       7.0    6.4     NaN          1             1   \n",
       "337     2.0     2.0  ...       7.0    5.8     NaN          1             0   \n",
       "338     NaN     NaN  ...       7.0    5.5    94.0          0             0   \n",
       "\n",
       "     Family_History_point  Diagnosed_BP_point  Physically_Active_point  \\\n",
       "0                       0                   0                        1   \n",
       "1                       0                   1                        0   \n",
       "2                       0                   1                        0   \n",
       "3                       0                   0                        0   \n",
       "4                       0                   0                        0   \n",
       "..                    ...                 ...                      ...   \n",
       "334                     0                   0                        1   \n",
       "335                     0                   1                        0   \n",
       "336                     1                   1                        0   \n",
       "337                     1                   1                        0   \n",
       "338                     0                   0                        1   \n",
       "\n",
       "     BMI_Point  Gestational_Diabetes_point  \n",
       "0            0                           0  \n",
       "1            0                           0  \n",
       "2            1                           0  \n",
       "3            2                           0  \n",
       "4            2                           0  \n",
       "..         ...                         ...  \n",
       "334          0                           0  \n",
       "335          2                           0  \n",
       "336          3                           0  \n",
       "337          0                           0  \n",
       "338          0                           0  \n",
       "\n",
       "[339 rows x 25 columns]"
      ]
     },
     "execution_count": 25,
     "metadata": {},
     "output_type": "execute_result"
    }
   ],
   "source": [
    "merged_dfNHAENES2018_Cleaned"
   ]
  },
  {
   "cell_type": "code",
   "execution_count": 26,
   "id": "85320ffc",
   "metadata": {},
   "outputs": [],
   "source": [
    "# Processing Calculating the Score and categorizing to high and low risk\n",
    "merged_dfNHAENES2018_Cleaned['Tool_Total_points'] = merged_dfNHAENES2018_Cleaned[['Age_point' ,\n",
    "                                                                            'Gender_point',\n",
    "                                                                            'Family_History_point',\n",
    "                                                                            'Diagnosed_BP_point',\n",
    "                                                                            'Physically_Active_point',\n",
    "                                                                            'BMI_Point', \n",
    "                                                                            'Gestational_Diabetes_point']].sum(axis=1)\n",
    "def classify(row):\n",
    "    if row['Tool_Total_points']   < 5 :\n",
    "        return \"Low Risk\"\n",
    "    else:\n",
    "        return \"High Risk\"\n",
    "merged_dfNHAENES2018_Cleaned['Tool_Risk_Category'] = merged_dfNHAENES2018_Cleaned.apply(lambda row: classify(row), axis=1)"
   ]
  },
  {
   "cell_type": "code",
   "execution_count": 27,
   "id": "46a08224",
   "metadata": {},
   "outputs": [],
   "source": [
    "#print(merged_dfNHAENES2018_Cleaned)"
   ]
  },
  {
   "cell_type": "code",
   "execution_count": 28,
   "id": "2a659cf5",
   "metadata": {},
   "outputs": [],
   "source": [
    "def classify(row):\n",
    "    if row['LBXGH']     < 5.7 :\n",
    "        return 0\n",
    "    elif row ['LBXGH'] >= 5.7:\n",
    "        return 1\n",
    "#print(dataset_for_ML['LBXGH'])\n",
    "merged_dfNHAENES2018_Cleaned['HbA1c_Risk']=  merged_dfNHAENES2018_Cleaned.apply(lambda row: classify(row), axis=1)"
   ]
  },
  {
   "cell_type": "code",
   "execution_count": 29,
   "id": "7264460c",
   "metadata": {},
   "outputs": [],
   "source": [
    "def classify(row):\n",
    "    if row['HbA1c_Risk']   == 0 :\n",
    "        return \"Low Risk\"\n",
    "    else:\n",
    "        return \"High Risk\"\n",
    "merged_dfNHAENES2018_Cleaned['HbA1c_Risk_Category'] = merged_dfNHAENES2018_Cleaned.apply(lambda row: classify(row), axis=1)"
   ]
  },
  {
   "cell_type": "code",
   "execution_count": 30,
   "id": "4c1ce5eb",
   "metadata": {},
   "outputs": [
    {
     "name": "stdout",
     "output_type": "stream",
     "text": [
      "         SEQN  RIDAGEYR  RIAGENDR  RHQ162  DIQ175A  BPXOSY1  BPXODI1  PAQ605  \\\n",
      "0     93707.0      13.0       1.0     NaN      NaN    136.0     71.0     NaN   \n",
      "1     93715.0      71.0       1.0     NaN      NaN    126.0     78.0     1.0   \n",
      "2     93759.0      60.0       1.0     NaN      NaN    136.0     78.0     1.0   \n",
      "3     93780.0      46.0       2.0     2.0      NaN    120.0     80.0     2.0   \n",
      "4     93791.0      20.0       1.0     NaN      NaN    133.0     87.0     1.0   \n",
      "..        ...       ...       ...     ...      ...      ...      ...     ...   \n",
      "334  102695.0      14.0       2.0     NaN      NaN     99.0     58.0     NaN   \n",
      "335  102838.0      41.0       1.0     NaN      NaN    132.0     86.0     2.0   \n",
      "336  102854.0      45.0       1.0     NaN     10.0    131.0     81.0     1.0   \n",
      "337  102911.0      55.0       2.0     2.0     10.0    135.0     70.0     2.0   \n",
      "338  102926.0      15.0       2.0     NaN      NaN    107.0     61.0     NaN   \n",
      "\n",
      "     PAQ620  PAQ650  ...  Gender_point  Family_History_point  \\\n",
      "0       NaN     NaN  ...             1                     0   \n",
      "1       1.0     1.0  ...             1                     0   \n",
      "2       2.0     1.0  ...             1                     0   \n",
      "3       2.0     2.0  ...             0                     0   \n",
      "4       1.0     1.0  ...             1                     0   \n",
      "..      ...     ...  ...           ...                   ...   \n",
      "334     NaN     NaN  ...             0                     0   \n",
      "335     2.0     2.0  ...             1                     0   \n",
      "336     1.0     2.0  ...             1                     1   \n",
      "337     2.0     2.0  ...             0                     1   \n",
      "338     NaN     NaN  ...             0                     0   \n",
      "\n",
      "     Diagnosed_BP_point  Physically_Active_point  BMI_Point  \\\n",
      "0                     0                        1          0   \n",
      "1                     1                        0          0   \n",
      "2                     1                        0          1   \n",
      "3                     0                        0          2   \n",
      "4                     0                        0          2   \n",
      "..                  ...                      ...        ...   \n",
      "334                   0                        1          0   \n",
      "335                   1                        0          2   \n",
      "336                   1                        0          3   \n",
      "337                   1                        0          0   \n",
      "338                   0                        1          0   \n",
      "\n",
      "     Gestational_Diabetes_point  Tool_Total_points  Tool_Risk_Category  \\\n",
      "0                             0                  2            Low Risk   \n",
      "1                             0                  4            Low Risk   \n",
      "2                             0                  5           High Risk   \n",
      "3                             0                  3            Low Risk   \n",
      "4                             0                  3            Low Risk   \n",
      "..                          ...                ...                 ...   \n",
      "334                           0                  1            Low Risk   \n",
      "335                           0                  5           High Risk   \n",
      "336                           0                  7           High Risk   \n",
      "337                           0                  3            Low Risk   \n",
      "338                           0                  1            Low Risk   \n",
      "\n",
      "     HbA1c_Risk  HbA1c_Risk_Category  \n",
      "0             0             Low Risk  \n",
      "1             1            High Risk  \n",
      "2             1            High Risk  \n",
      "3             0             Low Risk  \n",
      "4             0             Low Risk  \n",
      "..          ...                  ...  \n",
      "334           0             Low Risk  \n",
      "335           0             Low Risk  \n",
      "336           1            High Risk  \n",
      "337           1            High Risk  \n",
      "338           0             Low Risk  \n",
      "\n",
      "[339 rows x 29 columns]\n"
     ]
    }
   ],
   "source": [
    "print(merged_dfNHAENES2018_Cleaned)"
   ]
  },
  {
   "cell_type": "code",
   "execution_count": 31,
   "id": "00106a69",
   "metadata": {},
   "outputs": [],
   "source": [
    "# Save the merged DataFrame to a new CSV file\n",
    "merged_dfNHAENES2018.to_csv('C:\\Prakash\\Personal\\Studies\\Techincal\\MTech. Data Science and Engineering\\Semester-wise\\Semester-I\\Study\\Sem-I - 0- Python Fundamentals for Data Science (S1-22_DSECLPFDS)\\PythonPgm\\MTech-Proj03-NHANES-2018\\Data\\After_Screening_Tool_Data.csv', index=False)"
   ]
  },
  {
   "cell_type": "code",
   "execution_count": 32,
   "id": "e0654f5c",
   "metadata": {},
   "outputs": [
    {
     "name": "stdout",
     "output_type": "stream",
     "text": [
      "Out of the sample we have 78 Tool High risk category and 261 Tool Low Risk Category\n"
     ]
    }
   ],
   "source": [
    "# Calculating and Displaying the counts tool data alone\n",
    "Tool_High_Risk_condition = merged_dfNHAENES2018_Cleaned['Tool_Total_points'] >= 5\n",
    "Tool_High_Risk_count= Tool_High_Risk_condition.sum()\n",
    "Tool_Low_Risk_condition = merged_dfNHAENES2018_Cleaned['Tool_Total_points']  < 5\n",
    "Tool_Low_Risk_count= Tool_Low_Risk_condition.sum()\n",
    "print(\"Out of the sample we have \"+ str(Tool_High_Risk_count) +\" Tool High risk category and \" +str(Tool_Low_Risk_count) + \" Tool Low Risk Category\")"
   ]
  },
  {
   "cell_type": "code",
   "execution_count": 33,
   "id": "dd6dfce8",
   "metadata": {},
   "outputs": [
    {
     "name": "stdout",
     "output_type": "stream",
     "text": [
      "Out of the sample we have 115 High High risk category and 224 High Low Risk Category\n"
     ]
    }
   ],
   "source": [
    "# Calculating and Displaying the counts HbA1c data alone\n",
    "HbA1c_High_Risk_condition = merged_dfNHAENES2018_Cleaned['HbA1c_Risk'] == 1\n",
    "HbA1c_High_Risk_count= HbA1c_High_Risk_condition.sum()\n",
    "HbA1c_Low_Risk_condition = merged_dfNHAENES2018_Cleaned['HbA1c_Risk']  == 0\n",
    "HbA1c_Low_Risk_count= HbA1c_Low_Risk_condition.sum()\n",
    "print(\"Out of the sample we have \"+ str(HbA1c_High_Risk_count) +\" High High risk category and \" +str(HbA1c_Low_Risk_count) + \" High Low Risk Category\")"
   ]
  },
  {
   "cell_type": "code",
   "execution_count": 34,
   "id": "16f81fef",
   "metadata": {},
   "outputs": [],
   "source": [
    "# Classifying the TP, TN, FP, and FN.\n",
    "TP =((merged_dfNHAENES2018_Cleaned['HbA1c_Risk'] == 1) & (merged_dfNHAENES2018_Cleaned['Tool_Total_points'] >= 5)).sum()\n",
    "TN =((merged_dfNHAENES2018_Cleaned['HbA1c_Risk'] == 0) & (merged_dfNHAENES2018_Cleaned['Tool_Total_points'] <  5)).sum()\n",
    "FP =((merged_dfNHAENES2018_Cleaned['HbA1c_Risk'] == 0) & (merged_dfNHAENES2018_Cleaned['Tool_Total_points'] >= 5)).sum()\n",
    "FN =((merged_dfNHAENES2018_Cleaned['HbA1c_Risk'] == 1) & (merged_dfNHAENES2018_Cleaned['Tool_Total_points'] <  5)).sum()\n"
   ]
  },
  {
   "cell_type": "code",
   "execution_count": 35,
   "id": "5d36ba49",
   "metadata": {
    "tags": []
   },
   "outputs": [
    {
     "name": "stdout",
     "output_type": "stream",
     "text": [
      "True Positives  (TP): 57\n",
      "True Negatives  (TN): 203\n",
      "False Positives (FP): 21\n",
      "False Negatives (FN): 58\n"
     ]
    }
   ],
   "source": [
    "print(f\"True Positives  (TP): {TP}\")\n",
    "print(f\"True Negatives  (TN): {TN}\")\n",
    "print(f\"False Positives (FP): {FP}\")\n",
    "print(f\"False Negatives (FN): {FN}\")"
   ]
  },
  {
   "cell_type": "code",
   "execution_count": 36,
   "id": "ac72c21d-00a3-419e-a9e1-ff903ed42dc5",
   "metadata": {
    "tags": []
   },
   "outputs": [],
   "source": [
    "Accuracy = (TP + TN) / (TP + TN + FP + FN) \n",
    "Precision = TP / (TP + FP)     \n",
    "Recall = TP / (TP + FN)  \n",
    "Specificity =TN / (TN + FP) \n",
    "F1_Score = 2 * (Precision * Recall) / (Precision + Recall)                                              "
   ]
  },
  {
   "cell_type": "code",
   "execution_count": 37,
   "id": "b8d63960-f695-46fc-94ec-107d536d7cef",
   "metadata": {
    "tags": []
   },
   "outputs": [
    {
     "name": "stdout",
     "output_type": "stream",
     "text": [
      "Accuracy    : 0.7670\n",
      "Precision   : 0.7308\n",
      "Recall      : 0.4957\n",
      "Specificity : 0.9062\n",
      "F1 Score    : 0.5907\n"
     ]
    }
   ],
   "source": [
    "print(f'Accuracy    : {Accuracy:.4f}')\n",
    "print(f'Precision   : {Precision:.4f}')\n",
    "print(f'Recall      : {Recall:.4f}')\n",
    "print(f'Specificity : {Specificity:.4f}')\n",
    "print(f'F1 Score    : {F1_Score:.4f}')"
   ]
  }
 ],
 "metadata": {
  "kernelspec": {
   "display_name": "Python 3 (ipykernel)",
   "language": "python",
   "name": "python3"
  },
  "language_info": {
   "codemirror_mode": {
    "name": "ipython",
    "version": 3
   },
   "file_extension": ".py",
   "mimetype": "text/x-python",
   "name": "python",
   "nbconvert_exporter": "python",
   "pygments_lexer": "ipython3",
   "version": "3.11.7"
  }
 },
 "nbformat": 4,
 "nbformat_minor": 5
}
